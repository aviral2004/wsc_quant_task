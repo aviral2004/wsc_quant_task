{
 "cells": [
  {
   "cell_type": "code",
   "execution_count": 10,
   "metadata": {},
   "outputs": [
    {
     "name": "stdout",
     "output_type": "stream",
     "text": [
      "The autoreload extension is already loaded. To reload it, use:\n",
      "  %reload_ext autoreload\n",
      "[*********************100%***********************]  1 of 1 completed\n"
     ]
    },
    {
     "data": {
      "text/html": [
       "<div>\n",
       "<style scoped>\n",
       "    .dataframe tbody tr th:only-of-type {\n",
       "        vertical-align: middle;\n",
       "    }\n",
       "\n",
       "    .dataframe tbody tr th {\n",
       "        vertical-align: top;\n",
       "    }\n",
       "\n",
       "    .dataframe thead th {\n",
       "        text-align: right;\n",
       "    }\n",
       "</style>\n",
       "<table border=\"1\" class=\"dataframe\">\n",
       "  <thead>\n",
       "    <tr style=\"text-align: right;\">\n",
       "      <th></th>\n",
       "      <th>Open</th>\n",
       "      <th>High</th>\n",
       "      <th>Low</th>\n",
       "      <th>Close</th>\n",
       "      <th>Adj Close</th>\n",
       "      <th>Volume</th>\n",
       "    </tr>\n",
       "    <tr>\n",
       "      <th>Date</th>\n",
       "      <th></th>\n",
       "      <th></th>\n",
       "      <th></th>\n",
       "      <th></th>\n",
       "      <th></th>\n",
       "      <th></th>\n",
       "    </tr>\n",
       "  </thead>\n",
       "  <tbody>\n",
       "    <tr>\n",
       "      <th>2022-01-03</th>\n",
       "      <td>462.000000</td>\n",
       "      <td>472.000000</td>\n",
       "      <td>460.100006</td>\n",
       "      <td>470.799988</td>\n",
       "      <td>463.565521</td>\n",
       "      <td>13124509</td>\n",
       "    </tr>\n",
       "    <tr>\n",
       "      <th>2022-01-04</th>\n",
       "      <td>472.500000</td>\n",
       "      <td>484.700012</td>\n",
       "      <td>471.049988</td>\n",
       "      <td>483.500000</td>\n",
       "      <td>476.070374</td>\n",
       "      <td>23296671</td>\n",
       "    </tr>\n",
       "    <tr>\n",
       "      <th>2022-01-05</th>\n",
       "      <td>481.899994</td>\n",
       "      <td>495.000000</td>\n",
       "      <td>479.149994</td>\n",
       "      <td>492.399994</td>\n",
       "      <td>484.833618</td>\n",
       "      <td>24694169</td>\n",
       "    </tr>\n",
       "    <tr>\n",
       "      <th>2022-01-06</th>\n",
       "      <td>487.700012</td>\n",
       "      <td>494.399994</td>\n",
       "      <td>485.399994</td>\n",
       "      <td>491.700012</td>\n",
       "      <td>484.144409</td>\n",
       "      <td>18190843</td>\n",
       "    </tr>\n",
       "    <tr>\n",
       "      <th>2022-01-07</th>\n",
       "      <td>493.450012</td>\n",
       "      <td>501.950012</td>\n",
       "      <td>489.450012</td>\n",
       "      <td>491.250000</td>\n",
       "      <td>483.701294</td>\n",
       "      <td>22746330</td>\n",
       "    </tr>\n",
       "    <tr>\n",
       "      <th>...</th>\n",
       "      <td>...</td>\n",
       "      <td>...</td>\n",
       "      <td>...</td>\n",
       "      <td>...</td>\n",
       "      <td>...</td>\n",
       "      <td>...</td>\n",
       "    </tr>\n",
       "    <tr>\n",
       "      <th>2023-04-24</th>\n",
       "      <td>543.799988</td>\n",
       "      <td>555.549988</td>\n",
       "      <td>543.500000</td>\n",
       "      <td>554.599976</td>\n",
       "      <td>554.599976</td>\n",
       "      <td>23335611</td>\n",
       "    </tr>\n",
       "    <tr>\n",
       "      <th>2023-04-25</th>\n",
       "      <td>555.000000</td>\n",
       "      <td>567.900024</td>\n",
       "      <td>555.000000</td>\n",
       "      <td>561.799988</td>\n",
       "      <td>561.799988</td>\n",
       "      <td>38142390</td>\n",
       "    </tr>\n",
       "    <tr>\n",
       "      <th>2023-04-26</th>\n",
       "      <td>562.000000</td>\n",
       "      <td>567.000000</td>\n",
       "      <td>556.450012</td>\n",
       "      <td>566.349976</td>\n",
       "      <td>566.349976</td>\n",
       "      <td>23143882</td>\n",
       "    </tr>\n",
       "    <tr>\n",
       "      <th>2023-04-27</th>\n",
       "      <td>565.000000</td>\n",
       "      <td>567.400024</td>\n",
       "      <td>561.099976</td>\n",
       "      <td>564.750000</td>\n",
       "      <td>564.750000</td>\n",
       "      <td>17845169</td>\n",
       "    </tr>\n",
       "    <tr>\n",
       "      <th>2023-04-28</th>\n",
       "      <td>567.799988</td>\n",
       "      <td>580.450012</td>\n",
       "      <td>565.500000</td>\n",
       "      <td>578.299988</td>\n",
       "      <td>578.299988</td>\n",
       "      <td>16183423</td>\n",
       "    </tr>\n",
       "  </tbody>\n",
       "</table>\n",
       "<p>327 rows × 6 columns</p>\n",
       "</div>"
      ],
      "text/plain": [
       "                  Open        High         Low       Close   Adj Close  \\\n",
       "Date                                                                     \n",
       "2022-01-03  462.000000  472.000000  460.100006  470.799988  463.565521   \n",
       "2022-01-04  472.500000  484.700012  471.049988  483.500000  476.070374   \n",
       "2022-01-05  481.899994  495.000000  479.149994  492.399994  484.833618   \n",
       "2022-01-06  487.700012  494.399994  485.399994  491.700012  484.144409   \n",
       "2022-01-07  493.450012  501.950012  489.450012  491.250000  483.701294   \n",
       "...                ...         ...         ...         ...         ...   \n",
       "2023-04-24  543.799988  555.549988  543.500000  554.599976  554.599976   \n",
       "2023-04-25  555.000000  567.900024  555.000000  561.799988  561.799988   \n",
       "2023-04-26  562.000000  567.000000  556.450012  566.349976  566.349976   \n",
       "2023-04-27  565.000000  567.400024  561.099976  564.750000  564.750000   \n",
       "2023-04-28  567.799988  580.450012  565.500000  578.299988  578.299988   \n",
       "\n",
       "              Volume  \n",
       "Date                  \n",
       "2022-01-03  13124509  \n",
       "2022-01-04  23296671  \n",
       "2022-01-05  24694169  \n",
       "2022-01-06  18190843  \n",
       "2022-01-07  22746330  \n",
       "...              ...  \n",
       "2023-04-24  23335611  \n",
       "2023-04-25  38142390  \n",
       "2023-04-26  23143882  \n",
       "2023-04-27  17845169  \n",
       "2023-04-28  16183423  \n",
       "\n",
       "[327 rows x 6 columns]"
      ]
     },
     "execution_count": 10,
     "metadata": {},
     "output_type": "execute_result"
    }
   ],
   "source": [
    "import yfinance as yf\n",
    "import pandas as pd\n",
    "import matplotlib.pyplot as plt\n",
    "import plotly.graph_objects as go\n",
    "import seaborn as sns\n",
    "sns.set_theme(style=\"darkgrid\")\n",
    "\n",
    "%load_ext autoreload\n",
    "%autoreload 2\n",
    "\n",
    "df = yf.download(\"SBIN.NS\", start=\"2022-01-01\", end=\"2023-04-30\", interval=\"1d\")\n",
    "df"
   ]
  },
  {
   "cell_type": "code",
   "execution_count": 11,
   "metadata": {},
   "outputs": [
    {
     "data": {
      "text/plain": [
       "[<matplotlib.lines.Line2D at 0x146192150>]"
      ]
     },
     "execution_count": 11,
     "metadata": {},
     "output_type": "execute_result"
    },
    {
     "data": {
      "image/png": "[encoded data removed]",
      "text/plain": [
       "<Figure size 640x480 with 1 Axes>"
      ]
     },
     "metadata": {},
     "output_type": "display_data"
    }
   ],
   "source": [
    "plt.plot(df['Close'])"
   ]
  },
  {
   "cell_type": "code",
   "execution_count": 4,
   "metadata": {},
   "outputs": [
    {
     "data": {
      "application/vnd.plotly.v1+json": {
       "config": {
        "plotlyServerURL": "https://plot.ly"
       },
       "data": [
        {
         "close": [
          470.79998779296875,
          483.5,
          492.3999938964844,
          491.70001220703125,
          491.25,
          503.6499938964844,
          505.95001220703125,
          510.25,
          511.3500061035156,
          508.3500061035156,
          514,
          506.79998779296875,
          515.7999877929688,
          511.3999938964844,
          502.70001220703125,
          494.1499938964844,
          514.6500244140625,
          528.9500122070312,
          523.4500122070312,
          538.2999877929688,
          532.2999877929688,
          539.7999877929688,
          540.0999755859375,
          530.2999877929688,
          533.25,
          531.3499755859375,
          535.25,
          540.5499877929688,
          529.5999755859375,
          501.3999938964844,
          524.7999877929688,
          516.7000122070312,
          512.9500122070312,
          515.2999877929688,
          511.8500061035156,
          498.3999938964844,
          498.70001220703125,
          472.6499938964844,
          482.95001220703125,
          483.20001220703125,
          474.25,
          467.3999938964844,
          461.95001220703125,
          440.29998779296875,
          440.29998779296875,
          451.70001220703125,
          468.70001220703125,
          470.3500061035156,
          485.1499938964844,
          485.8500061035156,
          492.75,
          501.8999938964844,
          490.6000061035156,
          493.70001220703125,
          490.6499938964844,
          487.1000061035156,
          490.70001220703125,
          497.5,
          495,
          494.29998779296875,
          493.54998779296875,
          508.20001220703125,
          512.4000244140625,
          509.3999938964844,
          513.9500122070312,
          514.9500122070312,
          516.0999755859375,
          514.9000244140625,
          512.8499755859375,
          517.7000122070312,
          509.5,
          511.79998779296875,
          509.29998779296875,
          516.2999877929688,
          500.6000061035156,
          494.75,
          505.5,
          497.25,
          507.5,
          496.29998779296875,
          491,
          479.6499938964844,
          480,
          483.95001220703125,
          475.8999938964844,
          475.20001220703125,
          476.54998779296875,
          462.6499938964844,
          444.6499938964844,
          455,
          467.29998779296875,
          458,
          447.5,
          462.3999938964844,
          460.8999938964844,
          462.04998779296875,
          454.1000061035156,
          468.8999938964844,
          468.95001220703125,
          474.6000061035156,
          468.1000061035156,
          468.29998779296875,
          469.8500061035156,
          464.5,
          463.70001220703125,
          463.3999938964844,
          471.29998779296875,
          466.95001220703125,
          461.8500061035156,
          445.8500061035156,
          448.1000061035156,
          451.3500061035156,
          441.6000061035156,
          441,
          434.70001220703125,
          450.75,
          447.6499938964844,
          451.3999938964844,
          454.25,
          461.20001220703125,
          464.25,
          459.1000061035156,
          465.8999938964844,
          466.8500061035156,
          473.45001220703125,
          472.1499938964844,
          479.95001220703125,
          486.75,
          488.54998779296875,
          488.20001220703125,
          484.95001220703125,
          486.5,
          479.3500061035156,
          479.1000061035156,
          490.29998779296875,
          497.95001220703125,
          508.6000061035156,
          512.0499877929688,
          513.7000122070312,
          517.7999877929688,
          514.2000122070312,
          528.2000122070312,
          532.4500122070312,
          528.3499755859375,
          533.75,
          542.0999755859375,
          540.8499755859375,
          533.25,
          531.0499877929688,
          520.4000244140625,
          514.7000122070312,
          524.75,
          530.7000122070312,
          525.9500122070312,
          528.1500244140625,
          532.3499755859375,
          520.3499755859375,
          511.29998779296875,
          521.9000244140625,
          519.2999877929688,
          520.4000244140625,
          523.7999877929688,
          514.8499755859375,
          531.25,
          533.2999877929688,
          536.7000122070312,
          538.9000244140625,
          537.7999877929688,
          532.8499755859375,
          544.6500244140625,
          553.3499755859375,
          554.9000244140625,
          558,
          571.75,
          572.1500244140625,
          561.7999877929688,
          572.25,
          574.0499877929688,
          569.7000122070312,
          567.2999877929688,
          550.5999755859375,
          543.2999877929688,
          536.5,
          524.8499755859375,
          521.75,
          530.5999755859375,
          519.75,
          532.7000122070312,
          537.2999877929688,
          530.2000122070312,
          530.75,
          527.4000244140625,
          533.7999877929688,
          521.4500122070312,
          527.2000122070312,
          543.6500244140625,
          562.4500122070312,
          553.4000244140625,
          555.4000244140625,
          560.8499755859375,
          570.5,
          578.5499877929688,
          579.6500244140625,
          570.75,
          573.7999877929688,
          576.9000244140625,
          573.8499755859375,
          584.9000244140625,
          593.9500122070312,
          614.1500244140625,
          615.5499877929688,
          605.75,
          601.2999877929688,
          592.5499877929688,
          600.8499755859375,
          599.75,
          599.0499877929688,
          602.7000122070312,
          598.0999755859375,
          599.0999755859375,
          607.6500244140625,
          609.3499755859375,
          607.4000244140625,
          608.5999755859375,
          608.5499877929688,
          602.4500122070312,
          608.0999755859375,
          607.5499877929688,
          617.2999877929688,
          608.9500122070312,
          607.0499877929688,
          611.6500244140625,
          616.5,
          613.0499877929688,
          616.75,
          625.5,
          615.9500122070312,
          603.3499755859375,
          604.4500122070312,
          604.4500122070312,
          593.4000244140625,
          593.4000244140625,
          574,
          597.0999755859375,
          601.9000244140625,
          601.0499877929688,
          611.7999877929688,
          613.7000122070312,
          612.2000122070312,
          612.4000244140625,
          605.2000122070312,
          605.0999755859375,
          600.6500244140625,
          607.7000122070312,
          595.1500244140625,
          596.7000122070312,
          594.9000244140625,
          600.0999755859375,
          603,
          592.9500122070312,
          591.4500122070312,
          589.8499755859375,
          592.2000122070312,
          600.4500122070312,
          594.3499755859375,
          568.7000122070312,
          539.9500122070312,
          538.2000122070312,
          553.5,
          527.3499755859375,
          528.0999755859375,
          544.2000122070312,
          545.4000244140625,
          547.0999755859375,
          549.75,
          550.7999877929688,
          553.0499877929688,
          537.5,
          540.8499755859375,
          542.25,
          540.0999755859375,
          531,
          525.1500244140625,
          523.4500122070312,
          516.3499755859375,
          521,
          521.0499877929688,
          527.7000122070312,
          522.7999877929688,
          536.7000122070312,
          533.75,
          561.2000122070312,
          561.7000122070312,
          564.7999877929688,
          558.9000244140625,
          547.3499755859375,
          530,
          525.4000244140625,
          517.5499877929688,
          524.5,
          529.7999877929688,
          519.2000122070312,
          521.8499755859375,
          521.5499877929688,
          512.75,
          505.3500061035156,
          510.1499938964844,
          508.1000061035156,
          516.5,
          523.75,
          526.75,
          523,
          527.6500244140625,
          526.2999877929688,
          532.0999755859375,
          528.2000122070312,
          532.9500122070312,
          544,
          545.8499755859375,
          540.2999877929688,
          544.7999877929688,
          543.1500244140625,
          554.5999755859375,
          561.7999877929688,
          566.3499755859375,
          564.75,
          578.2999877929688
         ],
         "high": [
          472,
          484.70001220703125,
          495,
          494.3999938964844,
          501.95001220703125,
          504.95001220703125,
          507.79998779296875,
          513.5,
          512.8499755859375,
          510.3500061035156,
          518.9000244140625,
          517.4500122070312,
          517.6500244140625,
          519.1500244140625,
          507.5,
          506.79998779296875,
          517.5,
          530.8499755859375,
          536.4000244140625,
          540.9000244140625,
          543.9500122070312,
          544.25,
          544.7000122070312,
          546.4000244140625,
          549,
          537.6500244140625,
          536.5,
          543.9500122070312,
          537.7000122070312,
          515.5999755859375,
          526.8499755859375,
          528,
          520,
          520.9000244140625,
          517.5,
          505.29998779296875,
          505.3500061035156,
          487.95001220703125,
          491.8999938964844,
          485.29998779296875,
          479.79998779296875,
          483.3999938964844,
          470.8999938964844,
          453.95001220703125,
          442.1000061035156,
          454.29998779296875,
          476.6499938964844,
          474.79998779296875,
          486,
          490.5,
          494.29998779296875,
          503.5,
          502,
          495.79998779296875,
          502.3999938964844,
          494.79998779296875,
          493.29998779296875,
          498.6000061035156,
          501.3999938964844,
          500.3999938964844,
          497.54998779296875,
          509.75,
          514.9000244140625,
          516.4000244140625,
          515.2000122070312,
          519.9000244140625,
          519.5,
          522,
          516.7000122070312,
          520.9000244140625,
          515,
          520.9500122070312,
          513.7000122070312,
          518,
          513.5,
          499.20001220703125,
          507.8999938964844,
          502.79998779296875,
          510,
          512.5,
          495,
          496.45001220703125,
          494,
          486.1000061035156,
          483.70001220703125,
          482.54998779296875,
          479,
          473,
          477,
          461.5,
          469.6499938964844,
          468.6000061035156,
          450,
          464,
          471.3999938964844,
          466.79998779296875,
          464.45001220703125,
          470.1000061035156,
          475,
          476.8999938964844,
          476.3999938964844,
          472,
          472.3500061035156,
          475.5,
          465.6000061035156,
          465.95001220703125,
          475.54998779296875,
          470.8999938964844,
          464.1499938964844,
          454.04998779296875,
          449.25,
          455.45001220703125,
          457.75,
          447.54998779296875,
          443.45001220703125,
          454.95001220703125,
          451.20001220703125,
          456.45001220703125,
          460.3500061035156,
          464.8500061035156,
          465.75,
          462.70001220703125,
          469.29998779296875,
          468.79998779296875,
          474.1499938964844,
          480,
          481,
          488.25,
          489.8999938964844,
          491.29998779296875,
          491.3500061035156,
          492.45001220703125,
          488.8999938964844,
          484.3999938964844,
          491.5,
          498.54998779296875,
          510.6000061035156,
          513.4000244140625,
          520.2000122070312,
          519,
          520.7999877929688,
          529.9500122070312,
          537.5,
          537,
          535,
          544.9000244140625,
          546.4000244140625,
          544,
          542.9000244140625,
          524,
          523.5,
          526,
          531.7999877929688,
          533.8499755859375,
          530.5499877929688,
          534.7999877929688,
          533.6500244140625,
          519.9000244140625,
          524,
          523,
          528.2999877929688,
          529.5,
          517,
          532.5,
          540.9000244140625,
          537.8499755859375,
          540.7999877929688,
          542.7000122070312,
          537.4500122070312,
          546.2999877929688,
          557,
          558.5999755859375,
          560,
          574.8499755859375,
          578.5,
          574,
          574.4000244140625,
          577.9500122070312,
          577.2999877929688,
          574,
          568,
          549,
          550.9000244140625,
          539.7999877929688,
          535.7000122070312,
          536.9000244140625,
          531.6500244140625,
          535.7999877929688,
          541.7999877929688,
          535.5999755859375,
          533.9000244140625,
          533.7000122070312,
          535,
          533.7999877929688,
          534.8499755859375,
          544.7000122070312,
          563.5,
          563.4500122070312,
          556.7999877929688,
          565.7999877929688,
          572.5,
          586.2000122070312,
          585,
          582.6500244140625,
          577.4500122070312,
          585.75,
          578.9500122070312,
          587.9500122070312,
          596.9500122070312,
          622.7000122070312,
          621,
          615.0999755859375,
          619.5499877929688,
          603.9500122070312,
          602.0999755859375,
          603.5,
          602.75,
          605.75,
          602.0999755859375,
          600.7000122070312,
          609.5999755859375,
          611.2999877929688,
          613.7000122070312,
          610.9000244140625,
          611.7999877929688,
          611.4000244140625,
          609.7999877929688,
          609.5999755859375,
          618,
          619.7999877929688,
          612.9000244140625,
          613.7999877929688,
          618,
          618.7000122070312,
          617.4000244140625,
          626.75,
          629.5499877929688,
          615.5999755859375,
          609.5,
          606.5,
          609.1500244140625,
          599,
          590.7000122070312,
          601.7000122070312,
          603.0999755859375,
          607,
          618,
          620.5499877929688,
          619.2000122070312,
          616.5999755859375,
          614.9500122070312,
          611.5999755859375,
          607.4500122070312,
          609,
          609,
          599.5,
          597.9000244140625,
          602.9000244140625,
          606.0999755859375,
          606,
          597.1500244140625,
          591.75,
          596.5999755859375,
          601.75,
          604.5999755859375,
          595.8499755859375,
          568.5499877929688,
          554.3499755859375,
          557,
          565,
          532.6500244140625,
          545.9500122070312,
          558.7999877929688,
          551.4000244140625,
          554.5,
          552,
          557.25,
          556.9000244140625,
          544.5999755859375,
          544.6500244140625,
          546.8499755859375,
          539.6500244140625,
          533.9500122070312,
          528.9500122070312,
          521.9000244140625,
          524,
          527.5,
          529.7999877929688,
          528.4500122070312,
          537.4000244140625,
          539.9000244140625,
          564.2999877929688,
          567.9000244140625,
          565.5,
          565.75,
          554.9500122070312,
          553.1500244140625,
          532.7999877929688,
          532,
          529.3499755859375,
          531.5999755859375,
          526.5999755859375,
          523.4500122070312,
          527,
          521,
          514.9500122070312,
          514.1500244140625,
          511.75,
          518,
          524.9000244140625,
          528.5,
          527.5999755859375,
          533.7000122070312,
          530.4000244140625,
          535.7000122070312,
          534,
          534.25,
          545,
          548.5,
          547.5,
          545.4500122070312,
          546.4000244140625,
          555.5499877929688,
          567.9000244140625,
          567,
          567.4000244140625,
          580.4500122070312
         ],
         "low": [
          460.1000061035156,
          471.04998779296875,
          479.1499938964844,
          485.3999938964844,
          489.45001220703125,
          492.5,
          499.25,
          508.5,
          507,
          505.1499938964844,
          507.54998779296875,
          505,
          500.29998779296875,
          508,
          498,
          488,
          489,
          503.20001220703125,
          521.4000244140625,
          527.0499877929688,
          520,
          531.3499755859375,
          537.1500244140625,
          527.2999877929688,
          525.25,
          519,
          527.75,
          534.4000244140625,
          527.0999755859375,
          499.70001220703125,
          497.1000061035156,
          514,
          511.1499938964844,
          510.1000061035156,
          504.6499938964844,
          495.5,
          497.25,
          468,
          479.29998779296875,
          473.1000061035156,
          467,
          464.6000061035156,
          457.6499938964844,
          433.45001220703125,
          425,
          438.54998779296875,
          461.6499938964844,
          462,
          470.54998779296875,
          480.6499938964844,
          489.3999938964844,
          498.29998779296875,
          489,
          477.25,
          489.20001220703125,
          483.5,
          486.6000061035156,
          481.95001220703125,
          491.70001220703125,
          492.29998779296875,
          492.20001220703125,
          491,
          506,
          507.70001220703125,
          506,
          510.04998779296875,
          512.3499755859375,
          513.2000122070312,
          504.3500061035156,
          513.75,
          504,
          505.1000061035156,
          507,
          512.2000122070312,
          499,
          490.04998779296875,
          498.45001220703125,
          491.8500061035156,
          496.5,
          494,
          481.29998779296875,
          477.5,
          478.6499938964844,
          471,
          473.79998779296875,
          473.5,
          463.6499938964844,
          456.3500061035156,
          439.75,
          438.8500061035156,
          456.1499938964844,
          457.1000061035156,
          444.45001220703125,
          454.1499938964844,
          459.5,
          460.20001220703125,
          452.04998779296875,
          452.5,
          467.5,
          471.1000061035156,
          465,
          464.70001220703125,
          466.1499938964844,
          463.5,
          456.5,
          460.5,
          463.20001220703125,
          462.45001220703125,
          458.6000061035156,
          442.1000061035156,
          443.3500061035156,
          448.6000061035156,
          440.1499938964844,
          437.25,
          430.70001220703125,
          437.6000061035156,
          444.6499938964844,
          446,
          453.20001220703125,
          458.04998779296875,
          458,
          458,
          458.6000061035156,
          460.54998779296875,
          466.8500061035156,
          471,
          473.8999938964844,
          481.6000061035156,
          485.1499938964844,
          485,
          483.1000061035156,
          484.54998779296875,
          476.79998779296875,
          474.70001220703125,
          482.1000061035156,
          488,
          500.3999938964844,
          506.75,
          511.20001220703125,
          509.1499938964844,
          513.0999755859375,
          512.25,
          529.5499877929688,
          526.75,
          526.4000244140625,
          531.0999755859375,
          534.6500244140625,
          524.2000122070312,
          529,
          513.8499755859375,
          513.4000244140625,
          517.2000122070312,
          525.1500244140625,
          525,
          524.3499755859375,
          526.2000122070312,
          518.5,
          510,
          508.25,
          512.2999877929688,
          518.5,
          522.2000122070312,
          508.75,
          517.9500122070312,
          522.25,
          531.25,
          536.2999877929688,
          534.0999755859375,
          531.5499877929688,
          535.5,
          548,
          551.25,
          553.75,
          549.25,
          567.9000244140625,
          560.2999877929688,
          559.5499877929688,
          572.8499755859375,
          565.4000244140625,
          562,
          549.5,
          533,
          533.2000122070312,
          520.3499755859375,
          519.5499877929688,
          516.1500244140625,
          518.5,
          527.7999877929688,
          534.5999755859375,
          526.5499877929688,
          522.2000122070312,
          525.5,
          526,
          520.2000122070312,
          526,
          524.2000122070312,
          546.75,
          551.5499877929688,
          545.2999877929688,
          557.25,
          565.9000244140625,
          568,
          577.5999755859375,
          567,
          568.4000244140625,
          574.5999755859375,
          569.9000244140625,
          568,
          580.4000244140625,
          607.7000122070312,
          610.5499877929688,
          602.2000122070312,
          598.5,
          591.6500244140625,
          592.6500244140625,
          596,
          596.1500244140625,
          597.1500244140625,
          595.3499755859375,
          596.1500244140625,
          601,
          605.7999877929688,
          606.25,
          602.3499755859375,
          607.0999755859375,
          598.4000244140625,
          601.5499877929688,
          604.25,
          607.5499877929688,
          607.7999877929688,
          604.5,
          607.1500244140625,
          609.0999755859375,
          611,
          612.5,
          617.5,
          614.2999877929688,
          602.0999755859375,
          603,
          599.5499877929688,
          589.5999755859375,
          587.5499877929688,
          571.5,
          570.7000122070312,
          593.2999877929688,
          598.5499877929688,
          597.1500244140625,
          611.3499755859375,
          611.2000122070312,
          610,
          604,
          601.9500122070312,
          597,
          600.0999755859375,
          590.5999755859375,
          592.25,
          590.0999755859375,
          593.6500244140625,
          600.5999755859375,
          586.0499877929688,
          587.5999755859375,
          587.5499877929688,
          590.7999877929688,
          592.9500122070312,
          593.0499877929688,
          567.4000244140625,
          532.25,
          525.2000122070312,
          537.8499755859375,
          499.3500061035156,
          502.5,
          519.1500244140625,
          536.5499877929688,
          541.0499877929688,
          545.5,
          542.7999877929688,
          546.5,
          533.2999877929688,
          530.75,
          536.7999877929688,
          538.5,
          527.75,
          522.1500244140625,
          522.4000244140625,
          512.5,
          511.3500061035156,
          517.5999755859375,
          519,
          521.0499877929688,
          523.0999755859375,
          532.5,
          541.75,
          559,
          556.4500122070312,
          558,
          545,
          528.4500122070312,
          520,
          515.5499877929688,
          514.2999877929688,
          520.0999755859375,
          515,
          516.4500122070312,
          520.0999755859375,
          511.5,
          503.45001220703125,
          501.54998779296875,
          503.8500061035156,
          506.29998779296875,
          519.3499755859375,
          522.0999755859375,
          519.0499877929688,
          521.6500244140625,
          524.4000244140625,
          527.1500244140625,
          526,
          527.1500244140625,
          528,
          540.5,
          538.25,
          536.6500244140625,
          539.7000122070312,
          543.5,
          555,
          556.4500122070312,
          561.0999755859375,
          565.5
         ],
         "open": [
          462,
          472.5,
          481.8999938964844,
          487.70001220703125,
          493.45001220703125,
          493.3500061035156,
          503,
          509.8999938964844,
          510,
          509,
          508,
          514,
          505,
          516,
          505.29998779296875,
          502.3999938964844,
          490,
          503.54998779296875,
          534,
          529,
          543.9500122070312,
          536.6500244140625,
          537.1500244140625,
          542.1500244140625,
          531.9000244140625,
          535.5,
          534.9500122070312,
          537.0999755859375,
          536.25,
          515,
          502,
          526.5,
          520,
          510.1000061035156,
          511.54998779296875,
          500.8999938964844,
          503,
          480,
          480,
          476.8999938964844,
          478,
          480,
          460.29998779296875,
          447.5,
          438,
          442,
          469.8999938964844,
          466.3999938964844,
          471,
          489,
          493,
          499,
          502,
          490.6000061035156,
          498.5,
          485,
          491.75,
          490.95001220703125,
          500,
          499.29998779296875,
          494.29998779296875,
          491,
          509.29998779296875,
          514.4000244140625,
          507,
          510.04998779296875,
          519.5,
          513.5,
          512.75,
          514.2999877929688,
          512,
          513.25,
          512,
          513.4000244140625,
          512.9000244140625,
          495,
          499,
          500,
          499.1499938964844,
          508.1000061035156,
          492.6499938964844,
          492,
          485,
          471,
          477.1000061035156,
          477,
          475.25,
          473,
          469.45001220703125,
          445,
          458.29998779296875,
          467.8999938964844,
          449.04998779296875,
          454.8500061035156,
          463.1000061035156,
          462.3999938964844,
          461,
          456.8500061035156,
          471.3999938964844,
          473,
          474,
          468,
          466.8999938964844,
          473.25,
          464.20001220703125,
          461.8500061035156,
          466.6000061035156,
          468.95001220703125,
          462,
          454,
          445,
          448.95001220703125,
          455.1499938964844,
          440,
          441.5,
          439.5,
          448.75,
          449,
          455.79998779296875,
          459.95001220703125,
          458.8999938964844,
          460,
          459,
          463.3500061035156,
          466.8500061035156,
          475.1499938964844,
          475.1499938964844,
          484,
          489,
          485,
          485,
          487.75,
          486.6000061035156,
          482.54998779296875,
          484.54998779296875,
          488,
          501,
          509.79998779296875,
          513.4500122070312,
          513.4000244140625,
          517.7000122070312,
          515.2999877929688,
          533.2000122070312,
          535.0499877929688,
          529.0499877929688,
          531.9000244140625,
          541.9000244140625,
          543.6500244140625,
          535.5499877929688,
          524,
          521.5499877929688,
          520,
          525.7000122070312,
          533.2999877929688,
          528.8499755859375,
          526.8499755859375,
          532,
          519,
          508.25,
          519,
          521.9500122070312,
          523.7999877929688,
          511.29998779296875,
          518.2000122070312,
          522.25,
          537,
          537,
          538,
          534.4000244140625,
          536,
          549.6500244140625,
          554.9000244140625,
          560,
          550,
          572.5499877929688,
          569.0999755859375,
          560.7000122070312,
          577.9500122070312,
          575,
          566.75,
          564.7999877929688,
          545.7999877929688,
          544.5499877929688,
          532.9000244140625,
          529,
          524,
          527.5999755859375,
          533,
          534.5999755859375,
          535.5,
          525.7000122070312,
          530.75,
          530,
          533,
          530.2000122070312,
          526.4000244140625,
          547.0999755859375,
          563,
          552,
          557.25,
          567,
          572.5,
          583.9500122070312,
          579.9500122070312,
          574.9500122070312,
          576.3499755859375,
          575.9000244140625,
          569,
          586,
          613,
          621,
          613.0999755859375,
          617.25,
          603.9500122070312,
          594.2999877929688,
          599.9500122070312,
          599.0999755859375,
          601,
          602.0999755859375,
          598.1500244140625,
          601.5499877929688,
          609.75,
          610.5499877929688,
          605.5999755859375,
          607.0999755859375,
          608.5,
          607.8499755859375,
          607.5,
          608.5,
          614.75,
          610.8499755859375,
          609.75,
          614.4000244140625,
          614.7999877929688,
          613.5,
          618.5,
          625.5499877929688,
          612,
          604,
          603,
          605.9000244140625,
          597,
          590,
          574,
          600.4000244140625,
          600.9000244140625,
          600,
          615.25,
          614.9500122070312,
          614.5,
          611.8499755859375,
          607,
          607.4000244140625,
          605,
          608.4500122070312,
          596.4500122070312,
          597.9000244140625,
          597.9000244140625,
          603,
          603,
          595.9000244140625,
          591,
          593.7999877929688,
          598.5,
          603.5,
          595.8499755859375,
          568,
          536,
          545,
          561.4000244140625,
          520.2000122070312,
          536,
          558.7999877929688,
          548,
          550,
          552,
          546.5,
          554,
          539.9500122070312,
          540,
          546.8499755859375,
          538.5,
          532,
          527.0999755859375,
          520.75,
          516.9500122070312,
          524.2000122070312,
          521.0999755859375,
          527.25,
          523.25,
          535.9500122070312,
          542,
          564.9000244140625,
          560,
          564.75,
          553.0999755859375,
          547,
          527.6500244140625,
          529.7999877929688,
          518.4000244140625,
          528.6500244140625,
          526.5999755859375,
          522,
          522.2000122070312,
          519.4000244140625,
          514.5,
          507,
          511.45001220703125,
          509,
          520.6500244140625,
          524.75,
          527,
          524,
          529.25,
          530.8499755859375,
          533.2000122070312,
          529.2999877929688,
          528,
          545.3499755859375,
          544,
          541.2000122070312,
          545,
          543.7999877929688,
          555,
          562,
          565,
          567.7999877929688
         ],
         "type": "candlestick",
         "x": [
          "2022-01-03T00:00:00",
          "2022-01-04T00:00:00",
          "2022-01-05T00:00:00",
          "2022-01-06T00:00:00",
          "2022-01-07T00:00:00",
          "2022-01-10T00:00:00",
          "2022-01-11T00:00:00",
          "2022-01-12T00:00:00",
          "2022-01-13T00:00:00",
          "2022-01-14T00:00:00",
          "2022-01-17T00:00:00",
          "2022-01-18T00:00:00",
          "2022-01-19T00:00:00",
          "2022-01-20T00:00:00",
          "2022-01-21T00:00:00",
          "2022-01-24T00:00:00",
          "2022-01-25T00:00:00",
          "2022-01-27T00:00:00",
          "2022-01-28T00:00:00",
          "2022-01-31T00:00:00",
          "2022-02-01T00:00:00",
          "2022-02-02T00:00:00",
          "2022-02-03T00:00:00",
          "2022-02-04T00:00:00",
          "2022-02-07T00:00:00",
          "2022-02-08T00:00:00",
          "2022-02-09T00:00:00",
          "2022-02-10T00:00:00",
          "2022-02-11T00:00:00",
          "2022-02-14T00:00:00",
          "2022-02-15T00:00:00",
          "2022-02-16T00:00:00",
          "2022-02-17T00:00:00",
          "2022-02-18T00:00:00",
          "2022-02-21T00:00:00",
          "2022-02-22T00:00:00",
          "2022-02-23T00:00:00",
          "2022-02-24T00:00:00",
          "2022-02-25T00:00:00",
          "2022-02-28T00:00:00",
          "2022-03-02T00:00:00",
          "2022-03-03T00:00:00",
          "2022-03-04T00:00:00",
          "2022-03-07T00:00:00",
          "2022-03-08T00:00:00",
          "2022-03-09T00:00:00",
          "2022-03-10T00:00:00",
          "2022-03-11T00:00:00",
          "2022-03-14T00:00:00",
          "2022-03-15T00:00:00",
          "2022-03-16T00:00:00",
          "2022-03-17T00:00:00",
          "2022-03-21T00:00:00",
          "2022-03-22T00:00:00",
          "2022-03-23T00:00:00",
          "2022-03-24T00:00:00",
          "2022-03-25T00:00:00",
          "2022-03-28T00:00:00",
          "2022-03-29T00:00:00",
          "2022-03-30T00:00:00",
          "2022-03-31T00:00:00",
          "2022-04-01T00:00:00",
          "2022-04-04T00:00:00",
          "2022-04-05T00:00:00",
          "2022-04-06T00:00:00",
          "2022-04-07T00:00:00",
          "2022-04-08T00:00:00",
          "2022-04-11T00:00:00",
          "2022-04-12T00:00:00",
          "2022-04-13T00:00:00",
          "2022-04-18T00:00:00",
          "2022-04-19T00:00:00",
          "2022-04-20T00:00:00",
          "2022-04-21T00:00:00",
          "2022-04-22T00:00:00",
          "2022-04-25T00:00:00",
          "2022-04-26T00:00:00",
          "2022-04-27T00:00:00",
          "2022-04-28T00:00:00",
          "2022-04-29T00:00:00",
          "2022-05-02T00:00:00",
          "2022-05-04T00:00:00",
          "2022-05-05T00:00:00",
          "2022-05-06T00:00:00",
          "2022-05-09T00:00:00",
          "2022-05-10T00:00:00",
          "2022-05-11T00:00:00",
          "2022-05-12T00:00:00",
          "2022-05-13T00:00:00",
          "2022-05-16T00:00:00",
          "2022-05-17T00:00:00",
          "2022-05-18T00:00:00",
          "2022-05-19T00:00:00",
          "2022-05-20T00:00:00",
          "2022-05-23T00:00:00",
          "2022-05-24T00:00:00",
          "2022-05-25T00:00:00",
          "2022-05-26T00:00:00",
          "2022-05-27T00:00:00",
          "2022-05-30T00:00:00",
          "2022-05-31T00:00:00",
          "2022-06-01T00:00:00",
          "2022-06-02T00:00:00",
          "2022-06-03T00:00:00",
          "2022-06-06T00:00:00",
          "2022-06-07T00:00:00",
          "2022-06-08T00:00:00",
          "2022-06-09T00:00:00",
          "2022-06-10T00:00:00",
          "2022-06-13T00:00:00",
          "2022-06-14T00:00:00",
          "2022-06-15T00:00:00",
          "2022-06-16T00:00:00",
          "2022-06-17T00:00:00",
          "2022-06-20T00:00:00",
          "2022-06-21T00:00:00",
          "2022-06-22T00:00:00",
          "2022-06-23T00:00:00",
          "2022-06-24T00:00:00",
          "2022-06-27T00:00:00",
          "2022-06-28T00:00:00",
          "2022-06-29T00:00:00",
          "2022-06-30T00:00:00",
          "2022-07-01T00:00:00",
          "2022-07-04T00:00:00",
          "2022-07-05T00:00:00",
          "2022-07-06T00:00:00",
          "2022-07-07T00:00:00",
          "2022-07-08T00:00:00",
          "2022-07-11T00:00:00",
          "2022-07-12T00:00:00",
          "2022-07-13T00:00:00",
          "2022-07-14T00:00:00",
          "2022-07-15T00:00:00",
          "2022-07-18T00:00:00",
          "2022-07-19T00:00:00",
          "2022-07-20T00:00:00",
          "2022-07-21T00:00:00",
          "2022-07-22T00:00:00",
          "2022-07-25T00:00:00",
          "2022-07-26T00:00:00",
          "2022-07-27T00:00:00",
          "2022-07-28T00:00:00",
          "2022-07-29T00:00:00",
          "2022-08-01T00:00:00",
          "2022-08-02T00:00:00",
          "2022-08-03T00:00:00",
          "2022-08-04T00:00:00",
          "2022-08-05T00:00:00",
          "2022-08-08T00:00:00",
          "2022-08-10T00:00:00",
          "2022-08-11T00:00:00",
          "2022-08-12T00:00:00",
          "2022-08-16T00:00:00",
          "2022-08-17T00:00:00",
          "2022-08-18T00:00:00",
          "2022-08-19T00:00:00",
          "2022-08-22T00:00:00",
          "2022-08-23T00:00:00",
          "2022-08-24T00:00:00",
          "2022-08-25T00:00:00",
          "2022-08-26T00:00:00",
          "2022-08-29T00:00:00",
          "2022-08-30T00:00:00",
          "2022-09-01T00:00:00",
          "2022-09-02T00:00:00",
          "2022-09-05T00:00:00",
          "2022-09-06T00:00:00",
          "2022-09-07T00:00:00",
          "2022-09-08T00:00:00",
          "2022-09-09T00:00:00",
          "2022-09-12T00:00:00",
          "2022-09-13T00:00:00",
          "2022-09-14T00:00:00",
          "2022-09-15T00:00:00",
          "2022-09-16T00:00:00",
          "2022-09-19T00:00:00",
          "2022-09-20T00:00:00",
          "2022-09-21T00:00:00",
          "2022-09-22T00:00:00",
          "2022-09-23T00:00:00",
          "2022-09-26T00:00:00",
          "2022-09-27T00:00:00",
          "2022-09-28T00:00:00",
          "2022-09-29T00:00:00",
          "2022-09-30T00:00:00",
          "2022-10-03T00:00:00",
          "2022-10-04T00:00:00",
          "2022-10-06T00:00:00",
          "2022-10-07T00:00:00",
          "2022-10-10T00:00:00",
          "2022-10-11T00:00:00",
          "2022-10-12T00:00:00",
          "2022-10-13T00:00:00",
          "2022-10-14T00:00:00",
          "2022-10-17T00:00:00",
          "2022-10-18T00:00:00",
          "2022-10-19T00:00:00",
          "2022-10-20T00:00:00",
          "2022-10-21T00:00:00",
          "2022-10-24T00:00:00",
          "2022-10-25T00:00:00",
          "2022-10-27T00:00:00",
          "2022-10-28T00:00:00",
          "2022-10-31T00:00:00",
          "2022-11-01T00:00:00",
          "2022-11-02T00:00:00",
          "2022-11-03T00:00:00",
          "2022-11-04T00:00:00",
          "2022-11-07T00:00:00",
          "2022-11-09T00:00:00",
          "2022-11-10T00:00:00",
          "2022-11-11T00:00:00",
          "2022-11-14T00:00:00",
          "2022-11-15T00:00:00",
          "2022-11-16T00:00:00",
          "2022-11-17T00:00:00",
          "2022-11-18T00:00:00",
          "2022-11-21T00:00:00",
          "2022-11-22T00:00:00",
          "2022-11-23T00:00:00",
          "2022-11-24T00:00:00",
          "2022-11-25T00:00:00",
          "2022-11-28T00:00:00",
          "2022-11-29T00:00:00",
          "2022-11-30T00:00:00",
          "2022-12-01T00:00:00",
          "2022-12-02T00:00:00",
          "2022-12-05T00:00:00",
          "2022-12-06T00:00:00",
          "2022-12-07T00:00:00",
          "2022-12-08T00:00:00",
          "2022-12-09T00:00:00",
          "2022-12-12T00:00:00",
          "2022-12-13T00:00:00",
          "2022-12-14T00:00:00",
          "2022-12-15T00:00:00",
          "2022-12-16T00:00:00",
          "2022-12-19T00:00:00",
          "2022-12-20T00:00:00",
          "2022-12-21T00:00:00",
          "2022-12-22T00:00:00",
          "2022-12-23T00:00:00",
          "2022-12-26T00:00:00",
          "2022-12-27T00:00:00",
          "2022-12-28T00:00:00",
          "2022-12-29T00:00:00",
          "2022-12-30T00:00:00",
          "2023-01-02T00:00:00",
          "2023-01-03T00:00:00",
          "2023-01-04T00:00:00",
          "2023-01-05T00:00:00",
          "2023-01-06T00:00:00",
          "2023-01-09T00:00:00",
          "2023-01-10T00:00:00",
          "2023-01-11T00:00:00",
          "2023-01-12T00:00:00",
          "2023-01-13T00:00:00",
          "2023-01-16T00:00:00",
          "2023-01-17T00:00:00",
          "2023-01-18T00:00:00",
          "2023-01-19T00:00:00",
          "2023-01-20T00:00:00",
          "2023-01-23T00:00:00",
          "2023-01-24T00:00:00",
          "2023-01-25T00:00:00",
          "2023-01-27T00:00:00",
          "2023-01-30T00:00:00",
          "2023-01-31T00:00:00",
          "2023-02-01T00:00:00",
          "2023-02-02T00:00:00",
          "2023-02-03T00:00:00",
          "2023-02-06T00:00:00",
          "2023-02-07T00:00:00",
          "2023-02-08T00:00:00",
          "2023-02-09T00:00:00",
          "2023-02-10T00:00:00",
          "2023-02-13T00:00:00",
          "2023-02-14T00:00:00",
          "2023-02-15T00:00:00",
          "2023-02-16T00:00:00",
          "2023-02-17T00:00:00",
          "2023-02-20T00:00:00",
          "2023-02-21T00:00:00",
          "2023-02-22T00:00:00",
          "2023-02-23T00:00:00",
          "2023-02-24T00:00:00",
          "2023-02-27T00:00:00",
          "2023-02-28T00:00:00",
          "2023-03-01T00:00:00",
          "2023-03-02T00:00:00",
          "2023-03-03T00:00:00",
          "2023-03-06T00:00:00",
          "2023-03-08T00:00:00",
          "2023-03-09T00:00:00",
          "2023-03-10T00:00:00",
          "2023-03-13T00:00:00",
          "2023-03-14T00:00:00",
          "2023-03-15T00:00:00",
          "2023-03-16T00:00:00",
          "2023-03-17T00:00:00",
          "2023-03-20T00:00:00",
          "2023-03-21T00:00:00",
          "2023-03-22T00:00:00",
          "2023-03-23T00:00:00",
          "2023-03-24T00:00:00",
          "2023-03-27T00:00:00",
          "2023-03-28T00:00:00",
          "2023-03-29T00:00:00",
          "2023-03-31T00:00:00",
          "2023-04-03T00:00:00",
          "2023-04-05T00:00:00",
          "2023-04-06T00:00:00",
          "2023-04-10T00:00:00",
          "2023-04-11T00:00:00",
          "2023-04-12T00:00:00",
          "2023-04-13T00:00:00",
          "2023-04-17T00:00:00",
          "2023-04-18T00:00:00",
          "2023-04-19T00:00:00",
          "2023-04-20T00:00:00",
          "2023-04-21T00:00:00",
          "2023-04-24T00:00:00",
          "2023-04-25T00:00:00",
          "2023-04-26T00:00:00",
          "2023-04-27T00:00:00",
          "2023-04-28T00:00:00"
         ]
        }
       ],
       "layout": {
        "template": {
         "data": {
          "bar": [
           {
            "error_x": {
             "color": "#2a3f5f"
            },
            "error_y": {
             "color": "#2a3f5f"
            },
            "marker": {
             "line": {
              "color": "#E5ECF6",
              "width": 0.5
             },
             "pattern": {
              "fillmode": "overlay",
              "size": 10,
              "solidity": 0.2
             }
            },
            "type": "bar"
           }
          ],
          "barpolar": [
           {
            "marker": {
             "line": {
              "color": "#E5ECF6",
              "width": 0.5
             },
             "pattern": {
              "fillmode": "overlay",
              "size": 10,
              "solidity": 0.2
             }
            },
            "type": "barpolar"
           }
          ],
          "carpet": [
           {
            "aaxis": {
             "endlinecolor": "#2a3f5f",
             "gridcolor": "white",
             "linecolor": "white",
             "minorgridcolor": "white",
             "startlinecolor": "#2a3f5f"
            },
            "baxis": {
             "endlinecolor": "#2a3f5f",
             "gridcolor": "white",
             "linecolor": "white",
             "minorgridcolor": "white",
             "startlinecolor": "#2a3f5f"
            },
            "type": "carpet"
           }
          ],
          "choropleth": [
           {
            "colorbar": {
             "outlinewidth": 0,
             "ticks": ""
            },
            "type": "choropleth"
           }
          ],
          "contour": [
           {
            "colorbar": {
             "outlinewidth": 0,
             "ticks": ""
            },
            "colorscale": [
             [
              0,
              "#0d0887"
             ],
             [
              0.1111111111111111,
              "#46039f"
             ],
             [
              0.2222222222222222,
              "#7201a8"
             ],
             [
              0.3333333333333333,
              "#9c179e"
             ],
             [
              0.4444444444444444,
              "#bd3786"
             ],
             [
              0.5555555555555556,
              "#d8576b"
             ],
             [
              0.6666666666666666,
              "#ed7953"
             ],
             [
              0.7777777777777778,
              "#fb9f3a"
             ],
             [
              0.8888888888888888,
              "#fdca26"
             ],
             [
              1,
              "#f0f921"
             ]
            ],
            "type": "contour"
           }
          ],
          "contourcarpet": [
           {
            "colorbar": {
             "outlinewidth": 0,
             "ticks": ""
            },
            "type": "contourcarpet"
           }
          ],
          "heatmap": [
           {
            "colorbar": {
             "outlinewidth": 0,
             "ticks": ""
            },
            "colorscale": [
             [
              0,
              "#0d0887"
             ],
             [
              0.1111111111111111,
              "#46039f"
             ],
             [
              0.2222222222222222,
              "#7201a8"
             ],
             [
              0.3333333333333333,
              "#9c179e"
             ],
             [
              0.4444444444444444,
              "#bd3786"
             ],
             [
              0.5555555555555556,
              "#d8576b"
             ],
             [
              0.6666666666666666,
              "#ed7953"
             ],
             [
              0.7777777777777778,
              "#fb9f3a"
             ],
             [
              0.8888888888888888,
              "#fdca26"
             ],
             [
              1,
              "#f0f921"
             ]
            ],
            "type": "heatmap"
           }
          ],
          "heatmapgl": [
           {
            "colorbar": {
             "outlinewidth": 0,
             "ticks": ""
            },
            "colorscale": [
             [
              0,
              "#0d0887"
             ],
             [
              0.1111111111111111,
              "#46039f"
             ],
             [
              0.2222222222222222,
              "#7201a8"
             ],
             [
              0.3333333333333333,
              "#9c179e"
             ],
             [
              0.4444444444444444,
              "#bd3786"
             ],
             [
              0.5555555555555556,
              "#d8576b"
             ],
             [
              0.6666666666666666,
              "#ed7953"
             ],
             [
              0.7777777777777778,
              "#fb9f3a"
             ],
             [
              0.8888888888888888,
              "#fdca26"
             ],
             [
              1,
              "#f0f921"
             ]
            ],
            "type": "heatmapgl"
           }
          ],
          "histogram": [
           {
            "marker": {
             "pattern": {
              "fillmode": "overlay",
              "size": 10,
              "solidity": 0.2
             }
            },
            "type": "histogram"
           }
          ],
          "histogram2d": [
           {
            "colorbar": {
             "outlinewidth": 0,
             "ticks": ""
            },
            "colorscale": [
             [
              0,
              "#0d0887"
             ],
             [
              0.1111111111111111,
              "#46039f"
             ],
             [
              0.2222222222222222,
              "#7201a8"
             ],
             [
              0.3333333333333333,
              "#9c179e"
             ],
             [
              0.4444444444444444,
              "#bd3786"
             ],
             [
              0.5555555555555556,
              "#d8576b"
             ],
             [
              0.6666666666666666,
              "#ed7953"
             ],
             [
              0.7777777777777778,
              "#fb9f3a"
             ],
             [
              0.8888888888888888,
              "#fdca26"
             ],
             [
              1,
              "#f0f921"
             ]
            ],
            "type": "histogram2d"
           }
          ],
          "histogram2dcontour": [
           {
            "colorbar": {
             "outlinewidth": 0,
             "ticks": ""
            },
            "colorscale": [
             [
              0,
              "#0d0887"
             ],
             [
              0.1111111111111111,
              "#46039f"
             ],
             [
              0.2222222222222222,
              "#7201a8"
             ],
             [
              0.3333333333333333,
              "#9c179e"
             ],
             [
              0.4444444444444444,
              "#bd3786"
             ],
             [
              0.5555555555555556,
              "#d8576b"
             ],
             [
              0.6666666666666666,
              "#ed7953"
             ],
             [
              0.7777777777777778,
              "#fb9f3a"
             ],
             [
              0.8888888888888888,
              "#fdca26"
             ],
             [
              1,
              "#f0f921"
             ]
            ],
            "type": "histogram2dcontour"
           }
          ],
          "mesh3d": [
           {
            "colorbar": {
             "outlinewidth": 0,
             "ticks": ""
            },
            "type": "mesh3d"
           }
          ],
          "parcoords": [
           {
            "line": {
             "colorbar": {
              "outlinewidth": 0,
              "ticks": ""
             }
            },
            "type": "parcoords"
           }
          ],
          "pie": [
           {
            "automargin": true,
            "type": "pie"
           }
          ],
          "scatter": [
           {
            "fillpattern": {
             "fillmode": "overlay",
             "size": 10,
             "solidity": 0.2
            },
            "type": "scatter"
           }
          ],
          "scatter3d": [
           {
            "line": {
             "colorbar": {
              "outlinewidth": 0,
              "ticks": ""
             }
            },
            "marker": {
             "colorbar": {
              "outlinewidth": 0,
              "ticks": ""
             }
            },
            "type": "scatter3d"
           }
          ],
          "scattercarpet": [
           {
            "marker": {
             "colorbar": {
              "outlinewidth": 0,
              "ticks": ""
             }
            },
            "type": "scattercarpet"
           }
          ],
          "scattergeo": [
           {
            "marker": {
             "colorbar": {
              "outlinewidth": 0,
              "ticks": ""
             }
            },
            "type": "scattergeo"
           }
          ],
          "scattergl": [
           {
            "marker": {
             "colorbar": {
              "outlinewidth": 0,
              "ticks": ""
             }
            },
            "type": "scattergl"
           }
          ],
          "scattermapbox": [
           {
            "marker": {
             "colorbar": {
              "outlinewidth": 0,
              "ticks": ""
             }
            },
            "type": "scattermapbox"
           }
          ],
          "scatterpolar": [
           {
            "marker": {
             "colorbar": {
              "outlinewidth": 0,
              "ticks": ""
             }
            },
            "type": "scatterpolar"
           }
          ],
          "scatterpolargl": [
           {
            "marker": {
             "colorbar": {
              "outlinewidth": 0,
              "ticks": ""
             }
            },
            "type": "scatterpolargl"
           }
          ],
          "scatterternary": [
           {
            "marker": {
             "colorbar": {
              "outlinewidth": 0,
              "ticks": ""
             }
            },
            "type": "scatterternary"
           }
          ],
          "surface": [
           {
            "colorbar": {
             "outlinewidth": 0,
             "ticks": ""
            },
            "colorscale": [
             [
              0,
              "#0d0887"
             ],
             [
              0.1111111111111111,
              "#46039f"
             ],
             [
              0.2222222222222222,
              "#7201a8"
             ],
             [
              0.3333333333333333,
              "#9c179e"
             ],
             [
              0.4444444444444444,
              "#bd3786"
             ],
             [
              0.5555555555555556,
              "#d8576b"
             ],
             [
              0.6666666666666666,
              "#ed7953"
             ],
             [
              0.7777777777777778,
              "#fb9f3a"
             ],
             [
              0.8888888888888888,
              "#fdca26"
             ],
             [
              1,
              "#f0f921"
             ]
            ],
            "type": "surface"
           }
          ],
          "table": [
           {
            "cells": {
             "fill": {
              "color": "#EBF0F8"
             },
             "line": {
              "color": "white"
             }
            },
            "header": {
             "fill": {
              "color": "#C8D4E3"
             },
             "line": {
              "color": "white"
             }
            },
            "type": "table"
           }
          ]
         },
         "layout": {
          "annotationdefaults": {
           "arrowcolor": "#2a3f5f",
           "arrowhead": 0,
           "arrowwidth": 1
          },
          "autotypenumbers": "strict",
          "coloraxis": {
           "colorbar": {
            "outlinewidth": 0,
            "ticks": ""
           }
          },
          "colorscale": {
           "diverging": [
            [
             0,
             "#8e0152"
            ],
            [
             0.1,
             "#c51b7d"
            ],
            [
             0.2,
             "#de77ae"
            ],
            [
             0.3,
             "#f1b6da"
            ],
            [
             0.4,
             "#fde0ef"
            ],
            [
             0.5,
             "#f7f7f7"
            ],
            [
             0.6,
             "#e6f5d0"
            ],
            [
             0.7,
             "#b8e186"
            ],
            [
             0.8,
             "#7fbc41"
            ],
            [
             0.9,
             "#4d9221"
            ],
            [
             1,
             "#276419"
            ]
           ],
           "sequential": [
            [
             0,
             "#0d0887"
            ],
            [
             0.1111111111111111,
             "#46039f"
            ],
            [
             0.2222222222222222,
             "#7201a8"
            ],
            [
             0.3333333333333333,
             "#9c179e"
            ],
            [
             0.4444444444444444,
             "#bd3786"
            ],
            [
             0.5555555555555556,
             "#d8576b"
            ],
            [
             0.6666666666666666,
             "#ed7953"
            ],
            [
             0.7777777777777778,
             "#fb9f3a"
            ],
            [
             0.8888888888888888,
             "#fdca26"
            ],
            [
             1,
             "#f0f921"
            ]
           ],
           "sequentialminus": [
            [
             0,
             "#0d0887"
            ],
            [
             0.1111111111111111,
             "#46039f"
            ],
            [
             0.2222222222222222,
             "#7201a8"
            ],
            [
             0.3333333333333333,
             "#9c179e"
            ],
            [
             0.4444444444444444,
             "#bd3786"
            ],
            [
             0.5555555555555556,
             "#d8576b"
            ],
            [
             0.6666666666666666,
             "#ed7953"
            ],
            [
             0.7777777777777778,
             "#fb9f3a"
            ],
            [
             0.8888888888888888,
             "#fdca26"
            ],
            [
             1,
             "#f0f921"
            ]
           ]
          },
          "colorway": [
           "#636efa",
           "#EF553B",
           "#00cc96",
           "#ab63fa",
           "#FFA15A",
           "#19d3f3",
           "#FF6692",
           "#B6E880",
           "#FF97FF",
           "#FECB52"
          ],
          "font": {
           "color": "#2a3f5f"
          },
          "geo": {
           "bgcolor": "white",
           "lakecolor": "white",
           "landcolor": "#E5ECF6",
           "showlakes": true,
           "showland": true,
           "subunitcolor": "white"
          },
          "hoverlabel": {
           "align": "left"
          },
          "hovermode": "closest",
          "mapbox": {
           "style": "light"
          },
          "paper_bgcolor": "white",
          "plot_bgcolor": "#E5ECF6",
          "polar": {
           "angularaxis": {
            "gridcolor": "white",
            "linecolor": "white",
            "ticks": ""
           },
           "bgcolor": "#E5ECF6",
           "radialaxis": {
            "gridcolor": "white",
            "linecolor": "white",
            "ticks": ""
           }
          },
          "scene": {
           "xaxis": {
            "backgroundcolor": "#E5ECF6",
            "gridcolor": "white",
            "gridwidth": 2,
            "linecolor": "white",
            "showbackground": true,
            "ticks": "",
            "zerolinecolor": "white"
           },
           "yaxis": {
            "backgroundcolor": "#E5ECF6",
            "gridcolor": "white",
            "gridwidth": 2,
            "linecolor": "white",
            "showbackground": true,
            "ticks": "",
            "zerolinecolor": "white"
           },
           "zaxis": {
            "backgroundcolor": "#E5ECF6",
            "gridcolor": "white",
            "gridwidth": 2,
            "linecolor": "white",
            "showbackground": true,
            "ticks": "",
            "zerolinecolor": "white"
           }
          },
          "shapedefaults": {
           "line": {
            "color": "#2a3f5f"
           }
          },
          "ternary": {
           "aaxis": {
            "gridcolor": "white",
            "linecolor": "white",
            "ticks": ""
           },
           "baxis": {
            "gridcolor": "white",
            "linecolor": "white",
            "ticks": ""
           },
           "bgcolor": "#E5ECF6",
           "caxis": {
            "gridcolor": "white",
            "linecolor": "white",
            "ticks": ""
           }
          },
          "title": {
           "x": 0.05
          },
          "xaxis": {
           "automargin": true,
           "gridcolor": "white",
           "linecolor": "white",
           "ticks": "",
           "title": {
            "standoff": 15
           },
           "zerolinecolor": "white",
           "zerolinewidth": 2
          },
          "yaxis": {
           "automargin": true,
           "gridcolor": "white",
           "linecolor": "white",
           "ticks": "",
           "title": {
            "standoff": 15
           },
           "zerolinecolor": "white",
           "zerolinewidth": 2
          }
         }
        }
       }
      }
     },
     "metadata": {},
     "output_type": "display_data"
    }
   ],
   "source": [
    "# plot candlestick, make candlestick prettier\n",
    "fig = go.Figure(data=[go.Candlestick(x=df.index, open=df['Open'], high=df['High'], low=df['Low'], close=df['Close'])])\n",
    "fig"
   ]
  },
  {
   "cell_type": "code",
   "execution_count": 5,
   "metadata": {},
   "outputs": [
    {
     "name": "stdout",
     "output_type": "stream",
     "text": [
      "Bearish engulfing day:  2022-02-04 00:00:00\n",
      "Bearish engulfing day:  2022-02-08 00:00:00\n",
      "Bearish engulfing day:  2022-03-21 00:00:00\n",
      "Bearish engulfing day:  2022-04-29 00:00:00\n",
      "Bearish engulfing day:  2022-05-18 00:00:00\n",
      "Bearish engulfing day:  2022-06-03 00:00:00\n",
      "Bearish engulfing day:  2022-06-16 00:00:00\n",
      "Bearish engulfing day:  2022-06-20 00:00:00\n",
      "Bearish engulfing day:  2022-12-15 00:00:00\n",
      "Bearish engulfing day:  2022-12-21 00:00:00\n",
      "Bearish engulfing day:  2023-01-10 00:00:00\n",
      "Bearish engulfing day:  2023-01-12 00:00:00\n",
      "Bearish engulfing day:  2023-01-24 00:00:00\n",
      "Bearish engulfing day:  2023-02-01 00:00:00\n",
      "Bearish engulfing day:  2023-02-13 00:00:00\n",
      "Bearish engulfing day:  2023-04-05 00:00:00\n",
      "Bearish engulfing day:  2023-04-12 00:00:00\n"
     ]
    }
   ],
   "source": [
    "from ta_funcs import *\n",
    "\n",
    "# go through each day and check if it is a bearish engulfing day\n",
    "for i in range(2, len(df)):\n",
    "    if bearish_engulfing(df.iloc[i-2:i+1]):\n",
    "        print(\"Bearish engulfing day: \", df.index[i])"
   ]
  },
  {
   "cell_type": "code",
   "execution_count": 6,
   "metadata": {},
   "outputs": [
    {
     "data": {
      "application/vnd.plotly.v1+json": {
       "config": {
        "plotlyServerURL": "https://plot.ly"
       },
       "data": [
        {
         "close": [
          470.79998779296875,
          483.5,
          492.3999938964844,
          491.70001220703125,
          491.25,
          503.6499938964844,
          505.95001220703125,
          510.25,
          511.3500061035156,
          508.3500061035156,
          514,
          506.79998779296875,
          515.7999877929688,
          511.3999938964844,
          502.70001220703125,
          494.1499938964844,
          514.6500244140625,
          528.9500122070312,
          523.4500122070312,
          538.2999877929688,
          532.2999877929688,
          539.7999877929688,
          540.0999755859375,
          530.2999877929688,
          533.25,
          531.3499755859375,
          535.25,
          540.5499877929688,
          529.5999755859375,
          501.3999938964844,
          524.7999877929688,
          516.7000122070312,
          512.9500122070312,
          515.2999877929688,
          511.8500061035156,
          498.3999938964844,
          498.70001220703125,
          472.6499938964844,
          482.95001220703125,
          483.20001220703125,
          474.25,
          467.3999938964844,
          461.95001220703125,
          440.29998779296875,
          440.29998779296875,
          451.70001220703125,
          468.70001220703125,
          470.3500061035156,
          485.1499938964844,
          485.8500061035156,
          492.75,
          501.8999938964844,
          490.6000061035156,
          493.70001220703125,
          490.6499938964844,
          487.1000061035156,
          490.70001220703125,
          497.5,
          495,
          494.29998779296875,
          493.54998779296875,
          508.20001220703125,
          512.4000244140625,
          509.3999938964844,
          513.9500122070312,
          514.9500122070312,
          516.0999755859375,
          514.9000244140625,
          512.8499755859375,
          517.7000122070312,
          509.5,
          511.79998779296875,
          509.29998779296875,
          516.2999877929688,
          500.6000061035156,
          494.75,
          505.5,
          497.25,
          507.5,
          496.29998779296875,
          491,
          479.6499938964844,
          480,
          483.95001220703125,
          475.8999938964844,
          475.20001220703125,
          476.54998779296875,
          462.6499938964844,
          444.6499938964844,
          455,
          467.29998779296875,
          458,
          447.5,
          462.3999938964844,
          460.8999938964844,
          462.04998779296875,
          454.1000061035156,
          468.8999938964844,
          468.95001220703125,
          474.6000061035156,
          468.1000061035156,
          468.29998779296875,
          469.8500061035156,
          464.5,
          463.70001220703125,
          463.3999938964844,
          471.29998779296875,
          466.95001220703125,
          461.8500061035156,
          445.8500061035156,
          448.1000061035156,
          451.3500061035156,
          441.6000061035156,
          441,
          434.70001220703125,
          450.75,
          447.6499938964844,
          451.3999938964844,
          454.25,
          461.20001220703125,
          464.25,
          459.1000061035156,
          465.8999938964844,
          466.8500061035156,
          473.45001220703125,
          472.1499938964844,
          479.95001220703125,
          486.75,
          488.54998779296875,
          488.20001220703125,
          484.95001220703125,
          486.5,
          479.3500061035156,
          479.1000061035156,
          490.29998779296875,
          497.95001220703125,
          508.6000061035156,
          512.0499877929688,
          513.7000122070312,
          517.7999877929688,
          514.2000122070312,
          528.2000122070312,
          532.4500122070312,
          528.3499755859375,
          533.75,
          542.0999755859375,
          540.8499755859375,
          533.25,
          531.0499877929688,
          520.4000244140625,
          514.7000122070312,
          524.75,
          530.7000122070312,
          525.9500122070312,
          528.1500244140625,
          532.3499755859375,
          520.3499755859375,
          511.29998779296875,
          521.9000244140625,
          519.2999877929688,
          520.4000244140625,
          523.7999877929688,
          514.8499755859375,
          531.25,
          533.2999877929688,
          536.7000122070312,
          538.9000244140625,
          537.7999877929688,
          532.8499755859375,
          544.6500244140625,
          553.3499755859375,
          554.9000244140625,
          558,
          571.75,
          572.1500244140625,
          561.7999877929688,
          572.25,
          574.0499877929688,
          569.7000122070312,
          567.2999877929688,
          550.5999755859375,
          543.2999877929688,
          536.5,
          524.8499755859375,
          521.75,
          530.5999755859375,
          519.75,
          532.7000122070312,
          537.2999877929688,
          530.2000122070312,
          530.75,
          527.4000244140625,
          533.7999877929688,
          521.4500122070312,
          527.2000122070312,
          543.6500244140625,
          562.4500122070312,
          553.4000244140625,
          555.4000244140625,
          560.8499755859375,
          570.5,
          578.5499877929688,
          579.6500244140625,
          570.75,
          573.7999877929688,
          576.9000244140625,
          573.8499755859375,
          584.9000244140625,
          593.9500122070312,
          614.1500244140625,
          615.5499877929688,
          605.75,
          601.2999877929688,
          592.5499877929688,
          600.8499755859375,
          599.75,
          599.0499877929688,
          602.7000122070312,
          598.0999755859375,
          599.0999755859375,
          607.6500244140625,
          609.3499755859375,
          607.4000244140625,
          608.5999755859375,
          608.5499877929688,
          602.4500122070312,
          608.0999755859375,
          607.5499877929688,
          617.2999877929688,
          608.9500122070312,
          607.0499877929688,
          611.6500244140625,
          616.5,
          613.0499877929688,
          616.75,
          625.5,
          615.9500122070312,
          603.3499755859375,
          604.4500122070312,
          604.4500122070312,
          593.4000244140625,
          593.4000244140625,
          574,
          597.0999755859375,
          601.9000244140625,
          601.0499877929688,
          611.7999877929688,
          613.7000122070312,
          612.2000122070312,
          612.4000244140625,
          605.2000122070312,
          605.0999755859375,
          600.6500244140625,
          607.7000122070312,
          595.1500244140625,
          596.7000122070312,
          594.9000244140625,
          600.0999755859375,
          603,
          592.9500122070312,
          591.4500122070312,
          589.8499755859375,
          592.2000122070312,
          600.4500122070312,
          594.3499755859375,
          568.7000122070312,
          539.9500122070312,
          538.2000122070312,
          553.5,
          527.3499755859375,
          528.0999755859375,
          544.2000122070312,
          545.4000244140625,
          547.0999755859375,
          549.75,
          550.7999877929688,
          553.0499877929688,
          537.5,
          540.8499755859375,
          542.25,
          540.0999755859375,
          531,
          525.1500244140625,
          523.4500122070312,
          516.3499755859375,
          521,
          521.0499877929688,
          527.7000122070312,
          522.7999877929688,
          536.7000122070312,
          533.75,
          561.2000122070312,
          561.7000122070312,
          564.7999877929688,
          558.9000244140625,
          547.3499755859375,
          530,
          525.4000244140625,
          517.5499877929688,
          524.5,
          529.7999877929688,
          519.2000122070312,
          521.8499755859375,
          521.5499877929688,
          512.75,
          505.3500061035156,
          510.1499938964844,
          508.1000061035156,
          516.5,
          523.75,
          526.75,
          523,
          527.6500244140625,
          526.2999877929688,
          532.0999755859375,
          528.2000122070312,
          532.9500122070312,
          544,
          545.8499755859375,
          540.2999877929688,
          544.7999877929688,
          543.1500244140625,
          554.5999755859375,
          561.7999877929688,
          566.3499755859375,
          564.75,
          578.2999877929688
         ],
         "high": [
          472,
          484.70001220703125,
          495,
          494.3999938964844,
          501.95001220703125,
          504.95001220703125,
          507.79998779296875,
          513.5,
          512.8499755859375,
          510.3500061035156,
          518.9000244140625,
          517.4500122070312,
          517.6500244140625,
          519.1500244140625,
          507.5,
          506.79998779296875,
          517.5,
          530.8499755859375,
          536.4000244140625,
          540.9000244140625,
          543.9500122070312,
          544.25,
          544.7000122070312,
          546.4000244140625,
          549,
          537.6500244140625,
          536.5,
          543.9500122070312,
          537.7000122070312,
          515.5999755859375,
          526.8499755859375,
          528,
          520,
          520.9000244140625,
          517.5,
          505.29998779296875,
          505.3500061035156,
          487.95001220703125,
          491.8999938964844,
          485.29998779296875,
          479.79998779296875,
          483.3999938964844,
          470.8999938964844,
          453.95001220703125,
          442.1000061035156,
          454.29998779296875,
          476.6499938964844,
          474.79998779296875,
          486,
          490.5,
          494.29998779296875,
          503.5,
          502,
          495.79998779296875,
          502.3999938964844,
          494.79998779296875,
          493.29998779296875,
          498.6000061035156,
          501.3999938964844,
          500.3999938964844,
          497.54998779296875,
          509.75,
          514.9000244140625,
          516.4000244140625,
          515.2000122070312,
          519.9000244140625,
          519.5,
          522,
          516.7000122070312,
          520.9000244140625,
          515,
          520.9500122070312,
          513.7000122070312,
          518,
          513.5,
          499.20001220703125,
          507.8999938964844,
          502.79998779296875,
          510,
          512.5,
          495,
          496.45001220703125,
          494,
          486.1000061035156,
          483.70001220703125,
          482.54998779296875,
          479,
          473,
          477,
          461.5,
          469.6499938964844,
          468.6000061035156,
          450,
          464,
          471.3999938964844,
          466.79998779296875,
          464.45001220703125,
          470.1000061035156,
          475,
          476.8999938964844,
          476.3999938964844,
          472,
          472.3500061035156,
          475.5,
          465.6000061035156,
          465.95001220703125,
          475.54998779296875,
          470.8999938964844,
          464.1499938964844,
          454.04998779296875,
          449.25,
          455.45001220703125,
          457.75,
          447.54998779296875,
          443.45001220703125,
          454.95001220703125,
          451.20001220703125,
          456.45001220703125,
          460.3500061035156,
          464.8500061035156,
          465.75,
          462.70001220703125,
          469.29998779296875,
          468.79998779296875,
          474.1499938964844,
          480,
          481,
          488.25,
          489.8999938964844,
          491.29998779296875,
          491.3500061035156,
          492.45001220703125,
          488.8999938964844,
          484.3999938964844,
          491.5,
          498.54998779296875,
          510.6000061035156,
          513.4000244140625,
          520.2000122070312,
          519,
          520.7999877929688,
          529.9500122070312,
          537.5,
          537,
          535,
          544.9000244140625,
          546.4000244140625,
          544,
          542.9000244140625,
          524,
          523.5,
          526,
          531.7999877929688,
          533.8499755859375,
          530.5499877929688,
          534.7999877929688,
          533.6500244140625,
          519.9000244140625,
          524,
          523,
          528.2999877929688,
          529.5,
          517,
          532.5,
          540.9000244140625,
          537.8499755859375,
          540.7999877929688,
          542.7000122070312,
          537.4500122070312,
          546.2999877929688,
          557,
          558.5999755859375,
          560,
          574.8499755859375,
          578.5,
          574,
          574.4000244140625,
          577.9500122070312,
          577.2999877929688,
          574,
          568,
          549,
          550.9000244140625,
          539.7999877929688,
          535.7000122070312,
          536.9000244140625,
          531.6500244140625,
          535.7999877929688,
          541.7999877929688,
          535.5999755859375,
          533.9000244140625,
          533.7000122070312,
          535,
          533.7999877929688,
          534.8499755859375,
          544.7000122070312,
          563.5,
          563.4500122070312,
          556.7999877929688,
          565.7999877929688,
          572.5,
          586.2000122070312,
          585,
          582.6500244140625,
          577.4500122070312,
          585.75,
          578.9500122070312,
          587.9500122070312,
          596.9500122070312,
          622.7000122070312,
          621,
          615.0999755859375,
          619.5499877929688,
          603.9500122070312,
          602.0999755859375,
          603.5,
          602.75,
          605.75,
          602.0999755859375,
          600.7000122070312,
          609.5999755859375,
          611.2999877929688,
          613.7000122070312,
          610.9000244140625,
          611.7999877929688,
          611.4000244140625,
          609.7999877929688,
          609.5999755859375,
          618,
          619.7999877929688,
          612.9000244140625,
          613.7999877929688,
          618,
          618.7000122070312,
          617.4000244140625,
          626.75,
          629.5499877929688,
          615.5999755859375,
          609.5,
          606.5,
          609.1500244140625,
          599,
          590.7000122070312,
          601.7000122070312,
          603.0999755859375,
          607,
          618,
          620.5499877929688,
          619.2000122070312,
          616.5999755859375,
          614.9500122070312,
          611.5999755859375,
          607.4500122070312,
          609,
          609,
          599.5,
          597.9000244140625,
          602.9000244140625,
          606.0999755859375,
          606,
          597.1500244140625,
          591.75,
          596.5999755859375,
          601.75,
          604.5999755859375,
          595.8499755859375,
          568.5499877929688,
          554.3499755859375,
          557,
          565,
          532.6500244140625,
          545.9500122070312,
          558.7999877929688,
          551.4000244140625,
          554.5,
          552,
          557.25,
          556.9000244140625,
          544.5999755859375,
          544.6500244140625,
          546.8499755859375,
          539.6500244140625,
          533.9500122070312,
          528.9500122070312,
          521.9000244140625,
          524,
          527.5,
          529.7999877929688,
          528.4500122070312,
          537.4000244140625,
          539.9000244140625,
          564.2999877929688,
          567.9000244140625,
          565.5,
          565.75,
          554.9500122070312,
          553.1500244140625,
          532.7999877929688,
          532,
          529.3499755859375,
          531.5999755859375,
          526.5999755859375,
          523.4500122070312,
          527,
          521,
          514.9500122070312,
          514.1500244140625,
          511.75,
          518,
          524.9000244140625,
          528.5,
          527.5999755859375,
          533.7000122070312,
          530.4000244140625,
          535.7000122070312,
          534,
          534.25,
          545,
          548.5,
          547.5,
          545.4500122070312,
          546.4000244140625,
          555.5499877929688,
          567.9000244140625,
          567,
          567.4000244140625,
          580.4500122070312
         ],
         "low": [
          460.1000061035156,
          471.04998779296875,
          479.1499938964844,
          485.3999938964844,
          489.45001220703125,
          492.5,
          499.25,
          508.5,
          507,
          505.1499938964844,
          507.54998779296875,
          505,
          500.29998779296875,
          508,
          498,
          488,
          489,
          503.20001220703125,
          521.4000244140625,
          527.0499877929688,
          520,
          531.3499755859375,
          537.1500244140625,
          527.2999877929688,
          525.25,
          519,
          527.75,
          534.4000244140625,
          527.0999755859375,
          499.70001220703125,
          497.1000061035156,
          514,
          511.1499938964844,
          510.1000061035156,
          504.6499938964844,
          495.5,
          497.25,
          468,
          479.29998779296875,
          473.1000061035156,
          467,
          464.6000061035156,
          457.6499938964844,
          433.45001220703125,
          425,
          438.54998779296875,
          461.6499938964844,
          462,
          470.54998779296875,
          480.6499938964844,
          489.3999938964844,
          498.29998779296875,
          489,
          477.25,
          489.20001220703125,
          483.5,
          486.6000061035156,
          481.95001220703125,
          491.70001220703125,
          492.29998779296875,
          492.20001220703125,
          491,
          506,
          507.70001220703125,
          506,
          510.04998779296875,
          512.3499755859375,
          513.2000122070312,
          504.3500061035156,
          513.75,
          504,
          505.1000061035156,
          507,
          512.2000122070312,
          499,
          490.04998779296875,
          498.45001220703125,
          491.8500061035156,
          496.5,
          494,
          481.29998779296875,
          477.5,
          478.6499938964844,
          471,
          473.79998779296875,
          473.5,
          463.6499938964844,
          456.3500061035156,
          439.75,
          438.8500061035156,
          456.1499938964844,
          457.1000061035156,
          444.45001220703125,
          454.1499938964844,
          459.5,
          460.20001220703125,
          452.04998779296875,
          452.5,
          467.5,
          471.1000061035156,
          465,
          464.70001220703125,
          466.1499938964844,
          463.5,
          456.5,
          460.5,
          463.20001220703125,
          462.45001220703125,
          458.6000061035156,
          442.1000061035156,
          443.3500061035156,
          448.6000061035156,
          440.1499938964844,
          437.25,
          430.70001220703125,
          437.6000061035156,
          444.6499938964844,
          446,
          453.20001220703125,
          458.04998779296875,
          458,
          458,
          458.6000061035156,
          460.54998779296875,
          466.8500061035156,
          471,
          473.8999938964844,
          481.6000061035156,
          485.1499938964844,
          485,
          483.1000061035156,
          484.54998779296875,
          476.79998779296875,
          474.70001220703125,
          482.1000061035156,
          488,
          500.3999938964844,
          506.75,
          511.20001220703125,
          509.1499938964844,
          513.0999755859375,
          512.25,
          529.5499877929688,
          526.75,
          526.4000244140625,
          531.0999755859375,
          534.6500244140625,
          524.2000122070312,
          529,
          513.8499755859375,
          513.4000244140625,
          517.2000122070312,
          525.1500244140625,
          525,
          524.3499755859375,
          526.2000122070312,
          518.5,
          510,
          508.25,
          512.2999877929688,
          518.5,
          522.2000122070312,
          508.75,
          517.9500122070312,
          522.25,
          531.25,
          536.2999877929688,
          534.0999755859375,
          531.5499877929688,
          535.5,
          548,
          551.25,
          553.75,
          549.25,
          567.9000244140625,
          560.2999877929688,
          559.5499877929688,
          572.8499755859375,
          565.4000244140625,
          562,
          549.5,
          533,
          533.2000122070312,
          520.3499755859375,
          519.5499877929688,
          516.1500244140625,
          518.5,
          527.7999877929688,
          534.5999755859375,
          526.5499877929688,
          522.2000122070312,
          525.5,
          526,
          520.2000122070312,
          526,
          524.2000122070312,
          546.75,
          551.5499877929688,
          545.2999877929688,
          557.25,
          565.9000244140625,
          568,
          577.5999755859375,
          567,
          568.4000244140625,
          574.5999755859375,
          569.9000244140625,
          568,
          580.4000244140625,
          607.7000122070312,
          610.5499877929688,
          602.2000122070312,
          598.5,
          591.6500244140625,
          592.6500244140625,
          596,
          596.1500244140625,
          597.1500244140625,
          595.3499755859375,
          596.1500244140625,
          601,
          605.7999877929688,
          606.25,
          602.3499755859375,
          607.0999755859375,
          598.4000244140625,
          601.5499877929688,
          604.25,
          607.5499877929688,
          607.7999877929688,
          604.5,
          607.1500244140625,
          609.0999755859375,
          611,
          612.5,
          617.5,
          614.2999877929688,
          602.0999755859375,
          603,
          599.5499877929688,
          589.5999755859375,
          587.5499877929688,
          571.5,
          570.7000122070312,
          593.2999877929688,
          598.5499877929688,
          597.1500244140625,
          611.3499755859375,
          611.2000122070312,
          610,
          604,
          601.9500122070312,
          597,
          600.0999755859375,
          590.5999755859375,
          592.25,
          590.0999755859375,
          593.6500244140625,
          600.5999755859375,
          586.0499877929688,
          587.5999755859375,
          587.5499877929688,
          590.7999877929688,
          592.9500122070312,
          593.0499877929688,
          567.4000244140625,
          532.25,
          525.2000122070312,
          537.8499755859375,
          499.3500061035156,
          502.5,
          519.1500244140625,
          536.5499877929688,
          541.0499877929688,
          545.5,
          542.7999877929688,
          546.5,
          533.2999877929688,
          530.75,
          536.7999877929688,
          538.5,
          527.75,
          522.1500244140625,
          522.4000244140625,
          512.5,
          511.3500061035156,
          517.5999755859375,
          519,
          521.0499877929688,
          523.0999755859375,
          532.5,
          541.75,
          559,
          556.4500122070312,
          558,
          545,
          528.4500122070312,
          520,
          515.5499877929688,
          514.2999877929688,
          520.0999755859375,
          515,
          516.4500122070312,
          520.0999755859375,
          511.5,
          503.45001220703125,
          501.54998779296875,
          503.8500061035156,
          506.29998779296875,
          519.3499755859375,
          522.0999755859375,
          519.0499877929688,
          521.6500244140625,
          524.4000244140625,
          527.1500244140625,
          526,
          527.1500244140625,
          528,
          540.5,
          538.25,
          536.6500244140625,
          539.7000122070312,
          543.5,
          555,
          556.4500122070312,
          561.0999755859375,
          565.5
         ],
         "open": [
          462,
          472.5,
          481.8999938964844,
          487.70001220703125,
          493.45001220703125,
          493.3500061035156,
          503,
          509.8999938964844,
          510,
          509,
          508,
          514,
          505,
          516,
          505.29998779296875,
          502.3999938964844,
          490,
          503.54998779296875,
          534,
          529,
          543.9500122070312,
          536.6500244140625,
          537.1500244140625,
          542.1500244140625,
          531.9000244140625,
          535.5,
          534.9500122070312,
          537.0999755859375,
          536.25,
          515,
          502,
          526.5,
          520,
          510.1000061035156,
          511.54998779296875,
          500.8999938964844,
          503,
          480,
          480,
          476.8999938964844,
          478,
          480,
          460.29998779296875,
          447.5,
          438,
          442,
          469.8999938964844,
          466.3999938964844,
          471,
          489,
          493,
          499,
          502,
          490.6000061035156,
          498.5,
          485,
          491.75,
          490.95001220703125,
          500,
          499.29998779296875,
          494.29998779296875,
          491,
          509.29998779296875,
          514.4000244140625,
          507,
          510.04998779296875,
          519.5,
          513.5,
          512.75,
          514.2999877929688,
          512,
          513.25,
          512,
          513.4000244140625,
          512.9000244140625,
          495,
          499,
          500,
          499.1499938964844,
          508.1000061035156,
          492.6499938964844,
          492,
          485,
          471,
          477.1000061035156,
          477,
          475.25,
          473,
          469.45001220703125,
          445,
          458.29998779296875,
          467.8999938964844,
          449.04998779296875,
          454.8500061035156,
          463.1000061035156,
          462.3999938964844,
          461,
          456.8500061035156,
          471.3999938964844,
          473,
          474,
          468,
          466.8999938964844,
          473.25,
          464.20001220703125,
          461.8500061035156,
          466.6000061035156,
          468.95001220703125,
          462,
          454,
          445,
          448.95001220703125,
          455.1499938964844,
          440,
          441.5,
          439.5,
          448.75,
          449,
          455.79998779296875,
          459.95001220703125,
          458.8999938964844,
          460,
          459,
          463.3500061035156,
          466.8500061035156,
          475.1499938964844,
          475.1499938964844,
          484,
          489,
          485,
          485,
          487.75,
          486.6000061035156,
          482.54998779296875,
          484.54998779296875,
          488,
          501,
          509.79998779296875,
          513.4500122070312,
          513.4000244140625,
          517.7000122070312,
          515.2999877929688,
          533.2000122070312,
          535.0499877929688,
          529.0499877929688,
          531.9000244140625,
          541.9000244140625,
          543.6500244140625,
          535.5499877929688,
          524,
          521.5499877929688,
          520,
          525.7000122070312,
          533.2999877929688,
          528.8499755859375,
          526.8499755859375,
          532,
          519,
          508.25,
          519,
          521.9500122070312,
          523.7999877929688,
          511.29998779296875,
          518.2000122070312,
          522.25,
          537,
          537,
          538,
          534.4000244140625,
          536,
          549.6500244140625,
          554.9000244140625,
          560,
          550,
          572.5499877929688,
          569.0999755859375,
          560.7000122070312,
          577.9500122070312,
          575,
          566.75,
          564.7999877929688,
          545.7999877929688,
          544.5499877929688,
          532.9000244140625,
          529,
          524,
          527.5999755859375,
          533,
          534.5999755859375,
          535.5,
          525.7000122070312,
          530.75,
          530,
          533,
          530.2000122070312,
          526.4000244140625,
          547.0999755859375,
          563,
          552,
          557.25,
          567,
          572.5,
          583.9500122070312,
          579.9500122070312,
          574.9500122070312,
          576.3499755859375,
          575.9000244140625,
          569,
          586,
          613,
          621,
          613.0999755859375,
          617.25,
          603.9500122070312,
          594.2999877929688,
          599.9500122070312,
          599.0999755859375,
          601,
          602.0999755859375,
          598.1500244140625,
          601.5499877929688,
          609.75,
          610.5499877929688,
          605.5999755859375,
          607.0999755859375,
          608.5,
          607.8499755859375,
          607.5,
          608.5,
          614.75,
          610.8499755859375,
          609.75,
          614.4000244140625,
          614.7999877929688,
          613.5,
          618.5,
          625.5499877929688,
          612,
          604,
          603,
          605.9000244140625,
          597,
          590,
          574,
          600.4000244140625,
          600.9000244140625,
          600,
          615.25,
          614.9500122070312,
          614.5,
          611.8499755859375,
          607,
          607.4000244140625,
          605,
          608.4500122070312,
          596.4500122070312,
          597.9000244140625,
          597.9000244140625,
          603,
          603,
          595.9000244140625,
          591,
          593.7999877929688,
          598.5,
          603.5,
          595.8499755859375,
          568,
          536,
          545,
          561.4000244140625,
          520.2000122070312,
          536,
          558.7999877929688,
          548,
          550,
          552,
          546.5,
          554,
          539.9500122070312,
          540,
          546.8499755859375,
          538.5,
          532,
          527.0999755859375,
          520.75,
          516.9500122070312,
          524.2000122070312,
          521.0999755859375,
          527.25,
          523.25,
          535.9500122070312,
          542,
          564.9000244140625,
          560,
          564.75,
          553.0999755859375,
          547,
          527.6500244140625,
          529.7999877929688,
          518.4000244140625,
          528.6500244140625,
          526.5999755859375,
          522,
          522.2000122070312,
          519.4000244140625,
          514.5,
          507,
          511.45001220703125,
          509,
          520.6500244140625,
          524.75,
          527,
          524,
          529.25,
          530.8499755859375,
          533.2000122070312,
          529.2999877929688,
          528,
          545.3499755859375,
          544,
          541.2000122070312,
          545,
          543.7999877929688,
          555,
          562,
          565,
          567.7999877929688
         ],
         "type": "candlestick",
         "x": [
          "2022-01-03T00:00:00",
          "2022-01-04T00:00:00",
          "2022-01-05T00:00:00",
          "2022-01-06T00:00:00",
          "2022-01-07T00:00:00",
          "2022-01-10T00:00:00",
          "2022-01-11T00:00:00",
          "2022-01-12T00:00:00",
          "2022-01-13T00:00:00",
          "2022-01-14T00:00:00",
          "2022-01-17T00:00:00",
          "2022-01-18T00:00:00",
          "2022-01-19T00:00:00",
          "2022-01-20T00:00:00",
          "2022-01-21T00:00:00",
          "2022-01-24T00:00:00",
          "2022-01-25T00:00:00",
          "2022-01-27T00:00:00",
          "2022-01-28T00:00:00",
          "2022-01-31T00:00:00",
          "2022-02-01T00:00:00",
          "2022-02-02T00:00:00",
          "2022-02-03T00:00:00",
          "2022-02-04T00:00:00",
          "2022-02-07T00:00:00",
          "2022-02-08T00:00:00",
          "2022-02-09T00:00:00",
          "2022-02-10T00:00:00",
          "2022-02-11T00:00:00",
          "2022-02-14T00:00:00",
          "2022-02-15T00:00:00",
          "2022-02-16T00:00:00",
          "2022-02-17T00:00:00",
          "2022-02-18T00:00:00",
          "2022-02-21T00:00:00",
          "2022-02-22T00:00:00",
          "2022-02-23T00:00:00",
          "2022-02-24T00:00:00",
          "2022-02-25T00:00:00",
          "2022-02-28T00:00:00",
          "2022-03-02T00:00:00",
          "2022-03-03T00:00:00",
          "2022-03-04T00:00:00",
          "2022-03-07T00:00:00",
          "2022-03-08T00:00:00",
          "2022-03-09T00:00:00",
          "2022-03-10T00:00:00",
          "2022-03-11T00:00:00",
          "2022-03-14T00:00:00",
          "2022-03-15T00:00:00",
          "2022-03-16T00:00:00",
          "2022-03-17T00:00:00",
          "2022-03-21T00:00:00",
          "2022-03-22T00:00:00",
          "2022-03-23T00:00:00",
          "2022-03-24T00:00:00",
          "2022-03-25T00:00:00",
          "2022-03-28T00:00:00",
          "2022-03-29T00:00:00",
          "2022-03-30T00:00:00",
          "2022-03-31T00:00:00",
          "2022-04-01T00:00:00",
          "2022-04-04T00:00:00",
          "2022-04-05T00:00:00",
          "2022-04-06T00:00:00",
          "2022-04-07T00:00:00",
          "2022-04-08T00:00:00",
          "2022-04-11T00:00:00",
          "2022-04-12T00:00:00",
          "2022-04-13T00:00:00",
          "2022-04-18T00:00:00",
          "2022-04-19T00:00:00",
          "2022-04-20T00:00:00",
          "2022-04-21T00:00:00",
          "2022-04-22T00:00:00",
          "2022-04-25T00:00:00",
          "2022-04-26T00:00:00",
          "2022-04-27T00:00:00",
          "2022-04-28T00:00:00",
          "2022-04-29T00:00:00",
          "2022-05-02T00:00:00",
          "2022-05-04T00:00:00",
          "2022-05-05T00:00:00",
          "2022-05-06T00:00:00",
          "2022-05-09T00:00:00",
          "2022-05-10T00:00:00",
          "2022-05-11T00:00:00",
          "2022-05-12T00:00:00",
          "2022-05-13T00:00:00",
          "2022-05-16T00:00:00",
          "2022-05-17T00:00:00",
          "2022-05-18T00:00:00",
          "2022-05-19T00:00:00",
          "2022-05-20T00:00:00",
          "2022-05-23T00:00:00",
          "2022-05-24T00:00:00",
          "2022-05-25T00:00:00",
          "2022-05-26T00:00:00",
          "2022-05-27T00:00:00",
          "2022-05-30T00:00:00",
          "2022-05-31T00:00:00",
          "2022-06-01T00:00:00",
          "2022-06-02T00:00:00",
          "2022-06-03T00:00:00",
          "2022-06-06T00:00:00",
          "2022-06-07T00:00:00",
          "2022-06-08T00:00:00",
          "2022-06-09T00:00:00",
          "2022-06-10T00:00:00",
          "2022-06-13T00:00:00",
          "2022-06-14T00:00:00",
          "2022-06-15T00:00:00",
          "2022-06-16T00:00:00",
          "2022-06-17T00:00:00",
          "2022-06-20T00:00:00",
          "2022-06-21T00:00:00",
          "2022-06-22T00:00:00",
          "2022-06-23T00:00:00",
          "2022-06-24T00:00:00",
          "2022-06-27T00:00:00",
          "2022-06-28T00:00:00",
          "2022-06-29T00:00:00",
          "2022-06-30T00:00:00",
          "2022-07-01T00:00:00",
          "2022-07-04T00:00:00",
          "2022-07-05T00:00:00",
          "2022-07-06T00:00:00",
          "2022-07-07T00:00:00",
          "2022-07-08T00:00:00",
          "2022-07-11T00:00:00",
          "2022-07-12T00:00:00",
          "2022-07-13T00:00:00",
          "2022-07-14T00:00:00",
          "2022-07-15T00:00:00",
          "2022-07-18T00:00:00",
          "2022-07-19T00:00:00",
          "2022-07-20T00:00:00",
          "2022-07-21T00:00:00",
          "2022-07-22T00:00:00",
          "2022-07-25T00:00:00",
          "2022-07-26T00:00:00",
          "2022-07-27T00:00:00",
          "2022-07-28T00:00:00",
          "2022-07-29T00:00:00",
          "2022-08-01T00:00:00",
          "2022-08-02T00:00:00",
          "2022-08-03T00:00:00",
          "2022-08-04T00:00:00",
          "2022-08-05T00:00:00",
          "2022-08-08T00:00:00",
          "2022-08-10T00:00:00",
          "2022-08-11T00:00:00",
          "2022-08-12T00:00:00",
          "2022-08-16T00:00:00",
          "2022-08-17T00:00:00",
          "2022-08-18T00:00:00",
          "2022-08-19T00:00:00",
          "2022-08-22T00:00:00",
          "2022-08-23T00:00:00",
          "2022-08-24T00:00:00",
          "2022-08-25T00:00:00",
          "2022-08-26T00:00:00",
          "2022-08-29T00:00:00",
          "2022-08-30T00:00:00",
          "2022-09-01T00:00:00",
          "2022-09-02T00:00:00",
          "2022-09-05T00:00:00",
          "2022-09-06T00:00:00",
          "2022-09-07T00:00:00",
          "2022-09-08T00:00:00",
          "2022-09-09T00:00:00",
          "2022-09-12T00:00:00",
          "2022-09-13T00:00:00",
          "2022-09-14T00:00:00",
          "2022-09-15T00:00:00",
          "2022-09-16T00:00:00",
          "2022-09-19T00:00:00",
          "2022-09-20T00:00:00",
          "2022-09-21T00:00:00",
          "2022-09-22T00:00:00",
          "2022-09-23T00:00:00",
          "2022-09-26T00:00:00",
          "2022-09-27T00:00:00",
          "2022-09-28T00:00:00",
          "2022-09-29T00:00:00",
          "2022-09-30T00:00:00",
          "2022-10-03T00:00:00",
          "2022-10-04T00:00:00",
          "2022-10-06T00:00:00",
          "2022-10-07T00:00:00",
          "2022-10-10T00:00:00",
          "2022-10-11T00:00:00",
          "2022-10-12T00:00:00",
          "2022-10-13T00:00:00",
          "2022-10-14T00:00:00",
          "2022-10-17T00:00:00",
          "2022-10-18T00:00:00",
          "2022-10-19T00:00:00",
          "2022-10-20T00:00:00",
          "2022-10-21T00:00:00",
          "2022-10-24T00:00:00",
          "2022-10-25T00:00:00",
          "2022-10-27T00:00:00",
          "2022-10-28T00:00:00",
          "2022-10-31T00:00:00",
          "2022-11-01T00:00:00",
          "2022-11-02T00:00:00",
          "2022-11-03T00:00:00",
          "2022-11-04T00:00:00",
          "2022-11-07T00:00:00",
          "2022-11-09T00:00:00",
          "2022-11-10T00:00:00",
          "2022-11-11T00:00:00",
          "2022-11-14T00:00:00",
          "2022-11-15T00:00:00",
          "2022-11-16T00:00:00",
          "2022-11-17T00:00:00",
          "2022-11-18T00:00:00",
          "2022-11-21T00:00:00",
          "2022-11-22T00:00:00",
          "2022-11-23T00:00:00",
          "2022-11-24T00:00:00",
          "2022-11-25T00:00:00",
          "2022-11-28T00:00:00",
          "2022-11-29T00:00:00",
          "2022-11-30T00:00:00",
          "2022-12-01T00:00:00",
          "2022-12-02T00:00:00",
          "2022-12-05T00:00:00",
          "2022-12-06T00:00:00",
          "2022-12-07T00:00:00",
          "2022-12-08T00:00:00",
          "2022-12-09T00:00:00",
          "2022-12-12T00:00:00",
          "2022-12-13T00:00:00",
          "2022-12-14T00:00:00",
          "2022-12-15T00:00:00",
          "2022-12-16T00:00:00",
          "2022-12-19T00:00:00",
          "2022-12-20T00:00:00",
          "2022-12-21T00:00:00",
          "2022-12-22T00:00:00",
          "2022-12-23T00:00:00",
          "2022-12-26T00:00:00",
          "2022-12-27T00:00:00",
          "2022-12-28T00:00:00",
          "2022-12-29T00:00:00",
          "2022-12-30T00:00:00",
          "2023-01-02T00:00:00",
          "2023-01-03T00:00:00",
          "2023-01-04T00:00:00",
          "2023-01-05T00:00:00",
          "2023-01-06T00:00:00",
          "2023-01-09T00:00:00",
          "2023-01-10T00:00:00",
          "2023-01-11T00:00:00",
          "2023-01-12T00:00:00",
          "2023-01-13T00:00:00",
          "2023-01-16T00:00:00",
          "2023-01-17T00:00:00",
          "2023-01-18T00:00:00",
          "2023-01-19T00:00:00",
          "2023-01-20T00:00:00",
          "2023-01-23T00:00:00",
          "2023-01-24T00:00:00",
          "2023-01-25T00:00:00",
          "2023-01-27T00:00:00",
          "2023-01-30T00:00:00",
          "2023-01-31T00:00:00",
          "2023-02-01T00:00:00",
          "2023-02-02T00:00:00",
          "2023-02-03T00:00:00",
          "2023-02-06T00:00:00",
          "2023-02-07T00:00:00",
          "2023-02-08T00:00:00",
          "2023-02-09T00:00:00",
          "2023-02-10T00:00:00",
          "2023-02-13T00:00:00",
          "2023-02-14T00:00:00",
          "2023-02-15T00:00:00",
          "2023-02-16T00:00:00",
          "2023-02-17T00:00:00",
          "2023-02-20T00:00:00",
          "2023-02-21T00:00:00",
          "2023-02-22T00:00:00",
          "2023-02-23T00:00:00",
          "2023-02-24T00:00:00",
          "2023-02-27T00:00:00",
          "2023-02-28T00:00:00",
          "2023-03-01T00:00:00",
          "2023-03-02T00:00:00",
          "2023-03-03T00:00:00",
          "2023-03-06T00:00:00",
          "2023-03-08T00:00:00",
          "2023-03-09T00:00:00",
          "2023-03-10T00:00:00",
          "2023-03-13T00:00:00",
          "2023-03-14T00:00:00",
          "2023-03-15T00:00:00",
          "2023-03-16T00:00:00",
          "2023-03-17T00:00:00",
          "2023-03-20T00:00:00",
          "2023-03-21T00:00:00",
          "2023-03-22T00:00:00",
          "2023-03-23T00:00:00",
          "2023-03-24T00:00:00",
          "2023-03-27T00:00:00",
          "2023-03-28T00:00:00",
          "2023-03-29T00:00:00",
          "2023-03-31T00:00:00",
          "2023-04-03T00:00:00",
          "2023-04-05T00:00:00",
          "2023-04-06T00:00:00",
          "2023-04-10T00:00:00",
          "2023-04-11T00:00:00",
          "2023-04-12T00:00:00",
          "2023-04-13T00:00:00",
          "2023-04-17T00:00:00",
          "2023-04-18T00:00:00",
          "2023-04-19T00:00:00",
          "2023-04-20T00:00:00",
          "2023-04-21T00:00:00",
          "2023-04-24T00:00:00",
          "2023-04-25T00:00:00",
          "2023-04-26T00:00:00",
          "2023-04-27T00:00:00",
          "2023-04-28T00:00:00"
         ]
        }
       ],
       "layout": {
        "shapes": [
         {
          "fillcolor": "LightSalmon",
          "layer": "below",
          "line": {
           "width": 0
          },
          "opacity": 0.5,
          "type": "rect",
          "x0": "2022-02-03T00:00:00",
          "x1": "2022-02-04T00:00:00",
          "xref": "x",
          "y0": 0,
          "y1": 1,
          "yref": "y domain"
         },
         {
          "fillcolor": "LightSalmon",
          "layer": "below",
          "line": {
           "width": 0
          },
          "opacity": 0.5,
          "type": "rect",
          "x0": "2022-02-07T00:00:00",
          "x1": "2022-02-08T00:00:00",
          "xref": "x",
          "y0": 0,
          "y1": 1,
          "yref": "y domain"
         },
         {
          "fillcolor": "LightSalmon",
          "layer": "below",
          "line": {
           "width": 0
          },
          "opacity": 0.5,
          "type": "rect",
          "x0": "2022-03-17T00:00:00",
          "x1": "2022-03-21T00:00:00",
          "xref": "x",
          "y0": 0,
          "y1": 1,
          "yref": "y domain"
         },
         {
          "fillcolor": "LightSalmon",
          "layer": "below",
          "line": {
           "width": 0
          },
          "opacity": 0.5,
          "type": "rect",
          "x0": "2022-04-28T00:00:00",
          "x1": "2022-04-29T00:00:00",
          "xref": "x",
          "y0": 0,
          "y1": 1,
          "yref": "y domain"
         },
         {
          "fillcolor": "LightSalmon",
          "layer": "below",
          "line": {
           "width": 0
          },
          "opacity": 0.5,
          "type": "rect",
          "x0": "2022-05-17T00:00:00",
          "x1": "2022-05-18T00:00:00",
          "xref": "x",
          "y0": 0,
          "y1": 1,
          "yref": "y domain"
         },
         {
          "fillcolor": "LightSalmon",
          "layer": "below",
          "line": {
           "width": 0
          },
          "opacity": 0.5,
          "type": "rect",
          "x0": "2022-06-02T00:00:00",
          "x1": "2022-06-03T00:00:00",
          "xref": "x",
          "y0": 0,
          "y1": 1,
          "yref": "y domain"
         },
         {
          "fillcolor": "LightSalmon",
          "layer": "below",
          "line": {
           "width": 0
          },
          "opacity": 0.5,
          "type": "rect",
          "x0": "2022-06-15T00:00:00",
          "x1": "2022-06-16T00:00:00",
          "xref": "x",
          "y0": 0,
          "y1": 1,
          "yref": "y domain"
         },
         {
          "fillcolor": "LightSalmon",
          "layer": "below",
          "line": {
           "width": 0
          },
          "opacity": 0.5,
          "type": "rect",
          "x0": "2022-06-17T00:00:00",
          "x1": "2022-06-20T00:00:00",
          "xref": "x",
          "y0": 0,
          "y1": 1,
          "yref": "y domain"
         },
         {
          "fillcolor": "LightSalmon",
          "layer": "below",
          "line": {
           "width": 0
          },
          "opacity": 0.5,
          "type": "rect",
          "x0": "2022-12-14T00:00:00",
          "x1": "2022-12-15T00:00:00",
          "xref": "x",
          "y0": 0,
          "y1": 1,
          "yref": "y domain"
         },
         {
          "fillcolor": "LightSalmon",
          "layer": "below",
          "line": {
           "width": 0
          },
          "opacity": 0.5,
          "type": "rect",
          "x0": "2022-12-20T00:00:00",
          "x1": "2022-12-21T00:00:00",
          "xref": "x",
          "y0": 0,
          "y1": 1,
          "yref": "y domain"
         },
         {
          "fillcolor": "LightSalmon",
          "layer": "below",
          "line": {
           "width": 0
          },
          "opacity": 0.5,
          "type": "rect",
          "x0": "2023-01-09T00:00:00",
          "x1": "2023-01-10T00:00:00",
          "xref": "x",
          "y0": 0,
          "y1": 1,
          "yref": "y domain"
         },
         {
          "fillcolor": "LightSalmon",
          "layer": "below",
          "line": {
           "width": 0
          },
          "opacity": 0.5,
          "type": "rect",
          "x0": "2023-01-11T00:00:00",
          "x1": "2023-01-12T00:00:00",
          "xref": "x",
          "y0": 0,
          "y1": 1,
          "yref": "y domain"
         },
         {
          "fillcolor": "LightSalmon",
          "layer": "below",
          "line": {
           "width": 0
          },
          "opacity": 0.5,
          "type": "rect",
          "x0": "2023-01-23T00:00:00",
          "x1": "2023-01-24T00:00:00",
          "xref": "x",
          "y0": 0,
          "y1": 1,
          "yref": "y domain"
         },
         {
          "fillcolor": "LightSalmon",
          "layer": "below",
          "line": {
           "width": 0
          },
          "opacity": 0.5,
          "type": "rect",
          "x0": "2023-01-31T00:00:00",
          "x1": "2023-02-01T00:00:00",
          "xref": "x",
          "y0": 0,
          "y1": 1,
          "yref": "y domain"
         },
         {
          "fillcolor": "LightSalmon",
          "layer": "below",
          "line": {
           "width": 0
          },
          "opacity": 0.5,
          "type": "rect",
          "x0": "2023-02-10T00:00:00",
          "x1": "2023-02-13T00:00:00",
          "xref": "x",
          "y0": 0,
          "y1": 1,
          "yref": "y domain"
         },
         {
          "fillcolor": "LightSalmon",
          "layer": "below",
          "line": {
           "width": 0
          },
          "opacity": 0.5,
          "type": "rect",
          "x0": "2023-04-03T00:00:00",
          "x1": "2023-04-05T00:00:00",
          "xref": "x",
          "y0": 0,
          "y1": 1,
          "yref": "y domain"
         },
         {
          "fillcolor": "LightSalmon",
          "layer": "below",
          "line": {
           "width": 0
          },
          "opacity": 0.5,
          "type": "rect",
          "x0": "2023-04-11T00:00:00",
          "x1": "2023-04-12T00:00:00",
          "xref": "x",
          "y0": 0,
          "y1": 1,
          "yref": "y domain"
         }
        ],
        "template": {
         "data": {
          "bar": [
           {
            "error_x": {
             "color": "#2a3f5f"
            },
            "error_y": {
             "color": "#2a3f5f"
            },
            "marker": {
             "line": {
              "color": "#E5ECF6",
              "width": 0.5
             },
             "pattern": {
              "fillmode": "overlay",
              "size": 10,
              "solidity": 0.2
             }
            },
            "type": "bar"
           }
          ],
          "barpolar": [
           {
            "marker": {
             "line": {
              "color": "#E5ECF6",
              "width": 0.5
             },
             "pattern": {
              "fillmode": "overlay",
              "size": 10,
              "solidity": 0.2
             }
            },
            "type": "barpolar"
           }
          ],
          "carpet": [
           {
            "aaxis": {
             "endlinecolor": "#2a3f5f",
             "gridcolor": "white",
             "linecolor": "white",
             "minorgridcolor": "white",
             "startlinecolor": "#2a3f5f"
            },
            "baxis": {
             "endlinecolor": "#2a3f5f",
             "gridcolor": "white",
             "linecolor": "white",
             "minorgridcolor": "white",
             "startlinecolor": "#2a3f5f"
            },
            "type": "carpet"
           }
          ],
          "choropleth": [
           {
            "colorbar": {
             "outlinewidth": 0,
             "ticks": ""
            },
            "type": "choropleth"
           }
          ],
          "contour": [
           {
            "colorbar": {
             "outlinewidth": 0,
             "ticks": ""
            },
            "colorscale": [
             [
              0,
              "#0d0887"
             ],
             [
              0.1111111111111111,
              "#46039f"
             ],
             [
              0.2222222222222222,
              "#7201a8"
             ],
             [
              0.3333333333333333,
              "#9c179e"
             ],
             [
              0.4444444444444444,
              "#bd3786"
             ],
             [
              0.5555555555555556,
              "#d8576b"
             ],
             [
              0.6666666666666666,
              "#ed7953"
             ],
             [
              0.7777777777777778,
              "#fb9f3a"
             ],
             [
              0.8888888888888888,
              "#fdca26"
             ],
             [
              1,
              "#f0f921"
             ]
            ],
            "type": "contour"
           }
          ],
          "contourcarpet": [
           {
            "colorbar": {
             "outlinewidth": 0,
             "ticks": ""
            },
            "type": "contourcarpet"
           }
          ],
          "heatmap": [
           {
            "colorbar": {
             "outlinewidth": 0,
             "ticks": ""
            },
            "colorscale": [
             [
              0,
              "#0d0887"
             ],
             [
              0.1111111111111111,
              "#46039f"
             ],
             [
              0.2222222222222222,
              "#7201a8"
             ],
             [
              0.3333333333333333,
              "#9c179e"
             ],
             [
              0.4444444444444444,
              "#bd3786"
             ],
             [
              0.5555555555555556,
              "#d8576b"
             ],
             [
              0.6666666666666666,
              "#ed7953"
             ],
             [
              0.7777777777777778,
              "#fb9f3a"
             ],
             [
              0.8888888888888888,
              "#fdca26"
             ],
             [
              1,
              "#f0f921"
             ]
            ],
            "type": "heatmap"
           }
          ],
          "heatmapgl": [
           {
            "colorbar": {
             "outlinewidth": 0,
             "ticks": ""
            },
            "colorscale": [
             [
              0,
              "#0d0887"
             ],
             [
              0.1111111111111111,
              "#46039f"
             ],
             [
              0.2222222222222222,
              "#7201a8"
             ],
             [
              0.3333333333333333,
              "#9c179e"
             ],
             [
              0.4444444444444444,
              "#bd3786"
             ],
             [
              0.5555555555555556,
              "#d8576b"
             ],
             [
              0.6666666666666666,
              "#ed7953"
             ],
             [
              0.7777777777777778,
              "#fb9f3a"
             ],
             [
              0.8888888888888888,
              "#fdca26"
             ],
             [
              1,
              "#f0f921"
             ]
            ],
            "type": "heatmapgl"
           }
          ],
          "histogram": [
           {
            "marker": {
             "pattern": {
              "fillmode": "overlay",
              "size": 10,
              "solidity": 0.2
             }
            },
            "type": "histogram"
           }
          ],
          "histogram2d": [
           {
            "colorbar": {
             "outlinewidth": 0,
             "ticks": ""
            },
            "colorscale": [
             [
              0,
              "#0d0887"
             ],
             [
              0.1111111111111111,
              "#46039f"
             ],
             [
              0.2222222222222222,
              "#7201a8"
             ],
             [
              0.3333333333333333,
              "#9c179e"
             ],
             [
              0.4444444444444444,
              "#bd3786"
             ],
             [
              0.5555555555555556,
              "#d8576b"
             ],
             [
              0.6666666666666666,
              "#ed7953"
             ],
             [
              0.7777777777777778,
              "#fb9f3a"
             ],
             [
              0.8888888888888888,
              "#fdca26"
             ],
             [
              1,
              "#f0f921"
             ]
            ],
            "type": "histogram2d"
           }
          ],
          "histogram2dcontour": [
           {
            "colorbar": {
             "outlinewidth": 0,
             "ticks": ""
            },
            "colorscale": [
             [
              0,
              "#0d0887"
             ],
             [
              0.1111111111111111,
              "#46039f"
             ],
             [
              0.2222222222222222,
              "#7201a8"
             ],
             [
              0.3333333333333333,
              "#9c179e"
             ],
             [
              0.4444444444444444,
              "#bd3786"
             ],
             [
              0.5555555555555556,
              "#d8576b"
             ],
             [
              0.6666666666666666,
              "#ed7953"
             ],
             [
              0.7777777777777778,
              "#fb9f3a"
             ],
             [
              0.8888888888888888,
              "#fdca26"
             ],
             [
              1,
              "#f0f921"
             ]
            ],
            "type": "histogram2dcontour"
           }
          ],
          "mesh3d": [
           {
            "colorbar": {
             "outlinewidth": 0,
             "ticks": ""
            },
            "type": "mesh3d"
           }
          ],
          "parcoords": [
           {
            "line": {
             "colorbar": {
              "outlinewidth": 0,
              "ticks": ""
             }
            },
            "type": "parcoords"
           }
          ],
          "pie": [
           {
            "automargin": true,
            "type": "pie"
           }
          ],
          "scatter": [
           {
            "fillpattern": {
             "fillmode": "overlay",
             "size": 10,
             "solidity": 0.2
            },
            "type": "scatter"
           }
          ],
          "scatter3d": [
           {
            "line": {
             "colorbar": {
              "outlinewidth": 0,
              "ticks": ""
             }
            },
            "marker": {
             "colorbar": {
              "outlinewidth": 0,
              "ticks": ""
             }
            },
            "type": "scatter3d"
           }
          ],
          "scattercarpet": [
           {
            "marker": {
             "colorbar": {
              "outlinewidth": 0,
              "ticks": ""
             }
            },
            "type": "scattercarpet"
           }
          ],
          "scattergeo": [
           {
            "marker": {
             "colorbar": {
              "outlinewidth": 0,
              "ticks": ""
             }
            },
            "type": "scattergeo"
           }
          ],
          "scattergl": [
           {
            "marker": {
             "colorbar": {
              "outlinewidth": 0,
              "ticks": ""
             }
            },
            "type": "scattergl"
           }
          ],
          "scattermapbox": [
           {
            "marker": {
             "colorbar": {
              "outlinewidth": 0,
              "ticks": ""
             }
            },
            "type": "scattermapbox"
           }
          ],
          "scatterpolar": [
           {
            "marker": {
             "colorbar": {
              "outlinewidth": 0,
              "ticks": ""
             }
            },
            "type": "scatterpolar"
           }
          ],
          "scatterpolargl": [
           {
            "marker": {
             "colorbar": {
              "outlinewidth": 0,
              "ticks": ""
             }
            },
            "type": "scatterpolargl"
           }
          ],
          "scatterternary": [
           {
            "marker": {
             "colorbar": {
              "outlinewidth": 0,
              "ticks": ""
             }
            },
            "type": "scatterternary"
           }
          ],
          "surface": [
           {
            "colorbar": {
             "outlinewidth": 0,
             "ticks": ""
            },
            "colorscale": [
             [
              0,
              "#0d0887"
             ],
             [
              0.1111111111111111,
              "#46039f"
             ],
             [
              0.2222222222222222,
              "#7201a8"
             ],
             [
              0.3333333333333333,
              "#9c179e"
             ],
             [
              0.4444444444444444,
              "#bd3786"
             ],
             [
              0.5555555555555556,
              "#d8576b"
             ],
             [
              0.6666666666666666,
              "#ed7953"
             ],
             [
              0.7777777777777778,
              "#fb9f3a"
             ],
             [
              0.8888888888888888,
              "#fdca26"
             ],
             [
              1,
              "#f0f921"
             ]
            ],
            "type": "surface"
           }
          ],
          "table": [
           {
            "cells": {
             "fill": {
              "color": "#EBF0F8"
             },
             "line": {
              "color": "white"
             }
            },
            "header": {
             "fill": {
              "color": "#C8D4E3"
             },
             "line": {
              "color": "white"
             }
            },
            "type": "table"
           }
          ]
         },
         "layout": {
          "annotationdefaults": {
           "arrowcolor": "#2a3f5f",
           "arrowhead": 0,
           "arrowwidth": 1
          },
          "autotypenumbers": "strict",
          "coloraxis": {
           "colorbar": {
            "outlinewidth": 0,
            "ticks": ""
           }
          },
          "colorscale": {
           "diverging": [
            [
             0,
             "#8e0152"
            ],
            [
             0.1,
             "#c51b7d"
            ],
            [
             0.2,
             "#de77ae"
            ],
            [
             0.3,
             "#f1b6da"
            ],
            [
             0.4,
             "#fde0ef"
            ],
            [
             0.5,
             "#f7f7f7"
            ],
            [
             0.6,
             "#e6f5d0"
            ],
            [
             0.7,
             "#b8e186"
            ],
            [
             0.8,
             "#7fbc41"
            ],
            [
             0.9,
             "#4d9221"
            ],
            [
             1,
             "#276419"
            ]
           ],
           "sequential": [
            [
             0,
             "#0d0887"
            ],
            [
             0.1111111111111111,
             "#46039f"
            ],
            [
             0.2222222222222222,
             "#7201a8"
            ],
            [
             0.3333333333333333,
             "#9c179e"
            ],
            [
             0.4444444444444444,
             "#bd3786"
            ],
            [
             0.5555555555555556,
             "#d8576b"
            ],
            [
             0.6666666666666666,
             "#ed7953"
            ],
            [
             0.7777777777777778,
             "#fb9f3a"
            ],
            [
             0.8888888888888888,
             "#fdca26"
            ],
            [
             1,
             "#f0f921"
            ]
           ],
           "sequentialminus": [
            [
             0,
             "#0d0887"
            ],
            [
             0.1111111111111111,
             "#46039f"
            ],
            [
             0.2222222222222222,
             "#7201a8"
            ],
            [
             0.3333333333333333,
             "#9c179e"
            ],
            [
             0.4444444444444444,
             "#bd3786"
            ],
            [
             0.5555555555555556,
             "#d8576b"
            ],
            [
             0.6666666666666666,
             "#ed7953"
            ],
            [
             0.7777777777777778,
             "#fb9f3a"
            ],
            [
             0.8888888888888888,
             "#fdca26"
            ],
            [
             1,
             "#f0f921"
            ]
           ]
          },
          "colorway": [
           "#636efa",
           "#EF553B",
           "#00cc96",
           "#ab63fa",
           "#FFA15A",
           "#19d3f3",
           "#FF6692",
           "#B6E880",
           "#FF97FF",
           "#FECB52"
          ],
          "font": {
           "color": "#2a3f5f"
          },
          "geo": {
           "bgcolor": "white",
           "lakecolor": "white",
           "landcolor": "#E5ECF6",
           "showlakes": true,
           "showland": true,
           "subunitcolor": "white"
          },
          "hoverlabel": {
           "align": "left"
          },
          "hovermode": "closest",
          "mapbox": {
           "style": "light"
          },
          "paper_bgcolor": "white",
          "plot_bgcolor": "#E5ECF6",
          "polar": {
           "angularaxis": {
            "gridcolor": "white",
            "linecolor": "white",
            "ticks": ""
           },
           "bgcolor": "#E5ECF6",
           "radialaxis": {
            "gridcolor": "white",
            "linecolor": "white",
            "ticks": ""
           }
          },
          "scene": {
           "xaxis": {
            "backgroundcolor": "#E5ECF6",
            "gridcolor": "white",
            "gridwidth": 2,
            "linecolor": "white",
            "showbackground": true,
            "ticks": "",
            "zerolinecolor": "white"
           },
           "yaxis": {
            "backgroundcolor": "#E5ECF6",
            "gridcolor": "white",
            "gridwidth": 2,
            "linecolor": "white",
            "showbackground": true,
            "ticks": "",
            "zerolinecolor": "white"
           },
           "zaxis": {
            "backgroundcolor": "#E5ECF6",
            "gridcolor": "white",
            "gridwidth": 2,
            "linecolor": "white",
            "showbackground": true,
            "ticks": "",
            "zerolinecolor": "white"
           }
          },
          "shapedefaults": {
           "line": {
            "color": "#2a3f5f"
           }
          },
          "ternary": {
           "aaxis": {
            "gridcolor": "white",
            "linecolor": "white",
            "ticks": ""
           },
           "baxis": {
            "gridcolor": "white",
            "linecolor": "white",
            "ticks": ""
           },
           "bgcolor": "#E5ECF6",
           "caxis": {
            "gridcolor": "white",
            "linecolor": "white",
            "ticks": ""
           }
          },
          "title": {
           "x": 0.05
          },
          "xaxis": {
           "automargin": true,
           "gridcolor": "white",
           "linecolor": "white",
           "ticks": "",
           "title": {
            "standoff": 15
           },
           "zerolinecolor": "white",
           "zerolinewidth": 2
          },
          "yaxis": {
           "automargin": true,
           "gridcolor": "white",
           "linecolor": "white",
           "ticks": "",
           "title": {
            "standoff": 15
           },
           "zerolinecolor": "white",
           "zerolinewidth": 2
          }
         }
        },
        "title": {
         "text": "Bearish engulfing pattern"
        },
        "xaxis": {
         "title": {
          "text": "Date"
         }
        },
        "yaxis": {
         "title": {
          "text": "Price"
         }
        }
       }
      }
     },
     "metadata": {},
     "output_type": "display_data"
    }
   ],
   "source": [
    "fig = go.Figure(data=[go.Candlestick(x=df.index, open=df['Open'], high=df['High'], low=df['Low'], close=df['Close'])])\n",
    "for i in range(2, len(df)):\n",
    "    if bearish_engulfing(df.iloc[i-2:i+1]):\n",
    "        fig.add_vrect(\n",
    "            x0=df.index[i-1], x1=df.index[i],\n",
    "            fillcolor=\"LightSalmon\", opacity=0.5,\n",
    "            layer=\"below\", line_width=0,\n",
    "        )\n",
    "        \n",
    "# set title and axis labels\n",
    "fig.update_layout(\n",
    "    title=\"Bearish engulfing pattern\",\n",
    "    xaxis_title=\"Date\",\n",
    "    yaxis_title=\"Price\",\n",
    ")\n",
    "fig"
   ]
  },
  {
   "cell_type": "code",
   "execution_count": 7,
   "metadata": {},
   "outputs": [
    {
     "ename": "KeyError",
     "evalue": "\"None of [Int64Index([23, 25, 52, 79, 91, 103, 112, 114, 236, 240, 254, 256, 264, 269,\\n            277, 311, 315],\\n           dtype='int64')] are in the [columns]\"",
     "output_type": "error",
     "traceback": [
      "\u001b[0;31m---------------------------------------------------------------------------\u001b[0m",
      "\u001b[0;31mKeyError\u001b[0m                                  Traceback (most recent call last)",
      "Cell \u001b[0;32mIn[7], line 12\u001b[0m\n\u001b[1;32m      5\u001b[0m         fig\u001b[39m.\u001b[39madd_vrect(\n\u001b[1;32m      6\u001b[0m             x0\u001b[39m=\u001b[39mdf\u001b[39m.\u001b[39mindex[i\u001b[39m-\u001b[39m\u001b[39m1\u001b[39m], x1\u001b[39m=\u001b[39mdf\u001b[39m.\u001b[39mindex[i],\n\u001b[1;32m      7\u001b[0m             fillcolor\u001b[39m=\u001b[39m\u001b[39m\"\u001b[39m\u001b[39mLightSalmon\u001b[39m\u001b[39m\"\u001b[39m, opacity\u001b[39m=\u001b[39m\u001b[39m0.5\u001b[39m,\n\u001b[1;32m      8\u001b[0m             layer\u001b[39m=\u001b[39m\u001b[39m\"\u001b[39m\u001b[39mbelow\u001b[39m\u001b[39m\"\u001b[39m, line_width\u001b[39m=\u001b[39m\u001b[39m0\u001b[39m,\n\u001b[1;32m      9\u001b[0m         )\n\u001b[1;32m     10\u001b[0m         indices\u001b[39m.\u001b[39mappend(i)\n\u001b[0;32m---> 12\u001b[0m df[indices]\n",
      "File \u001b[0;32m/usr/local/lib/python3.11/site-packages/pandas/core/frame.py:3813\u001b[0m, in \u001b[0;36mDataFrame.__getitem__\u001b[0;34m(self, key)\u001b[0m\n\u001b[1;32m   3811\u001b[0m     \u001b[39mif\u001b[39;00m is_iterator(key):\n\u001b[1;32m   3812\u001b[0m         key \u001b[39m=\u001b[39m \u001b[39mlist\u001b[39m(key)\n\u001b[0;32m-> 3813\u001b[0m     indexer \u001b[39m=\u001b[39m \u001b[39mself\u001b[39;49m\u001b[39m.\u001b[39;49mcolumns\u001b[39m.\u001b[39;49m_get_indexer_strict(key, \u001b[39m\"\u001b[39;49m\u001b[39mcolumns\u001b[39;49m\u001b[39m\"\u001b[39;49m)[\u001b[39m1\u001b[39m]\n\u001b[1;32m   3815\u001b[0m \u001b[39m# take() does not accept boolean indexers\u001b[39;00m\n\u001b[1;32m   3816\u001b[0m \u001b[39mif\u001b[39;00m \u001b[39mgetattr\u001b[39m(indexer, \u001b[39m\"\u001b[39m\u001b[39mdtype\u001b[39m\u001b[39m\"\u001b[39m, \u001b[39mNone\u001b[39;00m) \u001b[39m==\u001b[39m \u001b[39mbool\u001b[39m:\n",
      "File \u001b[0;32m/usr/local/lib/python3.11/site-packages/pandas/core/indexes/base.py:6070\u001b[0m, in \u001b[0;36mIndex._get_indexer_strict\u001b[0;34m(self, key, axis_name)\u001b[0m\n\u001b[1;32m   6067\u001b[0m \u001b[39melse\u001b[39;00m:\n\u001b[1;32m   6068\u001b[0m     keyarr, indexer, new_indexer \u001b[39m=\u001b[39m \u001b[39mself\u001b[39m\u001b[39m.\u001b[39m_reindex_non_unique(keyarr)\n\u001b[0;32m-> 6070\u001b[0m \u001b[39mself\u001b[39;49m\u001b[39m.\u001b[39;49m_raise_if_missing(keyarr, indexer, axis_name)\n\u001b[1;32m   6072\u001b[0m keyarr \u001b[39m=\u001b[39m \u001b[39mself\u001b[39m\u001b[39m.\u001b[39mtake(indexer)\n\u001b[1;32m   6073\u001b[0m \u001b[39mif\u001b[39;00m \u001b[39misinstance\u001b[39m(key, Index):\n\u001b[1;32m   6074\u001b[0m     \u001b[39m# GH 42790 - Preserve name from an Index\u001b[39;00m\n",
      "File \u001b[0;32m/usr/local/lib/python3.11/site-packages/pandas/core/indexes/base.py:6130\u001b[0m, in \u001b[0;36mIndex._raise_if_missing\u001b[0;34m(self, key, indexer, axis_name)\u001b[0m\n\u001b[1;32m   6128\u001b[0m     \u001b[39mif\u001b[39;00m use_interval_msg:\n\u001b[1;32m   6129\u001b[0m         key \u001b[39m=\u001b[39m \u001b[39mlist\u001b[39m(key)\n\u001b[0;32m-> 6130\u001b[0m     \u001b[39mraise\u001b[39;00m \u001b[39mKeyError\u001b[39;00m(\u001b[39mf\u001b[39m\u001b[39m\"\u001b[39m\u001b[39mNone of [\u001b[39m\u001b[39m{\u001b[39;00mkey\u001b[39m}\u001b[39;00m\u001b[39m] are in the [\u001b[39m\u001b[39m{\u001b[39;00maxis_name\u001b[39m}\u001b[39;00m\u001b[39m]\u001b[39m\u001b[39m\"\u001b[39m)\n\u001b[1;32m   6132\u001b[0m not_found \u001b[39m=\u001b[39m \u001b[39mlist\u001b[39m(ensure_index(key)[missing_mask\u001b[39m.\u001b[39mnonzero()[\u001b[39m0\u001b[39m]]\u001b[39m.\u001b[39munique())\n\u001b[1;32m   6133\u001b[0m \u001b[39mraise\u001b[39;00m \u001b[39mKeyError\u001b[39;00m(\u001b[39mf\u001b[39m\u001b[39m\"\u001b[39m\u001b[39m{\u001b[39;00mnot_found\u001b[39m}\u001b[39;00m\u001b[39m not in index\u001b[39m\u001b[39m\"\u001b[39m)\n",
      "\u001b[0;31mKeyError\u001b[0m: \"None of [Int64Index([23, 25, 52, 79, 91, 103, 112, 114, 236, 240, 254, 256, 264, 269,\\n            277, 311, 315],\\n           dtype='int64')] are in the [columns]\""
     ]
    }
   ],
   "source": [
    "# make a slilce of the dataframe for the bearish engulfing day\n",
    "dates = []\n",
    "_df = df.reset_index()\n",
    "for i in range(2, len(df)):\n",
    "    if bearish_engulfing(df.iloc[i-2:i+1]):\n",
    "        fig.add_vrect(\n",
    "            x0=df.index[i-1], x1=df.index[i],\n",
    "            fillcolor=\"LightSalmon\", opacity=0.5,\n",
    "            layer=\"below\", line_width=0,\n",
    "        )\n",
    "        dates.append(i)\n",
    "\n",
    "df[indices]"
   ]
  },
  {
   "cell_type": "code",
   "execution_count": 28,
   "metadata": {},
   "outputs": [
    {
     "data": {
      "application/vnd.plotly.v1+json": {
       "config": {
        "plotlyServerURL": "https://plot.ly"
       },
       "data": [
        {
         "close": [
          470.79998779296875,
          483.5,
          492.3999938964844,
          491.70001220703125,
          491.25,
          503.6499938964844,
          505.95001220703125,
          510.25,
          511.3500061035156,
          508.3500061035156,
          514,
          506.79998779296875,
          515.7999877929688,
          511.3999938964844,
          502.70001220703125,
          494.1499938964844,
          514.6500244140625,
          528.9500122070312,
          523.4500122070312,
          538.2999877929688,
          532.2999877929688,
          539.7999877929688,
          540.0999755859375,
          530.2999877929688,
          533.25,
          531.3499755859375,
          535.25,
          540.5499877929688,
          529.5999755859375,
          501.3999938964844,
          524.7999877929688,
          516.7000122070312,
          512.9500122070312,
          515.2999877929688,
          511.8500061035156,
          498.3999938964844,
          498.70001220703125,
          472.6499938964844,
          482.95001220703125,
          483.20001220703125,
          474.25,
          467.3999938964844,
          461.95001220703125,
          440.29998779296875,
          440.29998779296875,
          451.70001220703125,
          468.70001220703125,
          470.3500061035156,
          485.1499938964844,
          485.8500061035156,
          492.75,
          501.8999938964844,
          490.6000061035156,
          493.70001220703125,
          490.6499938964844,
          487.1000061035156,
          490.70001220703125,
          497.5,
          495,
          494.29998779296875,
          493.54998779296875,
          508.20001220703125,
          512.4000244140625,
          509.3999938964844,
          513.9500122070312,
          514.9500122070312,
          516.0999755859375,
          514.9000244140625,
          512.8499755859375,
          517.7000122070312,
          509.5,
          511.79998779296875,
          509.29998779296875,
          516.2999877929688,
          500.6000061035156,
          494.75,
          505.5,
          497.25,
          507.5,
          496.29998779296875,
          491,
          479.6499938964844,
          480,
          483.95001220703125,
          475.8999938964844,
          475.20001220703125,
          476.54998779296875,
          462.6499938964844,
          444.6499938964844,
          455,
          467.29998779296875,
          458,
          447.5,
          462.3999938964844,
          460.8999938964844,
          462.04998779296875,
          454.1000061035156,
          468.8999938964844,
          468.95001220703125,
          474.6000061035156,
          468.1000061035156,
          468.29998779296875,
          469.8500061035156,
          464.5,
          463.70001220703125,
          463.3999938964844,
          471.29998779296875,
          466.95001220703125,
          461.8500061035156,
          445.8500061035156,
          448.1000061035156,
          451.3500061035156,
          441.6000061035156,
          441,
          434.70001220703125,
          450.75,
          447.6499938964844,
          451.3999938964844,
          454.25,
          461.20001220703125,
          464.25,
          459.1000061035156,
          465.8999938964844,
          466.8500061035156,
          473.45001220703125,
          472.1499938964844,
          479.95001220703125,
          486.75,
          488.54998779296875,
          488.20001220703125,
          484.95001220703125,
          486.5,
          479.3500061035156,
          479.1000061035156,
          490.29998779296875,
          497.95001220703125,
          508.6000061035156,
          512.0499877929688,
          513.7000122070312,
          517.7999877929688,
          514.2000122070312,
          528.2000122070312,
          532.4500122070312,
          528.3499755859375,
          533.75,
          542.0999755859375,
          540.8499755859375,
          533.25,
          531.0499877929688,
          520.4000244140625,
          514.7000122070312,
          524.75,
          530.7000122070312,
          525.9500122070312,
          528.1500244140625,
          532.3499755859375,
          520.3499755859375,
          511.29998779296875,
          521.9000244140625,
          519.2999877929688,
          520.4000244140625,
          523.7999877929688,
          514.8499755859375,
          531.25,
          533.2999877929688,
          536.7000122070312,
          538.9000244140625,
          537.7999877929688,
          532.8499755859375,
          544.6500244140625,
          553.3499755859375,
          554.9000244140625,
          558,
          571.75,
          572.1500244140625,
          561.7999877929688,
          572.25,
          574.0499877929688,
          569.7000122070312,
          567.2999877929688,
          550.5999755859375,
          543.2999877929688,
          536.5,
          524.8499755859375,
          521.75,
          530.5999755859375,
          519.75,
          532.7000122070312,
          537.2999877929688,
          530.2000122070312,
          530.75,
          527.4000244140625,
          533.7999877929688,
          521.4500122070312,
          527.2000122070312,
          543.6500244140625,
          562.4500122070312,
          553.4000244140625,
          555.4000244140625,
          560.8499755859375,
          570.5,
          578.5499877929688,
          579.6500244140625,
          570.75,
          573.7999877929688,
          576.9000244140625,
          573.8499755859375,
          584.9000244140625,
          593.9500122070312,
          614.1500244140625,
          615.5499877929688,
          605.75,
          601.2999877929688,
          592.5499877929688,
          600.8499755859375,
          599.75,
          599.0499877929688,
          602.7000122070312,
          598.0999755859375,
          599.0999755859375,
          607.6500244140625,
          609.3499755859375,
          607.4000244140625,
          608.5999755859375,
          608.5499877929688,
          602.4500122070312,
          608.0999755859375,
          607.5499877929688,
          617.2999877929688,
          608.9500122070312,
          607.0499877929688,
          611.6500244140625,
          616.5,
          613.0499877929688,
          616.75,
          625.5,
          615.9500122070312,
          603.3499755859375,
          604.4500122070312,
          604.4500122070312,
          593.4000244140625,
          593.4000244140625,
          574,
          597.0999755859375,
          601.9000244140625,
          601.0499877929688,
          611.7999877929688,
          613.7000122070312,
          612.2000122070312,
          612.4000244140625,
          605.2000122070312,
          605.0999755859375,
          600.6500244140625,
          607.7000122070312,
          595.1500244140625,
          596.7000122070312,
          594.9000244140625,
          600.0999755859375,
          603,
          592.9500122070312,
          591.4500122070312,
          589.8499755859375,
          592.2000122070312,
          600.4500122070312,
          594.3499755859375,
          568.7000122070312,
          539.9500122070312,
          538.2000122070312,
          553.5,
          527.3499755859375,
          528.0999755859375,
          544.2000122070312,
          545.4000244140625,
          547.0999755859375,
          549.75,
          550.7999877929688,
          553.0499877929688,
          537.5,
          540.8499755859375,
          542.25,
          540.0999755859375,
          531,
          525.1500244140625,
          523.4500122070312,
          516.3499755859375,
          521,
          521.0499877929688,
          527.7000122070312,
          522.7999877929688,
          536.7000122070312,
          533.75,
          561.2000122070312,
          561.7000122070312,
          564.7999877929688,
          558.9000244140625,
          547.3499755859375,
          530,
          525.4000244140625,
          517.5499877929688,
          524.5,
          529.7999877929688,
          519.2000122070312,
          521.8499755859375,
          521.5499877929688,
          512.75,
          505.3500061035156,
          510.1499938964844,
          508.1000061035156,
          516.5,
          523.75,
          526.75,
          523,
          527.6500244140625,
          526.2999877929688,
          532.0999755859375,
          528.2000122070312,
          532.9500122070312,
          544,
          545.8499755859375,
          540.2999877929688,
          544.7999877929688,
          543.1500244140625,
          554.5999755859375,
          561.7999877929688,
          566.3499755859375,
          564.75,
          578.2999877929688
         ],
         "high": [
          472,
          484.70001220703125,
          495,
          494.3999938964844,
          501.95001220703125,
          504.95001220703125,
          507.79998779296875,
          513.5,
          512.8499755859375,
          510.3500061035156,
          518.9000244140625,
          517.4500122070312,
          517.6500244140625,
          519.1500244140625,
          507.5,
          506.79998779296875,
          517.5,
          530.8499755859375,
          536.4000244140625,
          540.9000244140625,
          543.9500122070312,
          544.25,
          544.7000122070312,
          546.4000244140625,
          549,
          537.6500244140625,
          536.5,
          543.9500122070312,
          537.7000122070312,
          515.5999755859375,
          526.8499755859375,
          528,
          520,
          520.9000244140625,
          517.5,
          505.29998779296875,
          505.3500061035156,
          487.95001220703125,
          491.8999938964844,
          485.29998779296875,
          479.79998779296875,
          483.3999938964844,
          470.8999938964844,
          453.95001220703125,
          442.1000061035156,
          454.29998779296875,
          476.6499938964844,
          474.79998779296875,
          486,
          490.5,
          494.29998779296875,
          503.5,
          502,
          495.79998779296875,
          502.3999938964844,
          494.79998779296875,
          493.29998779296875,
          498.6000061035156,
          501.3999938964844,
          500.3999938964844,
          497.54998779296875,
          509.75,
          514.9000244140625,
          516.4000244140625,
          515.2000122070312,
          519.9000244140625,
          519.5,
          522,
          516.7000122070312,
          520.9000244140625,
          515,
          520.9500122070312,
          513.7000122070312,
          518,
          513.5,
          499.20001220703125,
          507.8999938964844,
          502.79998779296875,
          510,
          512.5,
          495,
          496.45001220703125,
          494,
          486.1000061035156,
          483.70001220703125,
          482.54998779296875,
          479,
          473,
          477,
          461.5,
          469.6499938964844,
          468.6000061035156,
          450,
          464,
          471.3999938964844,
          466.79998779296875,
          464.45001220703125,
          470.1000061035156,
          475,
          476.8999938964844,
          476.3999938964844,
          472,
          472.3500061035156,
          475.5,
          465.6000061035156,
          465.95001220703125,
          475.54998779296875,
          470.8999938964844,
          464.1499938964844,
          454.04998779296875,
          449.25,
          455.45001220703125,
          457.75,
          447.54998779296875,
          443.45001220703125,
          454.95001220703125,
          451.20001220703125,
          456.45001220703125,
          460.3500061035156,
          464.8500061035156,
          465.75,
          462.70001220703125,
          469.29998779296875,
          468.79998779296875,
          474.1499938964844,
          480,
          481,
          488.25,
          489.8999938964844,
          491.29998779296875,
          491.3500061035156,
          492.45001220703125,
          488.8999938964844,
          484.3999938964844,
          491.5,
          498.54998779296875,
          510.6000061035156,
          513.4000244140625,
          520.2000122070312,
          519,
          520.7999877929688,
          529.9500122070312,
          537.5,
          537,
          535,
          544.9000244140625,
          546.4000244140625,
          544,
          542.9000244140625,
          524,
          523.5,
          526,
          531.7999877929688,
          533.8499755859375,
          530.5499877929688,
          534.7999877929688,
          533.6500244140625,
          519.9000244140625,
          524,
          523,
          528.2999877929688,
          529.5,
          517,
          532.5,
          540.9000244140625,
          537.8499755859375,
          540.7999877929688,
          542.7000122070312,
          537.4500122070312,
          546.2999877929688,
          557,
          558.5999755859375,
          560,
          574.8499755859375,
          578.5,
          574,
          574.4000244140625,
          577.9500122070312,
          577.2999877929688,
          574,
          568,
          549,
          550.9000244140625,
          539.7999877929688,
          535.7000122070312,
          536.9000244140625,
          531.6500244140625,
          535.7999877929688,
          541.7999877929688,
          535.5999755859375,
          533.9000244140625,
          533.7000122070312,
          535,
          533.7999877929688,
          534.8499755859375,
          544.7000122070312,
          563.5,
          563.4500122070312,
          556.7999877929688,
          565.7999877929688,
          572.5,
          586.2000122070312,
          585,
          582.6500244140625,
          577.4500122070312,
          585.75,
          578.9500122070312,
          587.9500122070312,
          596.9500122070312,
          622.7000122070312,
          621,
          615.0999755859375,
          619.5499877929688,
          603.9500122070312,
          602.0999755859375,
          603.5,
          602.75,
          605.75,
          602.0999755859375,
          600.7000122070312,
          609.5999755859375,
          611.2999877929688,
          613.7000122070312,
          610.9000244140625,
          611.7999877929688,
          611.4000244140625,
          609.7999877929688,
          609.5999755859375,
          618,
          619.7999877929688,
          612.9000244140625,
          613.7999877929688,
          618,
          618.7000122070312,
          617.4000244140625,
          626.75,
          629.5499877929688,
          615.5999755859375,
          609.5,
          606.5,
          609.1500244140625,
          599,
          590.7000122070312,
          601.7000122070312,
          603.0999755859375,
          607,
          618,
          620.5499877929688,
          619.2000122070312,
          616.5999755859375,
          614.9500122070312,
          611.5999755859375,
          607.4500122070312,
          609,
          609,
          599.5,
          597.9000244140625,
          602.9000244140625,
          606.0999755859375,
          606,
          597.1500244140625,
          591.75,
          596.5999755859375,
          601.75,
          604.5999755859375,
          595.8499755859375,
          568.5499877929688,
          554.3499755859375,
          557,
          565,
          532.6500244140625,
          545.9500122070312,
          558.7999877929688,
          551.4000244140625,
          554.5,
          552,
          557.25,
          556.9000244140625,
          544.5999755859375,
          544.6500244140625,
          546.8499755859375,
          539.6500244140625,
          533.9500122070312,
          528.9500122070312,
          521.9000244140625,
          524,
          527.5,
          529.7999877929688,
          528.4500122070312,
          537.4000244140625,
          539.9000244140625,
          564.2999877929688,
          567.9000244140625,
          565.5,
          565.75,
          554.9500122070312,
          553.1500244140625,
          532.7999877929688,
          532,
          529.3499755859375,
          531.5999755859375,
          526.5999755859375,
          523.4500122070312,
          527,
          521,
          514.9500122070312,
          514.1500244140625,
          511.75,
          518,
          524.9000244140625,
          528.5,
          527.5999755859375,
          533.7000122070312,
          530.4000244140625,
          535.7000122070312,
          534,
          534.25,
          545,
          548.5,
          547.5,
          545.4500122070312,
          546.4000244140625,
          555.5499877929688,
          567.9000244140625,
          567,
          567.4000244140625,
          580.4500122070312
         ],
         "low": [
          460.1000061035156,
          471.04998779296875,
          479.1499938964844,
          485.3999938964844,
          489.45001220703125,
          492.5,
          499.25,
          508.5,
          507,
          505.1499938964844,
          507.54998779296875,
          505,
          500.29998779296875,
          508,
          498,
          488,
          489,
          503.20001220703125,
          521.4000244140625,
          527.0499877929688,
          520,
          531.3499755859375,
          537.1500244140625,
          527.2999877929688,
          525.25,
          519,
          527.75,
          534.4000244140625,
          527.0999755859375,
          499.70001220703125,
          497.1000061035156,
          514,
          511.1499938964844,
          510.1000061035156,
          504.6499938964844,
          495.5,
          497.25,
          468,
          479.29998779296875,
          473.1000061035156,
          467,
          464.6000061035156,
          457.6499938964844,
          433.45001220703125,
          425,
          438.54998779296875,
          461.6499938964844,
          462,
          470.54998779296875,
          480.6499938964844,
          489.3999938964844,
          498.29998779296875,
          489,
          477.25,
          489.20001220703125,
          483.5,
          486.6000061035156,
          481.95001220703125,
          491.70001220703125,
          492.29998779296875,
          492.20001220703125,
          491,
          506,
          507.70001220703125,
          506,
          510.04998779296875,
          512.3499755859375,
          513.2000122070312,
          504.3500061035156,
          513.75,
          504,
          505.1000061035156,
          507,
          512.2000122070312,
          499,
          490.04998779296875,
          498.45001220703125,
          491.8500061035156,
          496.5,
          494,
          481.29998779296875,
          477.5,
          478.6499938964844,
          471,
          473.79998779296875,
          473.5,
          463.6499938964844,
          456.3500061035156,
          439.75,
          438.8500061035156,
          456.1499938964844,
          457.1000061035156,
          444.45001220703125,
          454.1499938964844,
          459.5,
          460.20001220703125,
          452.04998779296875,
          452.5,
          467.5,
          471.1000061035156,
          465,
          464.70001220703125,
          466.1499938964844,
          463.5,
          456.5,
          460.5,
          463.20001220703125,
          462.45001220703125,
          458.6000061035156,
          442.1000061035156,
          443.3500061035156,
          448.6000061035156,
          440.1499938964844,
          437.25,
          430.70001220703125,
          437.6000061035156,
          444.6499938964844,
          446,
          453.20001220703125,
          458.04998779296875,
          458,
          458,
          458.6000061035156,
          460.54998779296875,
          466.8500061035156,
          471,
          473.8999938964844,
          481.6000061035156,
          485.1499938964844,
          485,
          483.1000061035156,
          484.54998779296875,
          476.79998779296875,
          474.70001220703125,
          482.1000061035156,
          488,
          500.3999938964844,
          506.75,
          511.20001220703125,
          509.1499938964844,
          513.0999755859375,
          512.25,
          529.5499877929688,
          526.75,
          526.4000244140625,
          531.0999755859375,
          534.6500244140625,
          524.2000122070312,
          529,
          513.8499755859375,
          513.4000244140625,
          517.2000122070312,
          525.1500244140625,
          525,
          524.3499755859375,
          526.2000122070312,
          518.5,
          510,
          508.25,
          512.2999877929688,
          518.5,
          522.2000122070312,
          508.75,
          517.9500122070312,
          522.25,
          531.25,
          536.2999877929688,
          534.0999755859375,
          531.5499877929688,
          535.5,
          548,
          551.25,
          553.75,
          549.25,
          567.9000244140625,
          560.2999877929688,
          559.5499877929688,
          572.8499755859375,
          565.4000244140625,
          562,
          549.5,
          533,
          533.2000122070312,
          520.3499755859375,
          519.5499877929688,
          516.1500244140625,
          518.5,
          527.7999877929688,
          534.5999755859375,
          526.5499877929688,
          522.2000122070312,
          525.5,
          526,
          520.2000122070312,
          526,
          524.2000122070312,
          546.75,
          551.5499877929688,
          545.2999877929688,
          557.25,
          565.9000244140625,
          568,
          577.5999755859375,
          567,
          568.4000244140625,
          574.5999755859375,
          569.9000244140625,
          568,
          580.4000244140625,
          607.7000122070312,
          610.5499877929688,
          602.2000122070312,
          598.5,
          591.6500244140625,
          592.6500244140625,
          596,
          596.1500244140625,
          597.1500244140625,
          595.3499755859375,
          596.1500244140625,
          601,
          605.7999877929688,
          606.25,
          602.3499755859375,
          607.0999755859375,
          598.4000244140625,
          601.5499877929688,
          604.25,
          607.5499877929688,
          607.7999877929688,
          604.5,
          607.1500244140625,
          609.0999755859375,
          611,
          612.5,
          617.5,
          614.2999877929688,
          602.0999755859375,
          603,
          599.5499877929688,
          589.5999755859375,
          587.5499877929688,
          571.5,
          570.7000122070312,
          593.2999877929688,
          598.5499877929688,
          597.1500244140625,
          611.3499755859375,
          611.2000122070312,
          610,
          604,
          601.9500122070312,
          597,
          600.0999755859375,
          590.5999755859375,
          592.25,
          590.0999755859375,
          593.6500244140625,
          600.5999755859375,
          586.0499877929688,
          587.5999755859375,
          587.5499877929688,
          590.7999877929688,
          592.9500122070312,
          593.0499877929688,
          567.4000244140625,
          532.25,
          525.2000122070312,
          537.8499755859375,
          499.3500061035156,
          502.5,
          519.1500244140625,
          536.5499877929688,
          541.0499877929688,
          545.5,
          542.7999877929688,
          546.5,
          533.2999877929688,
          530.75,
          536.7999877929688,
          538.5,
          527.75,
          522.1500244140625,
          522.4000244140625,
          512.5,
          511.3500061035156,
          517.5999755859375,
          519,
          521.0499877929688,
          523.0999755859375,
          532.5,
          541.75,
          559,
          556.4500122070312,
          558,
          545,
          528.4500122070312,
          520,
          515.5499877929688,
          514.2999877929688,
          520.0999755859375,
          515,
          516.4500122070312,
          520.0999755859375,
          511.5,
          503.45001220703125,
          501.54998779296875,
          503.8500061035156,
          506.29998779296875,
          519.3499755859375,
          522.0999755859375,
          519.0499877929688,
          521.6500244140625,
          524.4000244140625,
          527.1500244140625,
          526,
          527.1500244140625,
          528,
          540.5,
          538.25,
          536.6500244140625,
          539.7000122070312,
          543.5,
          555,
          556.4500122070312,
          561.0999755859375,
          565.5
         ],
         "open": [
          462,
          472.5,
          481.8999938964844,
          487.70001220703125,
          493.45001220703125,
          493.3500061035156,
          503,
          509.8999938964844,
          510,
          509,
          508,
          514,
          505,
          516,
          505.29998779296875,
          502.3999938964844,
          490,
          503.54998779296875,
          534,
          529,
          543.9500122070312,
          536.6500244140625,
          537.1500244140625,
          542.1500244140625,
          531.9000244140625,
          535.5,
          534.9500122070312,
          537.0999755859375,
          536.25,
          515,
          502,
          526.5,
          520,
          510.1000061035156,
          511.54998779296875,
          500.8999938964844,
          503,
          480,
          480,
          476.8999938964844,
          478,
          480,
          460.29998779296875,
          447.5,
          438,
          442,
          469.8999938964844,
          466.3999938964844,
          471,
          489,
          493,
          499,
          502,
          490.6000061035156,
          498.5,
          485,
          491.75,
          490.95001220703125,
          500,
          499.29998779296875,
          494.29998779296875,
          491,
          509.29998779296875,
          514.4000244140625,
          507,
          510.04998779296875,
          519.5,
          513.5,
          512.75,
          514.2999877929688,
          512,
          513.25,
          512,
          513.4000244140625,
          512.9000244140625,
          495,
          499,
          500,
          499.1499938964844,
          508.1000061035156,
          492.6499938964844,
          492,
          485,
          471,
          477.1000061035156,
          477,
          475.25,
          473,
          469.45001220703125,
          445,
          458.29998779296875,
          467.8999938964844,
          449.04998779296875,
          454.8500061035156,
          463.1000061035156,
          462.3999938964844,
          461,
          456.8500061035156,
          471.3999938964844,
          473,
          474,
          468,
          466.8999938964844,
          473.25,
          464.20001220703125,
          461.8500061035156,
          466.6000061035156,
          468.95001220703125,
          462,
          454,
          445,
          448.95001220703125,
          455.1499938964844,
          440,
          441.5,
          439.5,
          448.75,
          449,
          455.79998779296875,
          459.95001220703125,
          458.8999938964844,
          460,
          459,
          463.3500061035156,
          466.8500061035156,
          475.1499938964844,
          475.1499938964844,
          484,
          489,
          485,
          485,
          487.75,
          486.6000061035156,
          482.54998779296875,
          484.54998779296875,
          488,
          501,
          509.79998779296875,
          513.4500122070312,
          513.4000244140625,
          517.7000122070312,
          515.2999877929688,
          533.2000122070312,
          535.0499877929688,
          529.0499877929688,
          531.9000244140625,
          541.9000244140625,
          543.6500244140625,
          535.5499877929688,
          524,
          521.5499877929688,
          520,
          525.7000122070312,
          533.2999877929688,
          528.8499755859375,
          526.8499755859375,
          532,
          519,
          508.25,
          519,
          521.9500122070312,
          523.7999877929688,
          511.29998779296875,
          518.2000122070312,
          522.25,
          537,
          537,
          538,
          534.4000244140625,
          536,
          549.6500244140625,
          554.9000244140625,
          560,
          550,
          572.5499877929688,
          569.0999755859375,
          560.7000122070312,
          577.9500122070312,
          575,
          566.75,
          564.7999877929688,
          545.7999877929688,
          544.5499877929688,
          532.9000244140625,
          529,
          524,
          527.5999755859375,
          533,
          534.5999755859375,
          535.5,
          525.7000122070312,
          530.75,
          530,
          533,
          530.2000122070312,
          526.4000244140625,
          547.0999755859375,
          563,
          552,
          557.25,
          567,
          572.5,
          583.9500122070312,
          579.9500122070312,
          574.9500122070312,
          576.3499755859375,
          575.9000244140625,
          569,
          586,
          613,
          621,
          613.0999755859375,
          617.25,
          603.9500122070312,
          594.2999877929688,
          599.9500122070312,
          599.0999755859375,
          601,
          602.0999755859375,
          598.1500244140625,
          601.5499877929688,
          609.75,
          610.5499877929688,
          605.5999755859375,
          607.0999755859375,
          608.5,
          607.8499755859375,
          607.5,
          608.5,
          614.75,
          610.8499755859375,
          609.75,
          614.4000244140625,
          614.7999877929688,
          613.5,
          618.5,
          625.5499877929688,
          612,
          604,
          603,
          605.9000244140625,
          597,
          590,
          574,
          600.4000244140625,
          600.9000244140625,
          600,
          615.25,
          614.9500122070312,
          614.5,
          611.8499755859375,
          607,
          607.4000244140625,
          605,
          608.4500122070312,
          596.4500122070312,
          597.9000244140625,
          597.9000244140625,
          603,
          603,
          595.9000244140625,
          591,
          593.7999877929688,
          598.5,
          603.5,
          595.8499755859375,
          568,
          536,
          545,
          561.4000244140625,
          520.2000122070312,
          536,
          558.7999877929688,
          548,
          550,
          552,
          546.5,
          554,
          539.9500122070312,
          540,
          546.8499755859375,
          538.5,
          532,
          527.0999755859375,
          520.75,
          516.9500122070312,
          524.2000122070312,
          521.0999755859375,
          527.25,
          523.25,
          535.9500122070312,
          542,
          564.9000244140625,
          560,
          564.75,
          553.0999755859375,
          547,
          527.6500244140625,
          529.7999877929688,
          518.4000244140625,
          528.6500244140625,
          526.5999755859375,
          522,
          522.2000122070312,
          519.4000244140625,
          514.5,
          507,
          511.45001220703125,
          509,
          520.6500244140625,
          524.75,
          527,
          524,
          529.25,
          530.8499755859375,
          533.2000122070312,
          529.2999877929688,
          528,
          545.3499755859375,
          544,
          541.2000122070312,
          545,
          543.7999877929688,
          555,
          562,
          565,
          567.7999877929688
         ],
         "type": "candlestick",
         "x": [
          "2022-01-03T00:00:00",
          "2022-01-04T00:00:00",
          "2022-01-05T00:00:00",
          "2022-01-06T00:00:00",
          "2022-01-07T00:00:00",
          "2022-01-10T00:00:00",
          "2022-01-11T00:00:00",
          "2022-01-12T00:00:00",
          "2022-01-13T00:00:00",
          "2022-01-14T00:00:00",
          "2022-01-17T00:00:00",
          "2022-01-18T00:00:00",
          "2022-01-19T00:00:00",
          "2022-01-20T00:00:00",
          "2022-01-21T00:00:00",
          "2022-01-24T00:00:00",
          "2022-01-25T00:00:00",
          "2022-01-27T00:00:00",
          "2022-01-28T00:00:00",
          "2022-01-31T00:00:00",
          "2022-02-01T00:00:00",
          "2022-02-02T00:00:00",
          "2022-02-03T00:00:00",
          "2022-02-04T00:00:00",
          "2022-02-07T00:00:00",
          "2022-02-08T00:00:00",
          "2022-02-09T00:00:00",
          "2022-02-10T00:00:00",
          "2022-02-11T00:00:00",
          "2022-02-14T00:00:00",
          "2022-02-15T00:00:00",
          "2022-02-16T00:00:00",
          "2022-02-17T00:00:00",
          "2022-02-18T00:00:00",
          "2022-02-21T00:00:00",
          "2022-02-22T00:00:00",
          "2022-02-23T00:00:00",
          "2022-02-24T00:00:00",
          "2022-02-25T00:00:00",
          "2022-02-28T00:00:00",
          "2022-03-02T00:00:00",
          "2022-03-03T00:00:00",
          "2022-03-04T00:00:00",
          "2022-03-07T00:00:00",
          "2022-03-08T00:00:00",
          "2022-03-09T00:00:00",
          "2022-03-10T00:00:00",
          "2022-03-11T00:00:00",
          "2022-03-14T00:00:00",
          "2022-03-15T00:00:00",
          "2022-03-16T00:00:00",
          "2022-03-17T00:00:00",
          "2022-03-21T00:00:00",
          "2022-03-22T00:00:00",
          "2022-03-23T00:00:00",
          "2022-03-24T00:00:00",
          "2022-03-25T00:00:00",
          "2022-03-28T00:00:00",
          "2022-03-29T00:00:00",
          "2022-03-30T00:00:00",
          "2022-03-31T00:00:00",
          "2022-04-01T00:00:00",
          "2022-04-04T00:00:00",
          "2022-04-05T00:00:00",
          "2022-04-06T00:00:00",
          "2022-04-07T00:00:00",
          "2022-04-08T00:00:00",
          "2022-04-11T00:00:00",
          "2022-04-12T00:00:00",
          "2022-04-13T00:00:00",
          "2022-04-18T00:00:00",
          "2022-04-19T00:00:00",
          "2022-04-20T00:00:00",
          "2022-04-21T00:00:00",
          "2022-04-22T00:00:00",
          "2022-04-25T00:00:00",
          "2022-04-26T00:00:00",
          "2022-04-27T00:00:00",
          "2022-04-28T00:00:00",
          "2022-04-29T00:00:00",
          "2022-05-02T00:00:00",
          "2022-05-04T00:00:00",
          "2022-05-05T00:00:00",
          "2022-05-06T00:00:00",
          "2022-05-09T00:00:00",
          "2022-05-10T00:00:00",
          "2022-05-11T00:00:00",
          "2022-05-12T00:00:00",
          "2022-05-13T00:00:00",
          "2022-05-16T00:00:00",
          "2022-05-17T00:00:00",
          "2022-05-18T00:00:00",
          "2022-05-19T00:00:00",
          "2022-05-20T00:00:00",
          "2022-05-23T00:00:00",
          "2022-05-24T00:00:00",
          "2022-05-25T00:00:00",
          "2022-05-26T00:00:00",
          "2022-05-27T00:00:00",
          "2022-05-30T00:00:00",
          "2022-05-31T00:00:00",
          "2022-06-01T00:00:00",
          "2022-06-02T00:00:00",
          "2022-06-03T00:00:00",
          "2022-06-06T00:00:00",
          "2022-06-07T00:00:00",
          "2022-06-08T00:00:00",
          "2022-06-09T00:00:00",
          "2022-06-10T00:00:00",
          "2022-06-13T00:00:00",
          "2022-06-14T00:00:00",
          "2022-06-15T00:00:00",
          "2022-06-16T00:00:00",
          "2022-06-17T00:00:00",
          "2022-06-20T00:00:00",
          "2022-06-21T00:00:00",
          "2022-06-22T00:00:00",
          "2022-06-23T00:00:00",
          "2022-06-24T00:00:00",
          "2022-06-27T00:00:00",
          "2022-06-28T00:00:00",
          "2022-06-29T00:00:00",
          "2022-06-30T00:00:00",
          "2022-07-01T00:00:00",
          "2022-07-04T00:00:00",
          "2022-07-05T00:00:00",
          "2022-07-06T00:00:00",
          "2022-07-07T00:00:00",
          "2022-07-08T00:00:00",
          "2022-07-11T00:00:00",
          "2022-07-12T00:00:00",
          "2022-07-13T00:00:00",
          "2022-07-14T00:00:00",
          "2022-07-15T00:00:00",
          "2022-07-18T00:00:00",
          "2022-07-19T00:00:00",
          "2022-07-20T00:00:00",
          "2022-07-21T00:00:00",
          "2022-07-22T00:00:00",
          "2022-07-25T00:00:00",
          "2022-07-26T00:00:00",
          "2022-07-27T00:00:00",
          "2022-07-28T00:00:00",
          "2022-07-29T00:00:00",
          "2022-08-01T00:00:00",
          "2022-08-02T00:00:00",
          "2022-08-03T00:00:00",
          "2022-08-04T00:00:00",
          "2022-08-05T00:00:00",
          "2022-08-08T00:00:00",
          "2022-08-10T00:00:00",
          "2022-08-11T00:00:00",
          "2022-08-12T00:00:00",
          "2022-08-16T00:00:00",
          "2022-08-17T00:00:00",
          "2022-08-18T00:00:00",
          "2022-08-19T00:00:00",
          "2022-08-22T00:00:00",
          "2022-08-23T00:00:00",
          "2022-08-24T00:00:00",
          "2022-08-25T00:00:00",
          "2022-08-26T00:00:00",
          "2022-08-29T00:00:00",
          "2022-08-30T00:00:00",
          "2022-09-01T00:00:00",
          "2022-09-02T00:00:00",
          "2022-09-05T00:00:00",
          "2022-09-06T00:00:00",
          "2022-09-07T00:00:00",
          "2022-09-08T00:00:00",
          "2022-09-09T00:00:00",
          "2022-09-12T00:00:00",
          "2022-09-13T00:00:00",
          "2022-09-14T00:00:00",
          "2022-09-15T00:00:00",
          "2022-09-16T00:00:00",
          "2022-09-19T00:00:00",
          "2022-09-20T00:00:00",
          "2022-09-21T00:00:00",
          "2022-09-22T00:00:00",
          "2022-09-23T00:00:00",
          "2022-09-26T00:00:00",
          "2022-09-27T00:00:00",
          "2022-09-28T00:00:00",
          "2022-09-29T00:00:00",
          "2022-09-30T00:00:00",
          "2022-10-03T00:00:00",
          "2022-10-04T00:00:00",
          "2022-10-06T00:00:00",
          "2022-10-07T00:00:00",
          "2022-10-10T00:00:00",
          "2022-10-11T00:00:00",
          "2022-10-12T00:00:00",
          "2022-10-13T00:00:00",
          "2022-10-14T00:00:00",
          "2022-10-17T00:00:00",
          "2022-10-18T00:00:00",
          "2022-10-19T00:00:00",
          "2022-10-20T00:00:00",
          "2022-10-21T00:00:00",
          "2022-10-24T00:00:00",
          "2022-10-25T00:00:00",
          "2022-10-27T00:00:00",
          "2022-10-28T00:00:00",
          "2022-10-31T00:00:00",
          "2022-11-01T00:00:00",
          "2022-11-02T00:00:00",
          "2022-11-03T00:00:00",
          "2022-11-04T00:00:00",
          "2022-11-07T00:00:00",
          "2022-11-09T00:00:00",
          "2022-11-10T00:00:00",
          "2022-11-11T00:00:00",
          "2022-11-14T00:00:00",
          "2022-11-15T00:00:00",
          "2022-11-16T00:00:00",
          "2022-11-17T00:00:00",
          "2022-11-18T00:00:00",
          "2022-11-21T00:00:00",
          "2022-11-22T00:00:00",
          "2022-11-23T00:00:00",
          "2022-11-24T00:00:00",
          "2022-11-25T00:00:00",
          "2022-11-28T00:00:00",
          "2022-11-29T00:00:00",
          "2022-11-30T00:00:00",
          "2022-12-01T00:00:00",
          "2022-12-02T00:00:00",
          "2022-12-05T00:00:00",
          "2022-12-06T00:00:00",
          "2022-12-07T00:00:00",
          "2022-12-08T00:00:00",
          "2022-12-09T00:00:00",
          "2022-12-12T00:00:00",
          "2022-12-13T00:00:00",
          "2022-12-14T00:00:00",
          "2022-12-15T00:00:00",
          "2022-12-16T00:00:00",
          "2022-12-19T00:00:00",
          "2022-12-20T00:00:00",
          "2022-12-21T00:00:00",
          "2022-12-22T00:00:00",
          "2022-12-23T00:00:00",
          "2022-12-26T00:00:00",
          "2022-12-27T00:00:00",
          "2022-12-28T00:00:00",
          "2022-12-29T00:00:00",
          "2022-12-30T00:00:00",
          "2023-01-02T00:00:00",
          "2023-01-03T00:00:00",
          "2023-01-04T00:00:00",
          "2023-01-05T00:00:00",
          "2023-01-06T00:00:00",
          "2023-01-09T00:00:00",
          "2023-01-10T00:00:00",
          "2023-01-11T00:00:00",
          "2023-01-12T00:00:00",
          "2023-01-13T00:00:00",
          "2023-01-16T00:00:00",
          "2023-01-17T00:00:00",
          "2023-01-18T00:00:00",
          "2023-01-19T00:00:00",
          "2023-01-20T00:00:00",
          "2023-01-23T00:00:00",
          "2023-01-24T00:00:00",
          "2023-01-25T00:00:00",
          "2023-01-27T00:00:00",
          "2023-01-30T00:00:00",
          "2023-01-31T00:00:00",
          "2023-02-01T00:00:00",
          "2023-02-02T00:00:00",
          "2023-02-03T00:00:00",
          "2023-02-06T00:00:00",
          "2023-02-07T00:00:00",
          "2023-02-08T00:00:00",
          "2023-02-09T00:00:00",
          "2023-02-10T00:00:00",
          "2023-02-13T00:00:00",
          "2023-02-14T00:00:00",
          "2023-02-15T00:00:00",
          "2023-02-16T00:00:00",
          "2023-02-17T00:00:00",
          "2023-02-20T00:00:00",
          "2023-02-21T00:00:00",
          "2023-02-22T00:00:00",
          "2023-02-23T00:00:00",
          "2023-02-24T00:00:00",
          "2023-02-27T00:00:00",
          "2023-02-28T00:00:00",
          "2023-03-01T00:00:00",
          "2023-03-02T00:00:00",
          "2023-03-03T00:00:00",
          "2023-03-06T00:00:00",
          "2023-03-08T00:00:00",
          "2023-03-09T00:00:00",
          "2023-03-10T00:00:00",
          "2023-03-13T00:00:00",
          "2023-03-14T00:00:00",
          "2023-03-15T00:00:00",
          "2023-03-16T00:00:00",
          "2023-03-17T00:00:00",
          "2023-03-20T00:00:00",
          "2023-03-21T00:00:00",
          "2023-03-22T00:00:00",
          "2023-03-23T00:00:00",
          "2023-03-24T00:00:00",
          "2023-03-27T00:00:00",
          "2023-03-28T00:00:00",
          "2023-03-29T00:00:00",
          "2023-03-31T00:00:00",
          "2023-04-03T00:00:00",
          "2023-04-05T00:00:00",
          "2023-04-06T00:00:00",
          "2023-04-10T00:00:00",
          "2023-04-11T00:00:00",
          "2023-04-12T00:00:00",
          "2023-04-13T00:00:00",
          "2023-04-17T00:00:00",
          "2023-04-18T00:00:00",
          "2023-04-19T00:00:00",
          "2023-04-20T00:00:00",
          "2023-04-21T00:00:00",
          "2023-04-24T00:00:00",
          "2023-04-25T00:00:00",
          "2023-04-26T00:00:00",
          "2023-04-27T00:00:00",
          "2023-04-28T00:00:00"
         ]
        }
       ],
       "layout": {
        "shapes": [
         {
          "fillcolor": "LightGreen",
          "layer": "below",
          "line": {
           "width": 0
          },
          "opacity": 0.5,
          "type": "rect",
          "x0": "2022-01-14T00:00:00",
          "x1": "2022-01-17T00:00:00",
          "xref": "x",
          "y0": 0,
          "y1": 1,
          "yref": "y domain"
         },
         {
          "fillcolor": "LightGreen",
          "layer": "below",
          "line": {
           "width": 0
          },
          "opacity": 0.5,
          "type": "rect",
          "x0": "2022-01-18T00:00:00",
          "x1": "2022-01-19T00:00:00",
          "xref": "x",
          "y0": 0,
          "y1": 1,
          "yref": "y domain"
         },
         {
          "fillcolor": "LightGreen",
          "layer": "below",
          "line": {
           "width": 0
          },
          "opacity": 0.5,
          "type": "rect",
          "x0": "2022-01-24T00:00:00",
          "x1": "2022-01-25T00:00:00",
          "xref": "x",
          "y0": 0,
          "y1": 1,
          "yref": "y domain"
         },
         {
          "fillcolor": "LightSalmon",
          "layer": "below",
          "line": {
           "width": 0
          },
          "opacity": 0.5,
          "type": "rect",
          "x0": "2022-02-03T00:00:00",
          "x1": "2022-02-04T00:00:00",
          "xref": "x",
          "y0": 0,
          "y1": 1,
          "yref": "y domain"
         },
         {
          "fillcolor": "LightSalmon",
          "layer": "below",
          "line": {
           "width": 0
          },
          "opacity": 0.5,
          "type": "rect",
          "x0": "2022-02-07T00:00:00",
          "x1": "2022-02-08T00:00:00",
          "xref": "x",
          "y0": 0,
          "y1": 1,
          "yref": "y domain"
         },
         {
          "fillcolor": "LightGreen",
          "layer": "below",
          "line": {
           "width": 0
          },
          "opacity": 0.5,
          "type": "rect",
          "x0": "2022-03-10T00:00:00",
          "x1": "2022-03-11T00:00:00",
          "xref": "x",
          "y0": 0,
          "y1": 1,
          "yref": "y domain"
         },
         {
          "fillcolor": "LightSalmon",
          "layer": "below",
          "line": {
           "width": 0
          },
          "opacity": 0.5,
          "type": "rect",
          "x0": "2022-03-17T00:00:00",
          "x1": "2022-03-21T00:00:00",
          "xref": "x",
          "y0": 0,
          "y1": 1,
          "yref": "y domain"
         },
         {
          "fillcolor": "LightGreen",
          "layer": "below",
          "line": {
           "width": 0
          },
          "opacity": 0.5,
          "type": "rect",
          "x0": "2022-03-31T00:00:00",
          "x1": "2022-04-01T00:00:00",
          "xref": "x",
          "y0": 0,
          "y1": 1,
          "yref": "y domain"
         },
         {
          "fillcolor": "LightSalmon",
          "layer": "below",
          "line": {
           "width": 0
          },
          "opacity": 0.5,
          "type": "rect",
          "x0": "2022-04-28T00:00:00",
          "x1": "2022-04-29T00:00:00",
          "xref": "x",
          "y0": 0,
          "y1": 1,
          "yref": "y domain"
         },
         {
          "fillcolor": "LightSalmon",
          "layer": "below",
          "line": {
           "width": 0
          },
          "opacity": 0.5,
          "type": "rect",
          "x0": "2022-05-17T00:00:00",
          "x1": "2022-05-18T00:00:00",
          "xref": "x",
          "y0": 0,
          "y1": 1,
          "yref": "y domain"
         },
         {
          "fillcolor": "LightSalmon",
          "layer": "below",
          "line": {
           "width": 0
          },
          "opacity": 0.5,
          "type": "rect",
          "x0": "2022-06-02T00:00:00",
          "x1": "2022-06-03T00:00:00",
          "xref": "x",
          "y0": 0,
          "y1": 1,
          "yref": "y domain"
         },
         {
          "fillcolor": "LightSalmon",
          "layer": "below",
          "line": {
           "width": 0
          },
          "opacity": 0.5,
          "type": "rect",
          "x0": "2022-06-15T00:00:00",
          "x1": "2022-06-16T00:00:00",
          "xref": "x",
          "y0": 0,
          "y1": 1,
          "yref": "y domain"
         },
         {
          "fillcolor": "LightSalmon",
          "layer": "below",
          "line": {
           "width": 0
          },
          "opacity": 0.5,
          "type": "rect",
          "x0": "2022-06-17T00:00:00",
          "x1": "2022-06-20T00:00:00",
          "xref": "x",
          "y0": 0,
          "y1": 1,
          "yref": "y domain"
         },
         {
          "fillcolor": "LightGreen",
          "layer": "below",
          "line": {
           "width": 0
          },
          "opacity": 0.5,
          "type": "rect",
          "x0": "2022-06-29T00:00:00",
          "x1": "2022-06-30T00:00:00",
          "xref": "x",
          "y0": 0,
          "y1": 1,
          "yref": "y domain"
         },
         {
          "fillcolor": "LightGreen",
          "layer": "below",
          "line": {
           "width": 0
          },
          "opacity": 0.5,
          "type": "rect",
          "x0": "2022-08-17T00:00:00",
          "x1": "2022-08-18T00:00:00",
          "xref": "x",
          "y0": 0,
          "y1": 1,
          "yref": "y domain"
         },
         {
          "fillcolor": "LightGreen",
          "layer": "below",
          "line": {
           "width": 0
          },
          "opacity": 0.5,
          "type": "rect",
          "x0": "2022-08-22T00:00:00",
          "x1": "2022-08-23T00:00:00",
          "xref": "x",
          "y0": 0,
          "y1": 1,
          "yref": "y domain"
         },
         {
          "fillcolor": "LightGreen",
          "layer": "below",
          "line": {
           "width": 0
          },
          "opacity": 0.5,
          "type": "rect",
          "x0": "2022-09-13T00:00:00",
          "x1": "2022-09-14T00:00:00",
          "xref": "x",
          "y0": 0,
          "y1": 1,
          "yref": "y domain"
         },
         {
          "fillcolor": "LightGreen",
          "layer": "below",
          "line": {
           "width": 0
          },
          "opacity": 0.5,
          "type": "rect",
          "x0": "2022-09-16T00:00:00",
          "x1": "2022-09-19T00:00:00",
          "xref": "x",
          "y0": 0,
          "y1": 1,
          "yref": "y domain"
         },
         {
          "fillcolor": "LightGreen",
          "layer": "below",
          "line": {
           "width": 0
          },
          "opacity": 0.5,
          "type": "rect",
          "x0": "2022-10-14T00:00:00",
          "x1": "2022-10-17T00:00:00",
          "xref": "x",
          "y0": 0,
          "y1": 1,
          "yref": "y domain"
         },
         {
          "fillcolor": "LightGreen",
          "layer": "below",
          "line": {
           "width": 0
          },
          "opacity": 0.5,
          "type": "rect",
          "x0": "2022-11-02T00:00:00",
          "x1": "2022-11-03T00:00:00",
          "xref": "x",
          "y0": 0,
          "y1": 1,
          "yref": "y domain"
         },
         {
          "fillcolor": "LightSalmon",
          "layer": "below",
          "line": {
           "width": 0
          },
          "opacity": 0.5,
          "type": "rect",
          "x0": "2022-12-14T00:00:00",
          "x1": "2022-12-15T00:00:00",
          "xref": "x",
          "y0": 0,
          "y1": 1,
          "yref": "y domain"
         },
         {
          "fillcolor": "LightSalmon",
          "layer": "below",
          "line": {
           "width": 0
          },
          "opacity": 0.5,
          "type": "rect",
          "x0": "2022-12-20T00:00:00",
          "x1": "2022-12-21T00:00:00",
          "xref": "x",
          "y0": 0,
          "y1": 1,
          "yref": "y domain"
         },
         {
          "fillcolor": "LightSalmon",
          "layer": "below",
          "line": {
           "width": 0
          },
          "opacity": 0.5,
          "type": "rect",
          "x0": "2023-01-09T00:00:00",
          "x1": "2023-01-10T00:00:00",
          "xref": "x",
          "y0": 0,
          "y1": 1,
          "yref": "y domain"
         },
         {
          "fillcolor": "LightSalmon",
          "layer": "below",
          "line": {
           "width": 0
          },
          "opacity": 0.5,
          "type": "rect",
          "x0": "2023-01-11T00:00:00",
          "x1": "2023-01-12T00:00:00",
          "xref": "x",
          "y0": 0,
          "y1": 1,
          "yref": "y domain"
         },
         {
          "fillcolor": "LightSalmon",
          "layer": "below",
          "line": {
           "width": 0
          },
          "opacity": 0.5,
          "type": "rect",
          "x0": "2023-01-23T00:00:00",
          "x1": "2023-01-24T00:00:00",
          "xref": "x",
          "y0": 0,
          "y1": 1,
          "yref": "y domain"
         },
         {
          "fillcolor": "LightSalmon",
          "layer": "below",
          "line": {
           "width": 0
          },
          "opacity": 0.5,
          "type": "rect",
          "x0": "2023-01-31T00:00:00",
          "x1": "2023-02-01T00:00:00",
          "xref": "x",
          "y0": 0,
          "y1": 1,
          "yref": "y domain"
         },
         {
          "fillcolor": "LightGreen",
          "layer": "below",
          "line": {
           "width": 0
          },
          "opacity": 0.5,
          "type": "rect",
          "x0": "2023-02-09T00:00:00",
          "x1": "2023-02-10T00:00:00",
          "xref": "x",
          "y0": 0,
          "y1": 1,
          "yref": "y domain"
         },
         {
          "fillcolor": "LightSalmon",
          "layer": "below",
          "line": {
           "width": 0
          },
          "opacity": 0.5,
          "type": "rect",
          "x0": "2023-02-10T00:00:00",
          "x1": "2023-02-13T00:00:00",
          "xref": "x",
          "y0": 0,
          "y1": 1,
          "yref": "y domain"
         },
         {
          "fillcolor": "LightSalmon",
          "layer": "below",
          "line": {
           "width": 0
          },
          "opacity": 0.5,
          "type": "rect",
          "x0": "2023-04-03T00:00:00",
          "x1": "2023-04-05T00:00:00",
          "xref": "x",
          "y0": 0,
          "y1": 1,
          "yref": "y domain"
         },
         {
          "fillcolor": "LightSalmon",
          "layer": "below",
          "line": {
           "width": 0
          },
          "opacity": 0.5,
          "type": "rect",
          "x0": "2023-04-11T00:00:00",
          "x1": "2023-04-12T00:00:00",
          "xref": "x",
          "y0": 0,
          "y1": 1,
          "yref": "y domain"
         }
        ],
        "template": {
         "data": {
          "bar": [
           {
            "error_x": {
             "color": "#2a3f5f"
            },
            "error_y": {
             "color": "#2a3f5f"
            },
            "marker": {
             "line": {
              "color": "#E5ECF6",
              "width": 0.5
             },
             "pattern": {
              "fillmode": "overlay",
              "size": 10,
              "solidity": 0.2
             }
            },
            "type": "bar"
           }
          ],
          "barpolar": [
           {
            "marker": {
             "line": {
              "color": "#E5ECF6",
              "width": 0.5
             },
             "pattern": {
              "fillmode": "overlay",
              "size": 10,
              "solidity": 0.2
             }
            },
            "type": "barpolar"
           }
          ],
          "carpet": [
           {
            "aaxis": {
             "endlinecolor": "#2a3f5f",
             "gridcolor": "white",
             "linecolor": "white",
             "minorgridcolor": "white",
             "startlinecolor": "#2a3f5f"
            },
            "baxis": {
             "endlinecolor": "#2a3f5f",
             "gridcolor": "white",
             "linecolor": "white",
             "minorgridcolor": "white",
             "startlinecolor": "#2a3f5f"
            },
            "type": "carpet"
           }
          ],
          "choropleth": [
           {
            "colorbar": {
             "outlinewidth": 0,
             "ticks": ""
            },
            "type": "choropleth"
           }
          ],
          "contour": [
           {
            "colorbar": {
             "outlinewidth": 0,
             "ticks": ""
            },
            "colorscale": [
             [
              0,
              "#0d0887"
             ],
             [
              0.1111111111111111,
              "#46039f"
             ],
             [
              0.2222222222222222,
              "#7201a8"
             ],
             [
              0.3333333333333333,
              "#9c179e"
             ],
             [
              0.4444444444444444,
              "#bd3786"
             ],
             [
              0.5555555555555556,
              "#d8576b"
             ],
             [
              0.6666666666666666,
              "#ed7953"
             ],
             [
              0.7777777777777778,
              "#fb9f3a"
             ],
             [
              0.8888888888888888,
              "#fdca26"
             ],
             [
              1,
              "#f0f921"
             ]
            ],
            "type": "contour"
           }
          ],
          "contourcarpet": [
           {
            "colorbar": {
             "outlinewidth": 0,
             "ticks": ""
            },
            "type": "contourcarpet"
           }
          ],
          "heatmap": [
           {
            "colorbar": {
             "outlinewidth": 0,
             "ticks": ""
            },
            "colorscale": [
             [
              0,
              "#0d0887"
             ],
             [
              0.1111111111111111,
              "#46039f"
             ],
             [
              0.2222222222222222,
              "#7201a8"
             ],
             [
              0.3333333333333333,
              "#9c179e"
             ],
             [
              0.4444444444444444,
              "#bd3786"
             ],
             [
              0.5555555555555556,
              "#d8576b"
             ],
             [
              0.6666666666666666,
              "#ed7953"
             ],
             [
              0.7777777777777778,
              "#fb9f3a"
             ],
             [
              0.8888888888888888,
              "#fdca26"
             ],
             [
              1,
              "#f0f921"
             ]
            ],
            "type": "heatmap"
           }
          ],
          "heatmapgl": [
           {
            "colorbar": {
             "outlinewidth": 0,
             "ticks": ""
            },
            "colorscale": [
             [
              0,
              "#0d0887"
             ],
             [
              0.1111111111111111,
              "#46039f"
             ],
             [
              0.2222222222222222,
              "#7201a8"
             ],
             [
              0.3333333333333333,
              "#9c179e"
             ],
             [
              0.4444444444444444,
              "#bd3786"
             ],
             [
              0.5555555555555556,
              "#d8576b"
             ],
             [
              0.6666666666666666,
              "#ed7953"
             ],
             [
              0.7777777777777778,
              "#fb9f3a"
             ],
             [
              0.8888888888888888,
              "#fdca26"
             ],
             [
              1,
              "#f0f921"
             ]
            ],
            "type": "heatmapgl"
           }
          ],
          "histogram": [
           {
            "marker": {
             "pattern": {
              "fillmode": "overlay",
              "size": 10,
              "solidity": 0.2
             }
            },
            "type": "histogram"
           }
          ],
          "histogram2d": [
           {
            "colorbar": {
             "outlinewidth": 0,
             "ticks": ""
            },
            "colorscale": [
             [
              0,
              "#0d0887"
             ],
             [
              0.1111111111111111,
              "#46039f"
             ],
             [
              0.2222222222222222,
              "#7201a8"
             ],
             [
              0.3333333333333333,
              "#9c179e"
             ],
             [
              0.4444444444444444,
              "#bd3786"
             ],
             [
              0.5555555555555556,
              "#d8576b"
             ],
             [
              0.6666666666666666,
              "#ed7953"
             ],
             [
              0.7777777777777778,
              "#fb9f3a"
             ],
             [
              0.8888888888888888,
              "#fdca26"
             ],
             [
              1,
              "#f0f921"
             ]
            ],
            "type": "histogram2d"
           }
          ],
          "histogram2dcontour": [
           {
            "colorbar": {
             "outlinewidth": 0,
             "ticks": ""
            },
            "colorscale": [
             [
              0,
              "#0d0887"
             ],
             [
              0.1111111111111111,
              "#46039f"
             ],
             [
              0.2222222222222222,
              "#7201a8"
             ],
             [
              0.3333333333333333,
              "#9c179e"
             ],
             [
              0.4444444444444444,
              "#bd3786"
             ],
             [
              0.5555555555555556,
              "#d8576b"
             ],
             [
              0.6666666666666666,
              "#ed7953"
             ],
             [
              0.7777777777777778,
              "#fb9f3a"
             ],
             [
              0.8888888888888888,
              "#fdca26"
             ],
             [
              1,
              "#f0f921"
             ]
            ],
            "type": "histogram2dcontour"
           }
          ],
          "mesh3d": [
           {
            "colorbar": {
             "outlinewidth": 0,
             "ticks": ""
            },
            "type": "mesh3d"
           }
          ],
          "parcoords": [
           {
            "line": {
             "colorbar": {
              "outlinewidth": 0,
              "ticks": ""
             }
            },
            "type": "parcoords"
           }
          ],
          "pie": [
           {
            "automargin": true,
            "type": "pie"
           }
          ],
          "scatter": [
           {
            "fillpattern": {
             "fillmode": "overlay",
             "size": 10,
             "solidity": 0.2
            },
            "type": "scatter"
           }
          ],
          "scatter3d": [
           {
            "line": {
             "colorbar": {
              "outlinewidth": 0,
              "ticks": ""
             }
            },
            "marker": {
             "colorbar": {
              "outlinewidth": 0,
              "ticks": ""
             }
            },
            "type": "scatter3d"
           }
          ],
          "scattercarpet": [
           {
            "marker": {
             "colorbar": {
              "outlinewidth": 0,
              "ticks": ""
             }
            },
            "type": "scattercarpet"
           }
          ],
          "scattergeo": [
           {
            "marker": {
             "colorbar": {
              "outlinewidth": 0,
              "ticks": ""
             }
            },
            "type": "scattergeo"
           }
          ],
          "scattergl": [
           {
            "marker": {
             "colorbar": {
              "outlinewidth": 0,
              "ticks": ""
             }
            },
            "type": "scattergl"
           }
          ],
          "scattermapbox": [
           {
            "marker": {
             "colorbar": {
              "outlinewidth": 0,
              "ticks": ""
             }
            },
            "type": "scattermapbox"
           }
          ],
          "scatterpolar": [
           {
            "marker": {
             "colorbar": {
              "outlinewidth": 0,
              "ticks": ""
             }
            },
            "type": "scatterpolar"
           }
          ],
          "scatterpolargl": [
           {
            "marker": {
             "colorbar": {
              "outlinewidth": 0,
              "ticks": ""
             }
            },
            "type": "scatterpolargl"
           }
          ],
          "scatterternary": [
           {
            "marker": {
             "colorbar": {
              "outlinewidth": 0,
              "ticks": ""
             }
            },
            "type": "scatterternary"
           }
          ],
          "surface": [
           {
            "colorbar": {
             "outlinewidth": 0,
             "ticks": ""
            },
            "colorscale": [
             [
              0,
              "#0d0887"
             ],
             [
              0.1111111111111111,
              "#46039f"
             ],
             [
              0.2222222222222222,
              "#7201a8"
             ],
             [
              0.3333333333333333,
              "#9c179e"
             ],
             [
              0.4444444444444444,
              "#bd3786"
             ],
             [
              0.5555555555555556,
              "#d8576b"
             ],
             [
              0.6666666666666666,
              "#ed7953"
             ],
             [
              0.7777777777777778,
              "#fb9f3a"
             ],
             [
              0.8888888888888888,
              "#fdca26"
             ],
             [
              1,
              "#f0f921"
             ]
            ],
            "type": "surface"
           }
          ],
          "table": [
           {
            "cells": {
             "fill": {
              "color": "#EBF0F8"
             },
             "line": {
              "color": "white"
             }
            },
            "header": {
             "fill": {
              "color": "#C8D4E3"
             },
             "line": {
              "color": "white"
             }
            },
            "type": "table"
           }
          ]
         },
         "layout": {
          "annotationdefaults": {
           "arrowcolor": "#2a3f5f",
           "arrowhead": 0,
           "arrowwidth": 1
          },
          "autotypenumbers": "strict",
          "coloraxis": {
           "colorbar": {
            "outlinewidth": 0,
            "ticks": ""
           }
          },
          "colorscale": {
           "diverging": [
            [
             0,
             "#8e0152"
            ],
            [
             0.1,
             "#c51b7d"
            ],
            [
             0.2,
             "#de77ae"
            ],
            [
             0.3,
             "#f1b6da"
            ],
            [
             0.4,
             "#fde0ef"
            ],
            [
             0.5,
             "#f7f7f7"
            ],
            [
             0.6,
             "#e6f5d0"
            ],
            [
             0.7,
             "#b8e186"
            ],
            [
             0.8,
             "#7fbc41"
            ],
            [
             0.9,
             "#4d9221"
            ],
            [
             1,
             "#276419"
            ]
           ],
           "sequential": [
            [
             0,
             "#0d0887"
            ],
            [
             0.1111111111111111,
             "#46039f"
            ],
            [
             0.2222222222222222,
             "#7201a8"
            ],
            [
             0.3333333333333333,
             "#9c179e"
            ],
            [
             0.4444444444444444,
             "#bd3786"
            ],
            [
             0.5555555555555556,
             "#d8576b"
            ],
            [
             0.6666666666666666,
             "#ed7953"
            ],
            [
             0.7777777777777778,
             "#fb9f3a"
            ],
            [
             0.8888888888888888,
             "#fdca26"
            ],
            [
             1,
             "#f0f921"
            ]
           ],
           "sequentialminus": [
            [
             0,
             "#0d0887"
            ],
            [
             0.1111111111111111,
             "#46039f"
            ],
            [
             0.2222222222222222,
             "#7201a8"
            ],
            [
             0.3333333333333333,
             "#9c179e"
            ],
            [
             0.4444444444444444,
             "#bd3786"
            ],
            [
             0.5555555555555556,
             "#d8576b"
            ],
            [
             0.6666666666666666,
             "#ed7953"
            ],
            [
             0.7777777777777778,
             "#fb9f3a"
            ],
            [
             0.8888888888888888,
             "#fdca26"
            ],
            [
             1,
             "#f0f921"
            ]
           ]
          },
          "colorway": [
           "#636efa",
           "#EF553B",
           "#00cc96",
           "#ab63fa",
           "#FFA15A",
           "#19d3f3",
           "#FF6692",
           "#B6E880",
           "#FF97FF",
           "#FECB52"
          ],
          "font": {
           "color": "#2a3f5f"
          },
          "geo": {
           "bgcolor": "white",
           "lakecolor": "white",
           "landcolor": "#E5ECF6",
           "showlakes": true,
           "showland": true,
           "subunitcolor": "white"
          },
          "hoverlabel": {
           "align": "left"
          },
          "hovermode": "closest",
          "mapbox": {
           "style": "light"
          },
          "paper_bgcolor": "white",
          "plot_bgcolor": "#E5ECF6",
          "polar": {
           "angularaxis": {
            "gridcolor": "white",
            "linecolor": "white",
            "ticks": ""
           },
           "bgcolor": "#E5ECF6",
           "radialaxis": {
            "gridcolor": "white",
            "linecolor": "white",
            "ticks": ""
           }
          },
          "scene": {
           "xaxis": {
            "backgroundcolor": "#E5ECF6",
            "gridcolor": "white",
            "gridwidth": 2,
            "linecolor": "white",
            "showbackground": true,
            "ticks": "",
            "zerolinecolor": "white"
           },
           "yaxis": {
            "backgroundcolor": "#E5ECF6",
            "gridcolor": "white",
            "gridwidth": 2,
            "linecolor": "white",
            "showbackground": true,
            "ticks": "",
            "zerolinecolor": "white"
           },
           "zaxis": {
            "backgroundcolor": "#E5ECF6",
            "gridcolor": "white",
            "gridwidth": 2,
            "linecolor": "white",
            "showbackground": true,
            "ticks": "",
            "zerolinecolor": "white"
           }
          },
          "shapedefaults": {
           "line": {
            "color": "#2a3f5f"
           }
          },
          "ternary": {
           "aaxis": {
            "gridcolor": "white",
            "linecolor": "white",
            "ticks": ""
           },
           "baxis": {
            "gridcolor": "white",
            "linecolor": "white",
            "ticks": ""
           },
           "bgcolor": "#E5ECF6",
           "caxis": {
            "gridcolor": "white",
            "linecolor": "white",
            "ticks": ""
           }
          },
          "title": {
           "x": 0.05
          },
          "xaxis": {
           "automargin": true,
           "gridcolor": "white",
           "linecolor": "white",
           "ticks": "",
           "title": {
            "standoff": 15
           },
           "zerolinecolor": "white",
           "zerolinewidth": 2
          },
          "yaxis": {
           "automargin": true,
           "gridcolor": "white",
           "linecolor": "white",
           "ticks": "",
           "title": {
            "standoff": 15
           },
           "zerolinecolor": "white",
           "zerolinewidth": 2
          }
         }
        },
        "title": {
         "text": "Bearish/Bullish engulfing pattern"
        },
        "xaxis": {
         "title": {
          "text": "Date"
         }
        },
        "yaxis": {
         "title": {
          "text": "Price"
         }
        }
       }
      }
     },
     "metadata": {},
     "output_type": "display_data"
    }
   ],
   "source": [
    "fig = go.Figure(data=[go.Candlestick(x=df.index, open=df['Open'], high=df['High'], low=df['Low'], close=df['Close'])])\n",
    "for i in range(2, len(df)):\n",
    "    if bearish_engulfing(df.iloc[i-2:i+1]):\n",
    "        fig.add_vrect(\n",
    "            x0=df.index[i-1], x1=df.index[i],\n",
    "            fillcolor=\"LightSalmon\", opacity=0.5,\n",
    "            layer=\"below\", line_width=0,\n",
    "        )\n",
    "    if bullish_engulfing(df.iloc[i-2:i+1]):\n",
    "        fig.add_vrect(\n",
    "            x0=df.index[i-1], x1=df.index[i],\n",
    "            fillcolor=\"LightGreen\", opacity=0.5,\n",
    "            layer=\"below\", line_width=0,\n",
    "        )\n",
    "        \n",
    "# set title and axis labels\n",
    "fig.update_layout(\n",
    "    title=\"Bearish/Bullish engulfing pattern\",\n",
    "    xaxis_title=\"Date\",\n",
    "    yaxis_title=\"Price\",\n",
    ")\n",
    "\n",
    "fig"
   ]
  },
  {
   "cell_type": "code",
   "execution_count": 29,
   "metadata": {},
   "outputs": [],
   "source": [
    "def display_pattern(df, pattern, name):\n",
    "    for i in range(2, len(df)):\n",
    "        if pattern(df.iloc[i-2:i+1]):\n",
    "            print(f\"{name} day: \", df.index[i])\n",
    "\n",
    "    fig = go.Figure(data=[go.Candlestick(x=df.index, open=df['Open'], high=df['High'], low=df['Low'], close=df['Close'])])\n",
    "    for i in range(2, len(df)):\n",
    "        if pattern(df.iloc[i-2:i+1]):\n",
    "            fig.add_vrect(\n",
    "                x0=df.index[i-1], x1=df.index[i],\n",
    "                fillcolor=\"LightSalmon\", opacity=0.5,\n",
    "                layer=\"below\", line_width=0,\n",
    "            )\n",
    "            \n",
    "    # set title and axis labels\n",
    "    fig.update_layout(\n",
    "        title= f\"{name} pattern\",\n",
    "        xaxis_title=\"Date\",\n",
    "        yaxis_title=\"Price\",\n",
    "    )\n",
    "    fig.show()"
   ]
  },
  {
   "cell_type": "code",
   "execution_count": 30,
   "metadata": {},
   "outputs": [
    {
     "name": "stdout",
     "output_type": "stream",
     "text": [
      "Bullish engulfing day:  2022-01-17 00:00:00\n",
      "Bullish engulfing day:  2022-01-19 00:00:00\n",
      "Bullish engulfing day:  2022-01-25 00:00:00\n",
      "Bullish engulfing day:  2022-03-11 00:00:00\n",
      "Bullish engulfing day:  2022-04-01 00:00:00\n",
      "Bullish engulfing day:  2022-06-30 00:00:00\n",
      "Bullish engulfing day:  2022-08-18 00:00:00\n",
      "Bullish engulfing day:  2022-08-23 00:00:00\n",
      "Bullish engulfing day:  2022-09-14 00:00:00\n",
      "Bullish engulfing day:  2022-09-19 00:00:00\n",
      "Bullish engulfing day:  2022-10-17 00:00:00\n",
      "Bullish engulfing day:  2022-11-03 00:00:00\n",
      "Bullish engulfing day:  2023-02-10 00:00:00\n"
     ]
    },
    {
     "data": {
      "application/vnd.plotly.v1+json": {
       "config": {
        "plotlyServerURL": "https://plot.ly"
       },
       "data": [
        {
         "close": [
          470.79998779296875,
          483.5,
          492.3999938964844,
          491.70001220703125,
          491.25,
          503.6499938964844,
          505.95001220703125,
          510.25,
          511.3500061035156,
          508.3500061035156,
          514,
          506.79998779296875,
          515.7999877929688,
          511.3999938964844,
          502.70001220703125,
          494.1499938964844,
          514.6500244140625,
          528.9500122070312,
          523.4500122070312,
          538.2999877929688,
          532.2999877929688,
          539.7999877929688,
          540.0999755859375,
          530.2999877929688,
          533.25,
          531.3499755859375,
          535.25,
          540.5499877929688,
          529.5999755859375,
          501.3999938964844,
          524.7999877929688,
          516.7000122070312,
          512.9500122070312,
          515.2999877929688,
          511.8500061035156,
          498.3999938964844,
          498.70001220703125,
          472.6499938964844,
          482.95001220703125,
          483.20001220703125,
          474.25,
          467.3999938964844,
          461.95001220703125,
          440.29998779296875,
          440.29998779296875,
          451.70001220703125,
          468.70001220703125,
          470.3500061035156,
          485.1499938964844,
          485.8500061035156,
          492.75,
          501.8999938964844,
          490.6000061035156,
          493.70001220703125,
          490.6499938964844,
          487.1000061035156,
          490.70001220703125,
          497.5,
          495,
          494.29998779296875,
          493.54998779296875,
          508.20001220703125,
          512.4000244140625,
          509.3999938964844,
          513.9500122070312,
          514.9500122070312,
          516.0999755859375,
          514.9000244140625,
          512.8499755859375,
          517.7000122070312,
          509.5,
          511.79998779296875,
          509.29998779296875,
          516.2999877929688,
          500.6000061035156,
          494.75,
          505.5,
          497.25,
          507.5,
          496.29998779296875,
          491,
          479.6499938964844,
          480,
          483.95001220703125,
          475.8999938964844,
          475.20001220703125,
          476.54998779296875,
          462.6499938964844,
          444.6499938964844,
          455,
          467.29998779296875,
          458,
          447.5,
          462.3999938964844,
          460.8999938964844,
          462.04998779296875,
          454.1000061035156,
          468.8999938964844,
          468.95001220703125,
          474.6000061035156,
          468.1000061035156,
          468.29998779296875,
          469.8500061035156,
          464.5,
          463.70001220703125,
          463.3999938964844,
          471.29998779296875,
          466.95001220703125,
          461.8500061035156,
          445.8500061035156,
          448.1000061035156,
          451.3500061035156,
          441.6000061035156,
          441,
          434.70001220703125,
          450.75,
          447.6499938964844,
          451.3999938964844,
          454.25,
          461.20001220703125,
          464.25,
          459.1000061035156,
          465.8999938964844,
          466.8500061035156,
          473.45001220703125,
          472.1499938964844,
          479.95001220703125,
          486.75,
          488.54998779296875,
          488.20001220703125,
          484.95001220703125,
          486.5,
          479.3500061035156,
          479.1000061035156,
          490.29998779296875,
          497.95001220703125,
          508.6000061035156,
          512.0499877929688,
          513.7000122070312,
          517.7999877929688,
          514.2000122070312,
          528.2000122070312,
          532.4500122070312,
          528.3499755859375,
          533.75,
          542.0999755859375,
          540.8499755859375,
          533.25,
          531.0499877929688,
          520.4000244140625,
          514.7000122070312,
          524.75,
          530.7000122070312,
          525.9500122070312,
          528.1500244140625,
          532.3499755859375,
          520.3499755859375,
          511.29998779296875,
          521.9000244140625,
          519.2999877929688,
          520.4000244140625,
          523.7999877929688,
          514.8499755859375,
          531.25,
          533.2999877929688,
          536.7000122070312,
          538.9000244140625,
          537.7999877929688,
          532.8499755859375,
          544.6500244140625,
          553.3499755859375,
          554.9000244140625,
          558,
          571.75,
          572.1500244140625,
          561.7999877929688,
          572.25,
          574.0499877929688,
          569.7000122070312,
          567.2999877929688,
          550.5999755859375,
          543.2999877929688,
          536.5,
          524.8499755859375,
          521.75,
          530.5999755859375,
          519.75,
          532.7000122070312,
          537.2999877929688,
          530.2000122070312,
          530.75,
          527.4000244140625,
          533.7999877929688,
          521.4500122070312,
          527.2000122070312,
          543.6500244140625,
          562.4500122070312,
          553.4000244140625,
          555.4000244140625,
          560.8499755859375,
          570.5,
          578.5499877929688,
          579.6500244140625,
          570.75,
          573.7999877929688,
          576.9000244140625,
          573.8499755859375,
          584.9000244140625,
          593.9500122070312,
          614.1500244140625,
          615.5499877929688,
          605.75,
          601.2999877929688,
          592.5499877929688,
          600.8499755859375,
          599.75,
          599.0499877929688,
          602.7000122070312,
          598.0999755859375,
          599.0999755859375,
          607.6500244140625,
          609.3499755859375,
          607.4000244140625,
          608.5999755859375,
          608.5499877929688,
          602.4500122070312,
          608.0999755859375,
          607.5499877929688,
          617.2999877929688,
          608.9500122070312,
          607.0499877929688,
          611.6500244140625,
          616.5,
          613.0499877929688,
          616.75,
          625.5,
          615.9500122070312,
          603.3499755859375,
          604.4500122070312,
          604.4500122070312,
          593.4000244140625,
          593.4000244140625,
          574,
          597.0999755859375,
          601.9000244140625,
          601.0499877929688,
          611.7999877929688,
          613.7000122070312,
          612.2000122070312,
          612.4000244140625,
          605.2000122070312,
          605.0999755859375,
          600.6500244140625,
          607.7000122070312,
          595.1500244140625,
          596.7000122070312,
          594.9000244140625,
          600.0999755859375,
          603,
          592.9500122070312,
          591.4500122070312,
          589.8499755859375,
          592.2000122070312,
          600.4500122070312,
          594.3499755859375,
          568.7000122070312,
          539.9500122070312,
          538.2000122070312,
          553.5,
          527.3499755859375,
          528.0999755859375,
          544.2000122070312,
          545.4000244140625,
          547.0999755859375,
          549.75,
          550.7999877929688,
          553.0499877929688,
          537.5,
          540.8499755859375,
          542.25,
          540.0999755859375,
          531,
          525.1500244140625,
          523.4500122070312,
          516.3499755859375,
          521,
          521.0499877929688,
          527.7000122070312,
          522.7999877929688,
          536.7000122070312,
          533.75,
          561.2000122070312,
          561.7000122070312,
          564.7999877929688,
          558.9000244140625,
          547.3499755859375,
          530,
          525.4000244140625,
          517.5499877929688,
          524.5,
          529.7999877929688,
          519.2000122070312,
          521.8499755859375,
          521.5499877929688,
          512.75,
          505.3500061035156,
          510.1499938964844,
          508.1000061035156,
          516.5,
          523.75,
          526.75,
          523,
          527.6500244140625,
          526.2999877929688,
          532.0999755859375,
          528.2000122070312,
          532.9500122070312,
          544,
          545.8499755859375,
          540.2999877929688,
          544.7999877929688,
          543.1500244140625,
          554.5999755859375,
          561.7999877929688,
          566.3499755859375,
          564.75,
          578.2999877929688
         ],
         "high": [
          472,
          484.70001220703125,
          495,
          494.3999938964844,
          501.95001220703125,
          504.95001220703125,
          507.79998779296875,
          513.5,
          512.8499755859375,
          510.3500061035156,
          518.9000244140625,
          517.4500122070312,
          517.6500244140625,
          519.1500244140625,
          507.5,
          506.79998779296875,
          517.5,
          530.8499755859375,
          536.4000244140625,
          540.9000244140625,
          543.9500122070312,
          544.25,
          544.7000122070312,
          546.4000244140625,
          549,
          537.6500244140625,
          536.5,
          543.9500122070312,
          537.7000122070312,
          515.5999755859375,
          526.8499755859375,
          528,
          520,
          520.9000244140625,
          517.5,
          505.29998779296875,
          505.3500061035156,
          487.95001220703125,
          491.8999938964844,
          485.29998779296875,
          479.79998779296875,
          483.3999938964844,
          470.8999938964844,
          453.95001220703125,
          442.1000061035156,
          454.29998779296875,
          476.6499938964844,
          474.79998779296875,
          486,
          490.5,
          494.29998779296875,
          503.5,
          502,
          495.79998779296875,
          502.3999938964844,
          494.79998779296875,
          493.29998779296875,
          498.6000061035156,
          501.3999938964844,
          500.3999938964844,
          497.54998779296875,
          509.75,
          514.9000244140625,
          516.4000244140625,
          515.2000122070312,
          519.9000244140625,
          519.5,
          522,
          516.7000122070312,
          520.9000244140625,
          515,
          520.9500122070312,
          513.7000122070312,
          518,
          513.5,
          499.20001220703125,
          507.8999938964844,
          502.79998779296875,
          510,
          512.5,
          495,
          496.45001220703125,
          494,
          486.1000061035156,
          483.70001220703125,
          482.54998779296875,
          479,
          473,
          477,
          461.5,
          469.6499938964844,
          468.6000061035156,
          450,
          464,
          471.3999938964844,
          466.79998779296875,
          464.45001220703125,
          470.1000061035156,
          475,
          476.8999938964844,
          476.3999938964844,
          472,
          472.3500061035156,
          475.5,
          465.6000061035156,
          465.95001220703125,
          475.54998779296875,
          470.8999938964844,
          464.1499938964844,
          454.04998779296875,
          449.25,
          455.45001220703125,
          457.75,
          447.54998779296875,
          443.45001220703125,
          454.95001220703125,
          451.20001220703125,
          456.45001220703125,
          460.3500061035156,
          464.8500061035156,
          465.75,
          462.70001220703125,
          469.29998779296875,
          468.79998779296875,
          474.1499938964844,
          480,
          481,
          488.25,
          489.8999938964844,
          491.29998779296875,
          491.3500061035156,
          492.45001220703125,
          488.8999938964844,
          484.3999938964844,
          491.5,
          498.54998779296875,
          510.6000061035156,
          513.4000244140625,
          520.2000122070312,
          519,
          520.7999877929688,
          529.9500122070312,
          537.5,
          537,
          535,
          544.9000244140625,
          546.4000244140625,
          544,
          542.9000244140625,
          524,
          523.5,
          526,
          531.7999877929688,
          533.8499755859375,
          530.5499877929688,
          534.7999877929688,
          533.6500244140625,
          519.9000244140625,
          524,
          523,
          528.2999877929688,
          529.5,
          517,
          532.5,
          540.9000244140625,
          537.8499755859375,
          540.7999877929688,
          542.7000122070312,
          537.4500122070312,
          546.2999877929688,
          557,
          558.5999755859375,
          560,
          574.8499755859375,
          578.5,
          574,
          574.4000244140625,
          577.9500122070312,
          577.2999877929688,
          574,
          568,
          549,
          550.9000244140625,
          539.7999877929688,
          535.7000122070312,
          536.9000244140625,
          531.6500244140625,
          535.7999877929688,
          541.7999877929688,
          535.5999755859375,
          533.9000244140625,
          533.7000122070312,
          535,
          533.7999877929688,
          534.8499755859375,
          544.7000122070312,
          563.5,
          563.4500122070312,
          556.7999877929688,
          565.7999877929688,
          572.5,
          586.2000122070312,
          585,
          582.6500244140625,
          577.4500122070312,
          585.75,
          578.9500122070312,
          587.9500122070312,
          596.9500122070312,
          622.7000122070312,
          621,
          615.0999755859375,
          619.5499877929688,
          603.9500122070312,
          602.0999755859375,
          603.5,
          602.75,
          605.75,
          602.0999755859375,
          600.7000122070312,
          609.5999755859375,
          611.2999877929688,
          613.7000122070312,
          610.9000244140625,
          611.7999877929688,
          611.4000244140625,
          609.7999877929688,
          609.5999755859375,
          618,
          619.7999877929688,
          612.9000244140625,
          613.7999877929688,
          618,
          618.7000122070312,
          617.4000244140625,
          626.75,
          629.5499877929688,
          615.5999755859375,
          609.5,
          606.5,
          609.1500244140625,
          599,
          590.7000122070312,
          601.7000122070312,
          603.0999755859375,
          607,
          618,
          620.5499877929688,
          619.2000122070312,
          616.5999755859375,
          614.9500122070312,
          611.5999755859375,
          607.4500122070312,
          609,
          609,
          599.5,
          597.9000244140625,
          602.9000244140625,
          606.0999755859375,
          606,
          597.1500244140625,
          591.75,
          596.5999755859375,
          601.75,
          604.5999755859375,
          595.8499755859375,
          568.5499877929688,
          554.3499755859375,
          557,
          565,
          532.6500244140625,
          545.9500122070312,
          558.7999877929688,
          551.4000244140625,
          554.5,
          552,
          557.25,
          556.9000244140625,
          544.5999755859375,
          544.6500244140625,
          546.8499755859375,
          539.6500244140625,
          533.9500122070312,
          528.9500122070312,
          521.9000244140625,
          524,
          527.5,
          529.7999877929688,
          528.4500122070312,
          537.4000244140625,
          539.9000244140625,
          564.2999877929688,
          567.9000244140625,
          565.5,
          565.75,
          554.9500122070312,
          553.1500244140625,
          532.7999877929688,
          532,
          529.3499755859375,
          531.5999755859375,
          526.5999755859375,
          523.4500122070312,
          527,
          521,
          514.9500122070312,
          514.1500244140625,
          511.75,
          518,
          524.9000244140625,
          528.5,
          527.5999755859375,
          533.7000122070312,
          530.4000244140625,
          535.7000122070312,
          534,
          534.25,
          545,
          548.5,
          547.5,
          545.4500122070312,
          546.4000244140625,
          555.5499877929688,
          567.9000244140625,
          567,
          567.4000244140625,
          580.4500122070312
         ],
         "low": [
          460.1000061035156,
          471.04998779296875,
          479.1499938964844,
          485.3999938964844,
          489.45001220703125,
          492.5,
          499.25,
          508.5,
          507,
          505.1499938964844,
          507.54998779296875,
          505,
          500.29998779296875,
          508,
          498,
          488,
          489,
          503.20001220703125,
          521.4000244140625,
          527.0499877929688,
          520,
          531.3499755859375,
          537.1500244140625,
          527.2999877929688,
          525.25,
          519,
          527.75,
          534.4000244140625,
          527.0999755859375,
          499.70001220703125,
          497.1000061035156,
          514,
          511.1499938964844,
          510.1000061035156,
          504.6499938964844,
          495.5,
          497.25,
          468,
          479.29998779296875,
          473.1000061035156,
          467,
          464.6000061035156,
          457.6499938964844,
          433.45001220703125,
          425,
          438.54998779296875,
          461.6499938964844,
          462,
          470.54998779296875,
          480.6499938964844,
          489.3999938964844,
          498.29998779296875,
          489,
          477.25,
          489.20001220703125,
          483.5,
          486.6000061035156,
          481.95001220703125,
          491.70001220703125,
          492.29998779296875,
          492.20001220703125,
          491,
          506,
          507.70001220703125,
          506,
          510.04998779296875,
          512.3499755859375,
          513.2000122070312,
          504.3500061035156,
          513.75,
          504,
          505.1000061035156,
          507,
          512.2000122070312,
          499,
          490.04998779296875,
          498.45001220703125,
          491.8500061035156,
          496.5,
          494,
          481.29998779296875,
          477.5,
          478.6499938964844,
          471,
          473.79998779296875,
          473.5,
          463.6499938964844,
          456.3500061035156,
          439.75,
          438.8500061035156,
          456.1499938964844,
          457.1000061035156,
          444.45001220703125,
          454.1499938964844,
          459.5,
          460.20001220703125,
          452.04998779296875,
          452.5,
          467.5,
          471.1000061035156,
          465,
          464.70001220703125,
          466.1499938964844,
          463.5,
          456.5,
          460.5,
          463.20001220703125,
          462.45001220703125,
          458.6000061035156,
          442.1000061035156,
          443.3500061035156,
          448.6000061035156,
          440.1499938964844,
          437.25,
          430.70001220703125,
          437.6000061035156,
          444.6499938964844,
          446,
          453.20001220703125,
          458.04998779296875,
          458,
          458,
          458.6000061035156,
          460.54998779296875,
          466.8500061035156,
          471,
          473.8999938964844,
          481.6000061035156,
          485.1499938964844,
          485,
          483.1000061035156,
          484.54998779296875,
          476.79998779296875,
          474.70001220703125,
          482.1000061035156,
          488,
          500.3999938964844,
          506.75,
          511.20001220703125,
          509.1499938964844,
          513.0999755859375,
          512.25,
          529.5499877929688,
          526.75,
          526.4000244140625,
          531.0999755859375,
          534.6500244140625,
          524.2000122070312,
          529,
          513.8499755859375,
          513.4000244140625,
          517.2000122070312,
          525.1500244140625,
          525,
          524.3499755859375,
          526.2000122070312,
          518.5,
          510,
          508.25,
          512.2999877929688,
          518.5,
          522.2000122070312,
          508.75,
          517.9500122070312,
          522.25,
          531.25,
          536.2999877929688,
          534.0999755859375,
          531.5499877929688,
          535.5,
          548,
          551.25,
          553.75,
          549.25,
          567.9000244140625,
          560.2999877929688,
          559.5499877929688,
          572.8499755859375,
          565.4000244140625,
          562,
          549.5,
          533,
          533.2000122070312,
          520.3499755859375,
          519.5499877929688,
          516.1500244140625,
          518.5,
          527.7999877929688,
          534.5999755859375,
          526.5499877929688,
          522.2000122070312,
          525.5,
          526,
          520.2000122070312,
          526,
          524.2000122070312,
          546.75,
          551.5499877929688,
          545.2999877929688,
          557.25,
          565.9000244140625,
          568,
          577.5999755859375,
          567,
          568.4000244140625,
          574.5999755859375,
          569.9000244140625,
          568,
          580.4000244140625,
          607.7000122070312,
          610.5499877929688,
          602.2000122070312,
          598.5,
          591.6500244140625,
          592.6500244140625,
          596,
          596.1500244140625,
          597.1500244140625,
          595.3499755859375,
          596.1500244140625,
          601,
          605.7999877929688,
          606.25,
          602.3499755859375,
          607.0999755859375,
          598.4000244140625,
          601.5499877929688,
          604.25,
          607.5499877929688,
          607.7999877929688,
          604.5,
          607.1500244140625,
          609.0999755859375,
          611,
          612.5,
          617.5,
          614.2999877929688,
          602.0999755859375,
          603,
          599.5499877929688,
          589.5999755859375,
          587.5499877929688,
          571.5,
          570.7000122070312,
          593.2999877929688,
          598.5499877929688,
          597.1500244140625,
          611.3499755859375,
          611.2000122070312,
          610,
          604,
          601.9500122070312,
          597,
          600.0999755859375,
          590.5999755859375,
          592.25,
          590.0999755859375,
          593.6500244140625,
          600.5999755859375,
          586.0499877929688,
          587.5999755859375,
          587.5499877929688,
          590.7999877929688,
          592.9500122070312,
          593.0499877929688,
          567.4000244140625,
          532.25,
          525.2000122070312,
          537.8499755859375,
          499.3500061035156,
          502.5,
          519.1500244140625,
          536.5499877929688,
          541.0499877929688,
          545.5,
          542.7999877929688,
          546.5,
          533.2999877929688,
          530.75,
          536.7999877929688,
          538.5,
          527.75,
          522.1500244140625,
          522.4000244140625,
          512.5,
          511.3500061035156,
          517.5999755859375,
          519,
          521.0499877929688,
          523.0999755859375,
          532.5,
          541.75,
          559,
          556.4500122070312,
          558,
          545,
          528.4500122070312,
          520,
          515.5499877929688,
          514.2999877929688,
          520.0999755859375,
          515,
          516.4500122070312,
          520.0999755859375,
          511.5,
          503.45001220703125,
          501.54998779296875,
          503.8500061035156,
          506.29998779296875,
          519.3499755859375,
          522.0999755859375,
          519.0499877929688,
          521.6500244140625,
          524.4000244140625,
          527.1500244140625,
          526,
          527.1500244140625,
          528,
          540.5,
          538.25,
          536.6500244140625,
          539.7000122070312,
          543.5,
          555,
          556.4500122070312,
          561.0999755859375,
          565.5
         ],
         "open": [
          462,
          472.5,
          481.8999938964844,
          487.70001220703125,
          493.45001220703125,
          493.3500061035156,
          503,
          509.8999938964844,
          510,
          509,
          508,
          514,
          505,
          516,
          505.29998779296875,
          502.3999938964844,
          490,
          503.54998779296875,
          534,
          529,
          543.9500122070312,
          536.6500244140625,
          537.1500244140625,
          542.1500244140625,
          531.9000244140625,
          535.5,
          534.9500122070312,
          537.0999755859375,
          536.25,
          515,
          502,
          526.5,
          520,
          510.1000061035156,
          511.54998779296875,
          500.8999938964844,
          503,
          480,
          480,
          476.8999938964844,
          478,
          480,
          460.29998779296875,
          447.5,
          438,
          442,
          469.8999938964844,
          466.3999938964844,
          471,
          489,
          493,
          499,
          502,
          490.6000061035156,
          498.5,
          485,
          491.75,
          490.95001220703125,
          500,
          499.29998779296875,
          494.29998779296875,
          491,
          509.29998779296875,
          514.4000244140625,
          507,
          510.04998779296875,
          519.5,
          513.5,
          512.75,
          514.2999877929688,
          512,
          513.25,
          512,
          513.4000244140625,
          512.9000244140625,
          495,
          499,
          500,
          499.1499938964844,
          508.1000061035156,
          492.6499938964844,
          492,
          485,
          471,
          477.1000061035156,
          477,
          475.25,
          473,
          469.45001220703125,
          445,
          458.29998779296875,
          467.8999938964844,
          449.04998779296875,
          454.8500061035156,
          463.1000061035156,
          462.3999938964844,
          461,
          456.8500061035156,
          471.3999938964844,
          473,
          474,
          468,
          466.8999938964844,
          473.25,
          464.20001220703125,
          461.8500061035156,
          466.6000061035156,
          468.95001220703125,
          462,
          454,
          445,
          448.95001220703125,
          455.1499938964844,
          440,
          441.5,
          439.5,
          448.75,
          449,
          455.79998779296875,
          459.95001220703125,
          458.8999938964844,
          460,
          459,
          463.3500061035156,
          466.8500061035156,
          475.1499938964844,
          475.1499938964844,
          484,
          489,
          485,
          485,
          487.75,
          486.6000061035156,
          482.54998779296875,
          484.54998779296875,
          488,
          501,
          509.79998779296875,
          513.4500122070312,
          513.4000244140625,
          517.7000122070312,
          515.2999877929688,
          533.2000122070312,
          535.0499877929688,
          529.0499877929688,
          531.9000244140625,
          541.9000244140625,
          543.6500244140625,
          535.5499877929688,
          524,
          521.5499877929688,
          520,
          525.7000122070312,
          533.2999877929688,
          528.8499755859375,
          526.8499755859375,
          532,
          519,
          508.25,
          519,
          521.9500122070312,
          523.7999877929688,
          511.29998779296875,
          518.2000122070312,
          522.25,
          537,
          537,
          538,
          534.4000244140625,
          536,
          549.6500244140625,
          554.9000244140625,
          560,
          550,
          572.5499877929688,
          569.0999755859375,
          560.7000122070312,
          577.9500122070312,
          575,
          566.75,
          564.7999877929688,
          545.7999877929688,
          544.5499877929688,
          532.9000244140625,
          529,
          524,
          527.5999755859375,
          533,
          534.5999755859375,
          535.5,
          525.7000122070312,
          530.75,
          530,
          533,
          530.2000122070312,
          526.4000244140625,
          547.0999755859375,
          563,
          552,
          557.25,
          567,
          572.5,
          583.9500122070312,
          579.9500122070312,
          574.9500122070312,
          576.3499755859375,
          575.9000244140625,
          569,
          586,
          613,
          621,
          613.0999755859375,
          617.25,
          603.9500122070312,
          594.2999877929688,
          599.9500122070312,
          599.0999755859375,
          601,
          602.0999755859375,
          598.1500244140625,
          601.5499877929688,
          609.75,
          610.5499877929688,
          605.5999755859375,
          607.0999755859375,
          608.5,
          607.8499755859375,
          607.5,
          608.5,
          614.75,
          610.8499755859375,
          609.75,
          614.4000244140625,
          614.7999877929688,
          613.5,
          618.5,
          625.5499877929688,
          612,
          604,
          603,
          605.9000244140625,
          597,
          590,
          574,
          600.4000244140625,
          600.9000244140625,
          600,
          615.25,
          614.9500122070312,
          614.5,
          611.8499755859375,
          607,
          607.4000244140625,
          605,
          608.4500122070312,
          596.4500122070312,
          597.9000244140625,
          597.9000244140625,
          603,
          603,
          595.9000244140625,
          591,
          593.7999877929688,
          598.5,
          603.5,
          595.8499755859375,
          568,
          536,
          545,
          561.4000244140625,
          520.2000122070312,
          536,
          558.7999877929688,
          548,
          550,
          552,
          546.5,
          554,
          539.9500122070312,
          540,
          546.8499755859375,
          538.5,
          532,
          527.0999755859375,
          520.75,
          516.9500122070312,
          524.2000122070312,
          521.0999755859375,
          527.25,
          523.25,
          535.9500122070312,
          542,
          564.9000244140625,
          560,
          564.75,
          553.0999755859375,
          547,
          527.6500244140625,
          529.7999877929688,
          518.4000244140625,
          528.6500244140625,
          526.5999755859375,
          522,
          522.2000122070312,
          519.4000244140625,
          514.5,
          507,
          511.45001220703125,
          509,
          520.6500244140625,
          524.75,
          527,
          524,
          529.25,
          530.8499755859375,
          533.2000122070312,
          529.2999877929688,
          528,
          545.3499755859375,
          544,
          541.2000122070312,
          545,
          543.7999877929688,
          555,
          562,
          565,
          567.7999877929688
         ],
         "type": "candlestick",
         "x": [
          "2022-01-03T00:00:00",
          "2022-01-04T00:00:00",
          "2022-01-05T00:00:00",
          "2022-01-06T00:00:00",
          "2022-01-07T00:00:00",
          "2022-01-10T00:00:00",
          "2022-01-11T00:00:00",
          "2022-01-12T00:00:00",
          "2022-01-13T00:00:00",
          "2022-01-14T00:00:00",
          "2022-01-17T00:00:00",
          "2022-01-18T00:00:00",
          "2022-01-19T00:00:00",
          "2022-01-20T00:00:00",
          "2022-01-21T00:00:00",
          "2022-01-24T00:00:00",
          "2022-01-25T00:00:00",
          "2022-01-27T00:00:00",
          "2022-01-28T00:00:00",
          "2022-01-31T00:00:00",
          "2022-02-01T00:00:00",
          "2022-02-02T00:00:00",
          "2022-02-03T00:00:00",
          "2022-02-04T00:00:00",
          "2022-02-07T00:00:00",
          "2022-02-08T00:00:00",
          "2022-02-09T00:00:00",
          "2022-02-10T00:00:00",
          "2022-02-11T00:00:00",
          "2022-02-14T00:00:00",
          "2022-02-15T00:00:00",
          "2022-02-16T00:00:00",
          "2022-02-17T00:00:00",
          "2022-02-18T00:00:00",
          "2022-02-21T00:00:00",
          "2022-02-22T00:00:00",
          "2022-02-23T00:00:00",
          "2022-02-24T00:00:00",
          "2022-02-25T00:00:00",
          "2022-02-28T00:00:00",
          "2022-03-02T00:00:00",
          "2022-03-03T00:00:00",
          "2022-03-04T00:00:00",
          "2022-03-07T00:00:00",
          "2022-03-08T00:00:00",
          "2022-03-09T00:00:00",
          "2022-03-10T00:00:00",
          "2022-03-11T00:00:00",
          "2022-03-14T00:00:00",
          "2022-03-15T00:00:00",
          "2022-03-16T00:00:00",
          "2022-03-17T00:00:00",
          "2022-03-21T00:00:00",
          "2022-03-22T00:00:00",
          "2022-03-23T00:00:00",
          "2022-03-24T00:00:00",
          "2022-03-25T00:00:00",
          "2022-03-28T00:00:00",
          "2022-03-29T00:00:00",
          "2022-03-30T00:00:00",
          "2022-03-31T00:00:00",
          "2022-04-01T00:00:00",
          "2022-04-04T00:00:00",
          "2022-04-05T00:00:00",
          "2022-04-06T00:00:00",
          "2022-04-07T00:00:00",
          "2022-04-08T00:00:00",
          "2022-04-11T00:00:00",
          "2022-04-12T00:00:00",
          "2022-04-13T00:00:00",
          "2022-04-18T00:00:00",
          "2022-04-19T00:00:00",
          "2022-04-20T00:00:00",
          "2022-04-21T00:00:00",
          "2022-04-22T00:00:00",
          "2022-04-25T00:00:00",
          "2022-04-26T00:00:00",
          "2022-04-27T00:00:00",
          "2022-04-28T00:00:00",
          "2022-04-29T00:00:00",
          "2022-05-02T00:00:00",
          "2022-05-04T00:00:00",
          "2022-05-05T00:00:00",
          "2022-05-06T00:00:00",
          "2022-05-09T00:00:00",
          "2022-05-10T00:00:00",
          "2022-05-11T00:00:00",
          "2022-05-12T00:00:00",
          "2022-05-13T00:00:00",
          "2022-05-16T00:00:00",
          "2022-05-17T00:00:00",
          "2022-05-18T00:00:00",
          "2022-05-19T00:00:00",
          "2022-05-20T00:00:00",
          "2022-05-23T00:00:00",
          "2022-05-24T00:00:00",
          "2022-05-25T00:00:00",
          "2022-05-26T00:00:00",
          "2022-05-27T00:00:00",
          "2022-05-30T00:00:00",
          "2022-05-31T00:00:00",
          "2022-06-01T00:00:00",
          "2022-06-02T00:00:00",
          "2022-06-03T00:00:00",
          "2022-06-06T00:00:00",
          "2022-06-07T00:00:00",
          "2022-06-08T00:00:00",
          "2022-06-09T00:00:00",
          "2022-06-10T00:00:00",
          "2022-06-13T00:00:00",
          "2022-06-14T00:00:00",
          "2022-06-15T00:00:00",
          "2022-06-16T00:00:00",
          "2022-06-17T00:00:00",
          "2022-06-20T00:00:00",
          "2022-06-21T00:00:00",
          "2022-06-22T00:00:00",
          "2022-06-23T00:00:00",
          "2022-06-24T00:00:00",
          "2022-06-27T00:00:00",
          "2022-06-28T00:00:00",
          "2022-06-29T00:00:00",
          "2022-06-30T00:00:00",
          "2022-07-01T00:00:00",
          "2022-07-04T00:00:00",
          "2022-07-05T00:00:00",
          "2022-07-06T00:00:00",
          "2022-07-07T00:00:00",
          "2022-07-08T00:00:00",
          "2022-07-11T00:00:00",
          "2022-07-12T00:00:00",
          "2022-07-13T00:00:00",
          "2022-07-14T00:00:00",
          "2022-07-15T00:00:00",
          "2022-07-18T00:00:00",
          "2022-07-19T00:00:00",
          "2022-07-20T00:00:00",
          "2022-07-21T00:00:00",
          "2022-07-22T00:00:00",
          "2022-07-25T00:00:00",
          "2022-07-26T00:00:00",
          "2022-07-27T00:00:00",
          "2022-07-28T00:00:00",
          "2022-07-29T00:00:00",
          "2022-08-01T00:00:00",
          "2022-08-02T00:00:00",
          "2022-08-03T00:00:00",
          "2022-08-04T00:00:00",
          "2022-08-05T00:00:00",
          "2022-08-08T00:00:00",
          "2022-08-10T00:00:00",
          "2022-08-11T00:00:00",
          "2022-08-12T00:00:00",
          "2022-08-16T00:00:00",
          "2022-08-17T00:00:00",
          "2022-08-18T00:00:00",
          "2022-08-19T00:00:00",
          "2022-08-22T00:00:00",
          "2022-08-23T00:00:00",
          "2022-08-24T00:00:00",
          "2022-08-25T00:00:00",
          "2022-08-26T00:00:00",
          "2022-08-29T00:00:00",
          "2022-08-30T00:00:00",
          "2022-09-01T00:00:00",
          "2022-09-02T00:00:00",
          "2022-09-05T00:00:00",
          "2022-09-06T00:00:00",
          "2022-09-07T00:00:00",
          "2022-09-08T00:00:00",
          "2022-09-09T00:00:00",
          "2022-09-12T00:00:00",
          "2022-09-13T00:00:00",
          "2022-09-14T00:00:00",
          "2022-09-15T00:00:00",
          "2022-09-16T00:00:00",
          "2022-09-19T00:00:00",
          "2022-09-20T00:00:00",
          "2022-09-21T00:00:00",
          "2022-09-22T00:00:00",
          "2022-09-23T00:00:00",
          "2022-09-26T00:00:00",
          "2022-09-27T00:00:00",
          "2022-09-28T00:00:00",
          "2022-09-29T00:00:00",
          "2022-09-30T00:00:00",
          "2022-10-03T00:00:00",
          "2022-10-04T00:00:00",
          "2022-10-06T00:00:00",
          "2022-10-07T00:00:00",
          "2022-10-10T00:00:00",
          "2022-10-11T00:00:00",
          "2022-10-12T00:00:00",
          "2022-10-13T00:00:00",
          "2022-10-14T00:00:00",
          "2022-10-17T00:00:00",
          "2022-10-18T00:00:00",
          "2022-10-19T00:00:00",
          "2022-10-20T00:00:00",
          "2022-10-21T00:00:00",
          "2022-10-24T00:00:00",
          "2022-10-25T00:00:00",
          "2022-10-27T00:00:00",
          "2022-10-28T00:00:00",
          "2022-10-31T00:00:00",
          "2022-11-01T00:00:00",
          "2022-11-02T00:00:00",
          "2022-11-03T00:00:00",
          "2022-11-04T00:00:00",
          "2022-11-07T00:00:00",
          "2022-11-09T00:00:00",
          "2022-11-10T00:00:00",
          "2022-11-11T00:00:00",
          "2022-11-14T00:00:00",
          "2022-11-15T00:00:00",
          "2022-11-16T00:00:00",
          "2022-11-17T00:00:00",
          "2022-11-18T00:00:00",
          "2022-11-21T00:00:00",
          "2022-11-22T00:00:00",
          "2022-11-23T00:00:00",
          "2022-11-24T00:00:00",
          "2022-11-25T00:00:00",
          "2022-11-28T00:00:00",
          "2022-11-29T00:00:00",
          "2022-11-30T00:00:00",
          "2022-12-01T00:00:00",
          "2022-12-02T00:00:00",
          "2022-12-05T00:00:00",
          "2022-12-06T00:00:00",
          "2022-12-07T00:00:00",
          "2022-12-08T00:00:00",
          "2022-12-09T00:00:00",
          "2022-12-12T00:00:00",
          "2022-12-13T00:00:00",
          "2022-12-14T00:00:00",
          "2022-12-15T00:00:00",
          "2022-12-16T00:00:00",
          "2022-12-19T00:00:00",
          "2022-12-20T00:00:00",
          "2022-12-21T00:00:00",
          "2022-12-22T00:00:00",
          "2022-12-23T00:00:00",
          "2022-12-26T00:00:00",
          "2022-12-27T00:00:00",
          "2022-12-28T00:00:00",
          "2022-12-29T00:00:00",
          "2022-12-30T00:00:00",
          "2023-01-02T00:00:00",
          "2023-01-03T00:00:00",
          "2023-01-04T00:00:00",
          "2023-01-05T00:00:00",
          "2023-01-06T00:00:00",
          "2023-01-09T00:00:00",
          "2023-01-10T00:00:00",
          "2023-01-11T00:00:00",
          "2023-01-12T00:00:00",
          "2023-01-13T00:00:00",
          "2023-01-16T00:00:00",
          "2023-01-17T00:00:00",
          "2023-01-18T00:00:00",
          "2023-01-19T00:00:00",
          "2023-01-20T00:00:00",
          "2023-01-23T00:00:00",
          "2023-01-24T00:00:00",
          "2023-01-25T00:00:00",
          "2023-01-27T00:00:00",
          "2023-01-30T00:00:00",
          "2023-01-31T00:00:00",
          "2023-02-01T00:00:00",
          "2023-02-02T00:00:00",
          "2023-02-03T00:00:00",
          "2023-02-06T00:00:00",
          "2023-02-07T00:00:00",
          "2023-02-08T00:00:00",
          "2023-02-09T00:00:00",
          "2023-02-10T00:00:00",
          "2023-02-13T00:00:00",
          "2023-02-14T00:00:00",
          "2023-02-15T00:00:00",
          "2023-02-16T00:00:00",
          "2023-02-17T00:00:00",
          "2023-02-20T00:00:00",
          "2023-02-21T00:00:00",
          "2023-02-22T00:00:00",
          "2023-02-23T00:00:00",
          "2023-02-24T00:00:00",
          "2023-02-27T00:00:00",
          "2023-02-28T00:00:00",
          "2023-03-01T00:00:00",
          "2023-03-02T00:00:00",
          "2023-03-03T00:00:00",
          "2023-03-06T00:00:00",
          "2023-03-08T00:00:00",
          "2023-03-09T00:00:00",
          "2023-03-10T00:00:00",
          "2023-03-13T00:00:00",
          "2023-03-14T00:00:00",
          "2023-03-15T00:00:00",
          "2023-03-16T00:00:00",
          "2023-03-17T00:00:00",
          "2023-03-20T00:00:00",
          "2023-03-21T00:00:00",
          "2023-03-22T00:00:00",
          "2023-03-23T00:00:00",
          "2023-03-24T00:00:00",
          "2023-03-27T00:00:00",
          "2023-03-28T00:00:00",
          "2023-03-29T00:00:00",
          "2023-03-31T00:00:00",
          "2023-04-03T00:00:00",
          "2023-04-05T00:00:00",
          "2023-04-06T00:00:00",
          "2023-04-10T00:00:00",
          "2023-04-11T00:00:00",
          "2023-04-12T00:00:00",
          "2023-04-13T00:00:00",
          "2023-04-17T00:00:00",
          "2023-04-18T00:00:00",
          "2023-04-19T00:00:00",
          "2023-04-20T00:00:00",
          "2023-04-21T00:00:00",
          "2023-04-24T00:00:00",
          "2023-04-25T00:00:00",
          "2023-04-26T00:00:00",
          "2023-04-27T00:00:00",
          "2023-04-28T00:00:00"
         ]
        }
       ],
       "layout": {
        "shapes": [
         {
          "fillcolor": "LightSalmon",
          "layer": "below",
          "line": {
           "width": 0
          },
          "opacity": 0.5,
          "type": "rect",
          "x0": "2022-01-14T00:00:00",
          "x1": "2022-01-17T00:00:00",
          "xref": "x",
          "y0": 0,
          "y1": 1,
          "yref": "y domain"
         },
         {
          "fillcolor": "LightSalmon",
          "layer": "below",
          "line": {
           "width": 0
          },
          "opacity": 0.5,
          "type": "rect",
          "x0": "2022-01-18T00:00:00",
          "x1": "2022-01-19T00:00:00",
          "xref": "x",
          "y0": 0,
          "y1": 1,
          "yref": "y domain"
         },
         {
          "fillcolor": "LightSalmon",
          "layer": "below",
          "line": {
           "width": 0
          },
          "opacity": 0.5,
          "type": "rect",
          "x0": "2022-01-24T00:00:00",
          "x1": "2022-01-25T00:00:00",
          "xref": "x",
          "y0": 0,
          "y1": 1,
          "yref": "y domain"
         },
         {
          "fillcolor": "LightSalmon",
          "layer": "below",
          "line": {
           "width": 0
          },
          "opacity": 0.5,
          "type": "rect",
          "x0": "2022-03-10T00:00:00",
          "x1": "2022-03-11T00:00:00",
          "xref": "x",
          "y0": 0,
          "y1": 1,
          "yref": "y domain"
         },
         {
          "fillcolor": "LightSalmon",
          "layer": "below",
          "line": {
           "width": 0
          },
          "opacity": 0.5,
          "type": "rect",
          "x0": "2022-03-31T00:00:00",
          "x1": "2022-04-01T00:00:00",
          "xref": "x",
          "y0": 0,
          "y1": 1,
          "yref": "y domain"
         },
         {
          "fillcolor": "LightSalmon",
          "layer": "below",
          "line": {
           "width": 0
          },
          "opacity": 0.5,
          "type": "rect",
          "x0": "2022-06-29T00:00:00",
          "x1": "2022-06-30T00:00:00",
          "xref": "x",
          "y0": 0,
          "y1": 1,
          "yref": "y domain"
         },
         {
          "fillcolor": "LightSalmon",
          "layer": "below",
          "line": {
           "width": 0
          },
          "opacity": 0.5,
          "type": "rect",
          "x0": "2022-08-17T00:00:00",
          "x1": "2022-08-18T00:00:00",
          "xref": "x",
          "y0": 0,
          "y1": 1,
          "yref": "y domain"
         },
         {
          "fillcolor": "LightSalmon",
          "layer": "below",
          "line": {
           "width": 0
          },
          "opacity": 0.5,
          "type": "rect",
          "x0": "2022-08-22T00:00:00",
          "x1": "2022-08-23T00:00:00",
          "xref": "x",
          "y0": 0,
          "y1": 1,
          "yref": "y domain"
         },
         {
          "fillcolor": "LightSalmon",
          "layer": "below",
          "line": {
           "width": 0
          },
          "opacity": 0.5,
          "type": "rect",
          "x0": "2022-09-13T00:00:00",
          "x1": "2022-09-14T00:00:00",
          "xref": "x",
          "y0": 0,
          "y1": 1,
          "yref": "y domain"
         },
         {
          "fillcolor": "LightSalmon",
          "layer": "below",
          "line": {
           "width": 0
          },
          "opacity": 0.5,
          "type": "rect",
          "x0": "2022-09-16T00:00:00",
          "x1": "2022-09-19T00:00:00",
          "xref": "x",
          "y0": 0,
          "y1": 1,
          "yref": "y domain"
         },
         {
          "fillcolor": "LightSalmon",
          "layer": "below",
          "line": {
           "width": 0
          },
          "opacity": 0.5,
          "type": "rect",
          "x0": "2022-10-14T00:00:00",
          "x1": "2022-10-17T00:00:00",
          "xref": "x",
          "y0": 0,
          "y1": 1,
          "yref": "y domain"
         },
         {
          "fillcolor": "LightSalmon",
          "layer": "below",
          "line": {
           "width": 0
          },
          "opacity": 0.5,
          "type": "rect",
          "x0": "2022-11-02T00:00:00",
          "x1": "2022-11-03T00:00:00",
          "xref": "x",
          "y0": 0,
          "y1": 1,
          "yref": "y domain"
         },
         {
          "fillcolor": "LightSalmon",
          "layer": "below",
          "line": {
           "width": 0
          },
          "opacity": 0.5,
          "type": "rect",
          "x0": "2023-02-09T00:00:00",
          "x1": "2023-02-10T00:00:00",
          "xref": "x",
          "y0": 0,
          "y1": 1,
          "yref": "y domain"
         }
        ],
        "template": {
         "data": {
          "bar": [
           {
            "error_x": {
             "color": "#2a3f5f"
            },
            "error_y": {
             "color": "#2a3f5f"
            },
            "marker": {
             "line": {
              "color": "#E5ECF6",
              "width": 0.5
             },
             "pattern": {
              "fillmode": "overlay",
              "size": 10,
              "solidity": 0.2
             }
            },
            "type": "bar"
           }
          ],
          "barpolar": [
           {
            "marker": {
             "line": {
              "color": "#E5ECF6",
              "width": 0.5
             },
             "pattern": {
              "fillmode": "overlay",
              "size": 10,
              "solidity": 0.2
             }
            },
            "type": "barpolar"
           }
          ],
          "carpet": [
           {
            "aaxis": {
             "endlinecolor": "#2a3f5f",
             "gridcolor": "white",
             "linecolor": "white",
             "minorgridcolor": "white",
             "startlinecolor": "#2a3f5f"
            },
            "baxis": {
             "endlinecolor": "#2a3f5f",
             "gridcolor": "white",
             "linecolor": "white",
             "minorgridcolor": "white",
             "startlinecolor": "#2a3f5f"
            },
            "type": "carpet"
           }
          ],
          "choropleth": [
           {
            "colorbar": {
             "outlinewidth": 0,
             "ticks": ""
            },
            "type": "choropleth"
           }
          ],
          "contour": [
           {
            "colorbar": {
             "outlinewidth": 0,
             "ticks": ""
            },
            "colorscale": [
             [
              0,
              "#0d0887"
             ],
             [
              0.1111111111111111,
              "#46039f"
             ],
             [
              0.2222222222222222,
              "#7201a8"
             ],
             [
              0.3333333333333333,
              "#9c179e"
             ],
             [
              0.4444444444444444,
              "#bd3786"
             ],
             [
              0.5555555555555556,
              "#d8576b"
             ],
             [
              0.6666666666666666,
              "#ed7953"
             ],
             [
              0.7777777777777778,
              "#fb9f3a"
             ],
             [
              0.8888888888888888,
              "#fdca26"
             ],
             [
              1,
              "#f0f921"
             ]
            ],
            "type": "contour"
           }
          ],
          "contourcarpet": [
           {
            "colorbar": {
             "outlinewidth": 0,
             "ticks": ""
            },
            "type": "contourcarpet"
           }
          ],
          "heatmap": [
           {
            "colorbar": {
             "outlinewidth": 0,
             "ticks": ""
            },
            "colorscale": [
             [
              0,
              "#0d0887"
             ],
             [
              0.1111111111111111,
              "#46039f"
             ],
             [
              0.2222222222222222,
              "#7201a8"
             ],
             [
              0.3333333333333333,
              "#9c179e"
             ],
             [
              0.4444444444444444,
              "#bd3786"
             ],
             [
              0.5555555555555556,
              "#d8576b"
             ],
             [
              0.6666666666666666,
              "#ed7953"
             ],
             [
              0.7777777777777778,
              "#fb9f3a"
             ],
             [
              0.8888888888888888,
              "#fdca26"
             ],
             [
              1,
              "#f0f921"
             ]
            ],
            "type": "heatmap"
           }
          ],
          "heatmapgl": [
           {
            "colorbar": {
             "outlinewidth": 0,
             "ticks": ""
            },
            "colorscale": [
             [
              0,
              "#0d0887"
             ],
             [
              0.1111111111111111,
              "#46039f"
             ],
             [
              0.2222222222222222,
              "#7201a8"
             ],
             [
              0.3333333333333333,
              "#9c179e"
             ],
             [
              0.4444444444444444,
              "#bd3786"
             ],
             [
              0.5555555555555556,
              "#d8576b"
             ],
             [
              0.6666666666666666,
              "#ed7953"
             ],
             [
              0.7777777777777778,
              "#fb9f3a"
             ],
             [
              0.8888888888888888,
              "#fdca26"
             ],
             [
              1,
              "#f0f921"
             ]
            ],
            "type": "heatmapgl"
           }
          ],
          "histogram": [
           {
            "marker": {
             "pattern": {
              "fillmode": "overlay",
              "size": 10,
              "solidity": 0.2
             }
            },
            "type": "histogram"
           }
          ],
          "histogram2d": [
           {
            "colorbar": {
             "outlinewidth": 0,
             "ticks": ""
            },
            "colorscale": [
             [
              0,
              "#0d0887"
             ],
             [
              0.1111111111111111,
              "#46039f"
             ],
             [
              0.2222222222222222,
              "#7201a8"
             ],
             [
              0.3333333333333333,
              "#9c179e"
             ],
             [
              0.4444444444444444,
              "#bd3786"
             ],
             [
              0.5555555555555556,
              "#d8576b"
             ],
             [
              0.6666666666666666,
              "#ed7953"
             ],
             [
              0.7777777777777778,
              "#fb9f3a"
             ],
             [
              0.8888888888888888,
              "#fdca26"
             ],
             [
              1,
              "#f0f921"
             ]
            ],
            "type": "histogram2d"
           }
          ],
          "histogram2dcontour": [
           {
            "colorbar": {
             "outlinewidth": 0,
             "ticks": ""
            },
            "colorscale": [
             [
              0,
              "#0d0887"
             ],
             [
              0.1111111111111111,
              "#46039f"
             ],
             [
              0.2222222222222222,
              "#7201a8"
             ],
             [
              0.3333333333333333,
              "#9c179e"
             ],
             [
              0.4444444444444444,
              "#bd3786"
             ],
             [
              0.5555555555555556,
              "#d8576b"
             ],
             [
              0.6666666666666666,
              "#ed7953"
             ],
             [
              0.7777777777777778,
              "#fb9f3a"
             ],
             [
              0.8888888888888888,
              "#fdca26"
             ],
             [
              1,
              "#f0f921"
             ]
            ],
            "type": "histogram2dcontour"
           }
          ],
          "mesh3d": [
           {
            "colorbar": {
             "outlinewidth": 0,
             "ticks": ""
            },
            "type": "mesh3d"
           }
          ],
          "parcoords": [
           {
            "line": {
             "colorbar": {
              "outlinewidth": 0,
              "ticks": ""
             }
            },
            "type": "parcoords"
           }
          ],
          "pie": [
           {
            "automargin": true,
            "type": "pie"
           }
          ],
          "scatter": [
           {
            "fillpattern": {
             "fillmode": "overlay",
             "size": 10,
             "solidity": 0.2
            },
            "type": "scatter"
           }
          ],
          "scatter3d": [
           {
            "line": {
             "colorbar": {
              "outlinewidth": 0,
              "ticks": ""
             }
            },
            "marker": {
             "colorbar": {
              "outlinewidth": 0,
              "ticks": ""
             }
            },
            "type": "scatter3d"
           }
          ],
          "scattercarpet": [
           {
            "marker": {
             "colorbar": {
              "outlinewidth": 0,
              "ticks": ""
             }
            },
            "type": "scattercarpet"
           }
          ],
          "scattergeo": [
           {
            "marker": {
             "colorbar": {
              "outlinewidth": 0,
              "ticks": ""
             }
            },
            "type": "scattergeo"
           }
          ],
          "scattergl": [
           {
            "marker": {
             "colorbar": {
              "outlinewidth": 0,
              "ticks": ""
             }
            },
            "type": "scattergl"
           }
          ],
          "scattermapbox": [
           {
            "marker": {
             "colorbar": {
              "outlinewidth": 0,
              "ticks": ""
             }
            },
            "type": "scattermapbox"
           }
          ],
          "scatterpolar": [
           {
            "marker": {
             "colorbar": {
              "outlinewidth": 0,
              "ticks": ""
             }
            },
            "type": "scatterpolar"
           }
          ],
          "scatterpolargl": [
           {
            "marker": {
             "colorbar": {
              "outlinewidth": 0,
              "ticks": ""
             }
            },
            "type": "scatterpolargl"
           }
          ],
          "scatterternary": [
           {
            "marker": {
             "colorbar": {
              "outlinewidth": 0,
              "ticks": ""
             }
            },
            "type": "scatterternary"
           }
          ],
          "surface": [
           {
            "colorbar": {
             "outlinewidth": 0,
             "ticks": ""
            },
            "colorscale": [
             [
              0,
              "#0d0887"
             ],
             [
              0.1111111111111111,
              "#46039f"
             ],
             [
              0.2222222222222222,
              "#7201a8"
             ],
             [
              0.3333333333333333,
              "#9c179e"
             ],
             [
              0.4444444444444444,
              "#bd3786"
             ],
             [
              0.5555555555555556,
              "#d8576b"
             ],
             [
              0.6666666666666666,
              "#ed7953"
             ],
             [
              0.7777777777777778,
              "#fb9f3a"
             ],
             [
              0.8888888888888888,
              "#fdca26"
             ],
             [
              1,
              "#f0f921"
             ]
            ],
            "type": "surface"
           }
          ],
          "table": [
           {
            "cells": {
             "fill": {
              "color": "#EBF0F8"
             },
             "line": {
              "color": "white"
             }
            },
            "header": {
             "fill": {
              "color": "#C8D4E3"
             },
             "line": {
              "color": "white"
             }
            },
            "type": "table"
           }
          ]
         },
         "layout": {
          "annotationdefaults": {
           "arrowcolor": "#2a3f5f",
           "arrowhead": 0,
           "arrowwidth": 1
          },
          "autotypenumbers": "strict",
          "coloraxis": {
           "colorbar": {
            "outlinewidth": 0,
            "ticks": ""
           }
          },
          "colorscale": {
           "diverging": [
            [
             0,
             "#8e0152"
            ],
            [
             0.1,
             "#c51b7d"
            ],
            [
             0.2,
             "#de77ae"
            ],
            [
             0.3,
             "#f1b6da"
            ],
            [
             0.4,
             "#fde0ef"
            ],
            [
             0.5,
             "#f7f7f7"
            ],
            [
             0.6,
             "#e6f5d0"
            ],
            [
             0.7,
             "#b8e186"
            ],
            [
             0.8,
             "#7fbc41"
            ],
            [
             0.9,
             "#4d9221"
            ],
            [
             1,
             "#276419"
            ]
           ],
           "sequential": [
            [
             0,
             "#0d0887"
            ],
            [
             0.1111111111111111,
             "#46039f"
            ],
            [
             0.2222222222222222,
             "#7201a8"
            ],
            [
             0.3333333333333333,
             "#9c179e"
            ],
            [
             0.4444444444444444,
             "#bd3786"
            ],
            [
             0.5555555555555556,
             "#d8576b"
            ],
            [
             0.6666666666666666,
             "#ed7953"
            ],
            [
             0.7777777777777778,
             "#fb9f3a"
            ],
            [
             0.8888888888888888,
             "#fdca26"
            ],
            [
             1,
             "#f0f921"
            ]
           ],
           "sequentialminus": [
            [
             0,
             "#0d0887"
            ],
            [
             0.1111111111111111,
             "#46039f"
            ],
            [
             0.2222222222222222,
             "#7201a8"
            ],
            [
             0.3333333333333333,
             "#9c179e"
            ],
            [
             0.4444444444444444,
             "#bd3786"
            ],
            [
             0.5555555555555556,
             "#d8576b"
            ],
            [
             0.6666666666666666,
             "#ed7953"
            ],
            [
             0.7777777777777778,
             "#fb9f3a"
            ],
            [
             0.8888888888888888,
             "#fdca26"
            ],
            [
             1,
             "#f0f921"
            ]
           ]
          },
          "colorway": [
           "#636efa",
           "#EF553B",
           "#00cc96",
           "#ab63fa",
           "#FFA15A",
           "#19d3f3",
           "#FF6692",
           "#B6E880",
           "#FF97FF",
           "#FECB52"
          ],
          "font": {
           "color": "#2a3f5f"
          },
          "geo": {
           "bgcolor": "white",
           "lakecolor": "white",
           "landcolor": "#E5ECF6",
           "showlakes": true,
           "showland": true,
           "subunitcolor": "white"
          },
          "hoverlabel": {
           "align": "left"
          },
          "hovermode": "closest",
          "mapbox": {
           "style": "light"
          },
          "paper_bgcolor": "white",
          "plot_bgcolor": "#E5ECF6",
          "polar": {
           "angularaxis": {
            "gridcolor": "white",
            "linecolor": "white",
            "ticks": ""
           },
           "bgcolor": "#E5ECF6",
           "radialaxis": {
            "gridcolor": "white",
            "linecolor": "white",
            "ticks": ""
           }
          },
          "scene": {
           "xaxis": {
            "backgroundcolor": "#E5ECF6",
            "gridcolor": "white",
            "gridwidth": 2,
            "linecolor": "white",
            "showbackground": true,
            "ticks": "",
            "zerolinecolor": "white"
           },
           "yaxis": {
            "backgroundcolor": "#E5ECF6",
            "gridcolor": "white",
            "gridwidth": 2,
            "linecolor": "white",
            "showbackground": true,
            "ticks": "",
            "zerolinecolor": "white"
           },
           "zaxis": {
            "backgroundcolor": "#E5ECF6",
            "gridcolor": "white",
            "gridwidth": 2,
            "linecolor": "white",
            "showbackground": true,
            "ticks": "",
            "zerolinecolor": "white"
           }
          },
          "shapedefaults": {
           "line": {
            "color": "#2a3f5f"
           }
          },
          "ternary": {
           "aaxis": {
            "gridcolor": "white",
            "linecolor": "white",
            "ticks": ""
           },
           "baxis": {
            "gridcolor": "white",
            "linecolor": "white",
            "ticks": ""
           },
           "bgcolor": "#E5ECF6",
           "caxis": {
            "gridcolor": "white",
            "linecolor": "white",
            "ticks": ""
           }
          },
          "title": {
           "x": 0.05
          },
          "xaxis": {
           "automargin": true,
           "gridcolor": "white",
           "linecolor": "white",
           "ticks": "",
           "title": {
            "standoff": 15
           },
           "zerolinecolor": "white",
           "zerolinewidth": 2
          },
          "yaxis": {
           "automargin": true,
           "gridcolor": "white",
           "linecolor": "white",
           "ticks": "",
           "title": {
            "standoff": 15
           },
           "zerolinecolor": "white",
           "zerolinewidth": 2
          }
         }
        },
        "title": {
         "text": "Bullish engulfing pattern"
        },
        "xaxis": {
         "title": {
          "text": "Date"
         }
        },
        "yaxis": {
         "title": {
          "text": "Price"
         }
        }
       }
      }
     },
     "metadata": {},
     "output_type": "display_data"
    }
   ],
   "source": [
    "display_pattern(df, bullish_engulfing, \"Bullish engulfing\")"
   ]
  },
  {
   "cell_type": "code",
   "execution_count": 31,
   "metadata": {},
   "outputs": [
    {
     "name": "stdout",
     "output_type": "stream",
     "text": [
      "Bearish harami day:  2022-05-09 00:00:00\n",
      "Bearish harami day:  2022-06-09 00:00:00\n",
      "Bearish harami day:  2022-06-22 00:00:00\n",
      "Bearish harami day:  2022-06-29 00:00:00\n",
      "Bearish harami day:  2022-07-26 00:00:00\n",
      "Bearish harami day:  2022-08-03 00:00:00\n",
      "Bearish harami day:  2022-09-06 00:00:00\n",
      "Bearish harami day:  2022-11-16 00:00:00\n",
      "Bearish harami day:  2022-12-06 00:00:00\n",
      "Bearish harami day:  2023-02-28 00:00:00\n",
      "Bearish harami day:  2023-03-02 00:00:00\n",
      "Bearish harami day:  2023-04-27 00:00:00\n"
     ]
    },
    {
     "data": {
      "application/vnd.plotly.v1+json": {
       "config": {
        "plotlyServerURL": "https://plot.ly"
       },
       "data": [
        {
         "close": [
          470.79998779296875,
          483.5,
          492.3999938964844,
          491.70001220703125,
          491.25,
          503.6499938964844,
          505.95001220703125,
          510.25,
          511.3500061035156,
          508.3500061035156,
          514,
          506.79998779296875,
          515.7999877929688,
          511.3999938964844,
          502.70001220703125,
          494.1499938964844,
          514.6500244140625,
          528.9500122070312,
          523.4500122070312,
          538.2999877929688,
          532.2999877929688,
          539.7999877929688,
          540.0999755859375,
          530.2999877929688,
          533.25,
          531.3499755859375,
          535.25,
          540.5499877929688,
          529.5999755859375,
          501.3999938964844,
          524.7999877929688,
          516.7000122070312,
          512.9500122070312,
          515.2999877929688,
          511.8500061035156,
          498.3999938964844,
          498.70001220703125,
          472.6499938964844,
          482.95001220703125,
          483.20001220703125,
          474.25,
          467.3999938964844,
          461.95001220703125,
          440.29998779296875,
          440.29998779296875,
          451.70001220703125,
          468.70001220703125,
          470.3500061035156,
          485.1499938964844,
          485.8500061035156,
          492.75,
          501.8999938964844,
          490.6000061035156,
          493.70001220703125,
          490.6499938964844,
          487.1000061035156,
          490.70001220703125,
          497.5,
          495,
          494.29998779296875,
          493.54998779296875,
          508.20001220703125,
          512.4000244140625,
          509.3999938964844,
          513.9500122070312,
          514.9500122070312,
          516.0999755859375,
          514.9000244140625,
          512.8499755859375,
          517.7000122070312,
          509.5,
          511.79998779296875,
          509.29998779296875,
          516.2999877929688,
          500.6000061035156,
          494.75,
          505.5,
          497.25,
          507.5,
          496.29998779296875,
          491,
          479.6499938964844,
          480,
          483.95001220703125,
          475.8999938964844,
          475.20001220703125,
          476.54998779296875,
          462.6499938964844,
          444.6499938964844,
          455,
          467.29998779296875,
          458,
          447.5,
          462.3999938964844,
          460.8999938964844,
          462.04998779296875,
          454.1000061035156,
          468.8999938964844,
          468.95001220703125,
          474.6000061035156,
          468.1000061035156,
          468.29998779296875,
          469.8500061035156,
          464.5,
          463.70001220703125,
          463.3999938964844,
          471.29998779296875,
          466.95001220703125,
          461.8500061035156,
          445.8500061035156,
          448.1000061035156,
          451.3500061035156,
          441.6000061035156,
          441,
          434.70001220703125,
          450.75,
          447.6499938964844,
          451.3999938964844,
          454.25,
          461.20001220703125,
          464.25,
          459.1000061035156,
          465.8999938964844,
          466.8500061035156,
          473.45001220703125,
          472.1499938964844,
          479.95001220703125,
          486.75,
          488.54998779296875,
          488.20001220703125,
          484.95001220703125,
          486.5,
          479.3500061035156,
          479.1000061035156,
          490.29998779296875,
          497.95001220703125,
          508.6000061035156,
          512.0499877929688,
          513.7000122070312,
          517.7999877929688,
          514.2000122070312,
          528.2000122070312,
          532.4500122070312,
          528.3499755859375,
          533.75,
          542.0999755859375,
          540.8499755859375,
          533.25,
          531.0499877929688,
          520.4000244140625,
          514.7000122070312,
          524.75,
          530.7000122070312,
          525.9500122070312,
          528.1500244140625,
          532.3499755859375,
          520.3499755859375,
          511.29998779296875,
          521.9000244140625,
          519.2999877929688,
          520.4000244140625,
          523.7999877929688,
          514.8499755859375,
          531.25,
          533.2999877929688,
          536.7000122070312,
          538.9000244140625,
          537.7999877929688,
          532.8499755859375,
          544.6500244140625,
          553.3499755859375,
          554.9000244140625,
          558,
          571.75,
          572.1500244140625,
          561.7999877929688,
          572.25,
          574.0499877929688,
          569.7000122070312,
          567.2999877929688,
          550.5999755859375,
          543.2999877929688,
          536.5,
          524.8499755859375,
          521.75,
          530.5999755859375,
          519.75,
          532.7000122070312,
          537.2999877929688,
          530.2000122070312,
          530.75,
          527.4000244140625,
          533.7999877929688,
          521.4500122070312,
          527.2000122070312,
          543.6500244140625,
          562.4500122070312,
          553.4000244140625,
          555.4000244140625,
          560.8499755859375,
          570.5,
          578.5499877929688,
          579.6500244140625,
          570.75,
          573.7999877929688,
          576.9000244140625,
          573.8499755859375,
          584.9000244140625,
          593.9500122070312,
          614.1500244140625,
          615.5499877929688,
          605.75,
          601.2999877929688,
          592.5499877929688,
          600.8499755859375,
          599.75,
          599.0499877929688,
          602.7000122070312,
          598.0999755859375,
          599.0999755859375,
          607.6500244140625,
          609.3499755859375,
          607.4000244140625,
          608.5999755859375,
          608.5499877929688,
          602.4500122070312,
          608.0999755859375,
          607.5499877929688,
          617.2999877929688,
          608.9500122070312,
          607.0499877929688,
          611.6500244140625,
          616.5,
          613.0499877929688,
          616.75,
          625.5,
          615.9500122070312,
          603.3499755859375,
          604.4500122070312,
          604.4500122070312,
          593.4000244140625,
          593.4000244140625,
          574,
          597.0999755859375,
          601.9000244140625,
          601.0499877929688,
          611.7999877929688,
          613.7000122070312,
          612.2000122070312,
          612.4000244140625,
          605.2000122070312,
          605.0999755859375,
          600.6500244140625,
          607.7000122070312,
          595.1500244140625,
          596.7000122070312,
          594.9000244140625,
          600.0999755859375,
          603,
          592.9500122070312,
          591.4500122070312,
          589.8499755859375,
          592.2000122070312,
          600.4500122070312,
          594.3499755859375,
          568.7000122070312,
          539.9500122070312,
          538.2000122070312,
          553.5,
          527.3499755859375,
          528.0999755859375,
          544.2000122070312,
          545.4000244140625,
          547.0999755859375,
          549.75,
          550.7999877929688,
          553.0499877929688,
          537.5,
          540.8499755859375,
          542.25,
          540.0999755859375,
          531,
          525.1500244140625,
          523.4500122070312,
          516.3499755859375,
          521,
          521.0499877929688,
          527.7000122070312,
          522.7999877929688,
          536.7000122070312,
          533.75,
          561.2000122070312,
          561.7000122070312,
          564.7999877929688,
          558.9000244140625,
          547.3499755859375,
          530,
          525.4000244140625,
          517.5499877929688,
          524.5,
          529.7999877929688,
          519.2000122070312,
          521.8499755859375,
          521.5499877929688,
          512.75,
          505.3500061035156,
          510.1499938964844,
          508.1000061035156,
          516.5,
          523.75,
          526.75,
          523,
          527.6500244140625,
          526.2999877929688,
          532.0999755859375,
          528.2000122070312,
          532.9500122070312,
          544,
          545.8499755859375,
          540.2999877929688,
          544.7999877929688,
          543.1500244140625,
          554.5999755859375,
          561.7999877929688,
          566.3499755859375,
          564.75,
          578.2999877929688
         ],
         "high": [
          472,
          484.70001220703125,
          495,
          494.3999938964844,
          501.95001220703125,
          504.95001220703125,
          507.79998779296875,
          513.5,
          512.8499755859375,
          510.3500061035156,
          518.9000244140625,
          517.4500122070312,
          517.6500244140625,
          519.1500244140625,
          507.5,
          506.79998779296875,
          517.5,
          530.8499755859375,
          536.4000244140625,
          540.9000244140625,
          543.9500122070312,
          544.25,
          544.7000122070312,
          546.4000244140625,
          549,
          537.6500244140625,
          536.5,
          543.9500122070312,
          537.7000122070312,
          515.5999755859375,
          526.8499755859375,
          528,
          520,
          520.9000244140625,
          517.5,
          505.29998779296875,
          505.3500061035156,
          487.95001220703125,
          491.8999938964844,
          485.29998779296875,
          479.79998779296875,
          483.3999938964844,
          470.8999938964844,
          453.95001220703125,
          442.1000061035156,
          454.29998779296875,
          476.6499938964844,
          474.79998779296875,
          486,
          490.5,
          494.29998779296875,
          503.5,
          502,
          495.79998779296875,
          502.3999938964844,
          494.79998779296875,
          493.29998779296875,
          498.6000061035156,
          501.3999938964844,
          500.3999938964844,
          497.54998779296875,
          509.75,
          514.9000244140625,
          516.4000244140625,
          515.2000122070312,
          519.9000244140625,
          519.5,
          522,
          516.7000122070312,
          520.9000244140625,
          515,
          520.9500122070312,
          513.7000122070312,
          518,
          513.5,
          499.20001220703125,
          507.8999938964844,
          502.79998779296875,
          510,
          512.5,
          495,
          496.45001220703125,
          494,
          486.1000061035156,
          483.70001220703125,
          482.54998779296875,
          479,
          473,
          477,
          461.5,
          469.6499938964844,
          468.6000061035156,
          450,
          464,
          471.3999938964844,
          466.79998779296875,
          464.45001220703125,
          470.1000061035156,
          475,
          476.8999938964844,
          476.3999938964844,
          472,
          472.3500061035156,
          475.5,
          465.6000061035156,
          465.95001220703125,
          475.54998779296875,
          470.8999938964844,
          464.1499938964844,
          454.04998779296875,
          449.25,
          455.45001220703125,
          457.75,
          447.54998779296875,
          443.45001220703125,
          454.95001220703125,
          451.20001220703125,
          456.45001220703125,
          460.3500061035156,
          464.8500061035156,
          465.75,
          462.70001220703125,
          469.29998779296875,
          468.79998779296875,
          474.1499938964844,
          480,
          481,
          488.25,
          489.8999938964844,
          491.29998779296875,
          491.3500061035156,
          492.45001220703125,
          488.8999938964844,
          484.3999938964844,
          491.5,
          498.54998779296875,
          510.6000061035156,
          513.4000244140625,
          520.2000122070312,
          519,
          520.7999877929688,
          529.9500122070312,
          537.5,
          537,
          535,
          544.9000244140625,
          546.4000244140625,
          544,
          542.9000244140625,
          524,
          523.5,
          526,
          531.7999877929688,
          533.8499755859375,
          530.5499877929688,
          534.7999877929688,
          533.6500244140625,
          519.9000244140625,
          524,
          523,
          528.2999877929688,
          529.5,
          517,
          532.5,
          540.9000244140625,
          537.8499755859375,
          540.7999877929688,
          542.7000122070312,
          537.4500122070312,
          546.2999877929688,
          557,
          558.5999755859375,
          560,
          574.8499755859375,
          578.5,
          574,
          574.4000244140625,
          577.9500122070312,
          577.2999877929688,
          574,
          568,
          549,
          550.9000244140625,
          539.7999877929688,
          535.7000122070312,
          536.9000244140625,
          531.6500244140625,
          535.7999877929688,
          541.7999877929688,
          535.5999755859375,
          533.9000244140625,
          533.7000122070312,
          535,
          533.7999877929688,
          534.8499755859375,
          544.7000122070312,
          563.5,
          563.4500122070312,
          556.7999877929688,
          565.7999877929688,
          572.5,
          586.2000122070312,
          585,
          582.6500244140625,
          577.4500122070312,
          585.75,
          578.9500122070312,
          587.9500122070312,
          596.9500122070312,
          622.7000122070312,
          621,
          615.0999755859375,
          619.5499877929688,
          603.9500122070312,
          602.0999755859375,
          603.5,
          602.75,
          605.75,
          602.0999755859375,
          600.7000122070312,
          609.5999755859375,
          611.2999877929688,
          613.7000122070312,
          610.9000244140625,
          611.7999877929688,
          611.4000244140625,
          609.7999877929688,
          609.5999755859375,
          618,
          619.7999877929688,
          612.9000244140625,
          613.7999877929688,
          618,
          618.7000122070312,
          617.4000244140625,
          626.75,
          629.5499877929688,
          615.5999755859375,
          609.5,
          606.5,
          609.1500244140625,
          599,
          590.7000122070312,
          601.7000122070312,
          603.0999755859375,
          607,
          618,
          620.5499877929688,
          619.2000122070312,
          616.5999755859375,
          614.9500122070312,
          611.5999755859375,
          607.4500122070312,
          609,
          609,
          599.5,
          597.9000244140625,
          602.9000244140625,
          606.0999755859375,
          606,
          597.1500244140625,
          591.75,
          596.5999755859375,
          601.75,
          604.5999755859375,
          595.8499755859375,
          568.5499877929688,
          554.3499755859375,
          557,
          565,
          532.6500244140625,
          545.9500122070312,
          558.7999877929688,
          551.4000244140625,
          554.5,
          552,
          557.25,
          556.9000244140625,
          544.5999755859375,
          544.6500244140625,
          546.8499755859375,
          539.6500244140625,
          533.9500122070312,
          528.9500122070312,
          521.9000244140625,
          524,
          527.5,
          529.7999877929688,
          528.4500122070312,
          537.4000244140625,
          539.9000244140625,
          564.2999877929688,
          567.9000244140625,
          565.5,
          565.75,
          554.9500122070312,
          553.1500244140625,
          532.7999877929688,
          532,
          529.3499755859375,
          531.5999755859375,
          526.5999755859375,
          523.4500122070312,
          527,
          521,
          514.9500122070312,
          514.1500244140625,
          511.75,
          518,
          524.9000244140625,
          528.5,
          527.5999755859375,
          533.7000122070312,
          530.4000244140625,
          535.7000122070312,
          534,
          534.25,
          545,
          548.5,
          547.5,
          545.4500122070312,
          546.4000244140625,
          555.5499877929688,
          567.9000244140625,
          567,
          567.4000244140625,
          580.4500122070312
         ],
         "low": [
          460.1000061035156,
          471.04998779296875,
          479.1499938964844,
          485.3999938964844,
          489.45001220703125,
          492.5,
          499.25,
          508.5,
          507,
          505.1499938964844,
          507.54998779296875,
          505,
          500.29998779296875,
          508,
          498,
          488,
          489,
          503.20001220703125,
          521.4000244140625,
          527.0499877929688,
          520,
          531.3499755859375,
          537.1500244140625,
          527.2999877929688,
          525.25,
          519,
          527.75,
          534.4000244140625,
          527.0999755859375,
          499.70001220703125,
          497.1000061035156,
          514,
          511.1499938964844,
          510.1000061035156,
          504.6499938964844,
          495.5,
          497.25,
          468,
          479.29998779296875,
          473.1000061035156,
          467,
          464.6000061035156,
          457.6499938964844,
          433.45001220703125,
          425,
          438.54998779296875,
          461.6499938964844,
          462,
          470.54998779296875,
          480.6499938964844,
          489.3999938964844,
          498.29998779296875,
          489,
          477.25,
          489.20001220703125,
          483.5,
          486.6000061035156,
          481.95001220703125,
          491.70001220703125,
          492.29998779296875,
          492.20001220703125,
          491,
          506,
          507.70001220703125,
          506,
          510.04998779296875,
          512.3499755859375,
          513.2000122070312,
          504.3500061035156,
          513.75,
          504,
          505.1000061035156,
          507,
          512.2000122070312,
          499,
          490.04998779296875,
          498.45001220703125,
          491.8500061035156,
          496.5,
          494,
          481.29998779296875,
          477.5,
          478.6499938964844,
          471,
          473.79998779296875,
          473.5,
          463.6499938964844,
          456.3500061035156,
          439.75,
          438.8500061035156,
          456.1499938964844,
          457.1000061035156,
          444.45001220703125,
          454.1499938964844,
          459.5,
          460.20001220703125,
          452.04998779296875,
          452.5,
          467.5,
          471.1000061035156,
          465,
          464.70001220703125,
          466.1499938964844,
          463.5,
          456.5,
          460.5,
          463.20001220703125,
          462.45001220703125,
          458.6000061035156,
          442.1000061035156,
          443.3500061035156,
          448.6000061035156,
          440.1499938964844,
          437.25,
          430.70001220703125,
          437.6000061035156,
          444.6499938964844,
          446,
          453.20001220703125,
          458.04998779296875,
          458,
          458,
          458.6000061035156,
          460.54998779296875,
          466.8500061035156,
          471,
          473.8999938964844,
          481.6000061035156,
          485.1499938964844,
          485,
          483.1000061035156,
          484.54998779296875,
          476.79998779296875,
          474.70001220703125,
          482.1000061035156,
          488,
          500.3999938964844,
          506.75,
          511.20001220703125,
          509.1499938964844,
          513.0999755859375,
          512.25,
          529.5499877929688,
          526.75,
          526.4000244140625,
          531.0999755859375,
          534.6500244140625,
          524.2000122070312,
          529,
          513.8499755859375,
          513.4000244140625,
          517.2000122070312,
          525.1500244140625,
          525,
          524.3499755859375,
          526.2000122070312,
          518.5,
          510,
          508.25,
          512.2999877929688,
          518.5,
          522.2000122070312,
          508.75,
          517.9500122070312,
          522.25,
          531.25,
          536.2999877929688,
          534.0999755859375,
          531.5499877929688,
          535.5,
          548,
          551.25,
          553.75,
          549.25,
          567.9000244140625,
          560.2999877929688,
          559.5499877929688,
          572.8499755859375,
          565.4000244140625,
          562,
          549.5,
          533,
          533.2000122070312,
          520.3499755859375,
          519.5499877929688,
          516.1500244140625,
          518.5,
          527.7999877929688,
          534.5999755859375,
          526.5499877929688,
          522.2000122070312,
          525.5,
          526,
          520.2000122070312,
          526,
          524.2000122070312,
          546.75,
          551.5499877929688,
          545.2999877929688,
          557.25,
          565.9000244140625,
          568,
          577.5999755859375,
          567,
          568.4000244140625,
          574.5999755859375,
          569.9000244140625,
          568,
          580.4000244140625,
          607.7000122070312,
          610.5499877929688,
          602.2000122070312,
          598.5,
          591.6500244140625,
          592.6500244140625,
          596,
          596.1500244140625,
          597.1500244140625,
          595.3499755859375,
          596.1500244140625,
          601,
          605.7999877929688,
          606.25,
          602.3499755859375,
          607.0999755859375,
          598.4000244140625,
          601.5499877929688,
          604.25,
          607.5499877929688,
          607.7999877929688,
          604.5,
          607.1500244140625,
          609.0999755859375,
          611,
          612.5,
          617.5,
          614.2999877929688,
          602.0999755859375,
          603,
          599.5499877929688,
          589.5999755859375,
          587.5499877929688,
          571.5,
          570.7000122070312,
          593.2999877929688,
          598.5499877929688,
          597.1500244140625,
          611.3499755859375,
          611.2000122070312,
          610,
          604,
          601.9500122070312,
          597,
          600.0999755859375,
          590.5999755859375,
          592.25,
          590.0999755859375,
          593.6500244140625,
          600.5999755859375,
          586.0499877929688,
          587.5999755859375,
          587.5499877929688,
          590.7999877929688,
          592.9500122070312,
          593.0499877929688,
          567.4000244140625,
          532.25,
          525.2000122070312,
          537.8499755859375,
          499.3500061035156,
          502.5,
          519.1500244140625,
          536.5499877929688,
          541.0499877929688,
          545.5,
          542.7999877929688,
          546.5,
          533.2999877929688,
          530.75,
          536.7999877929688,
          538.5,
          527.75,
          522.1500244140625,
          522.4000244140625,
          512.5,
          511.3500061035156,
          517.5999755859375,
          519,
          521.0499877929688,
          523.0999755859375,
          532.5,
          541.75,
          559,
          556.4500122070312,
          558,
          545,
          528.4500122070312,
          520,
          515.5499877929688,
          514.2999877929688,
          520.0999755859375,
          515,
          516.4500122070312,
          520.0999755859375,
          511.5,
          503.45001220703125,
          501.54998779296875,
          503.8500061035156,
          506.29998779296875,
          519.3499755859375,
          522.0999755859375,
          519.0499877929688,
          521.6500244140625,
          524.4000244140625,
          527.1500244140625,
          526,
          527.1500244140625,
          528,
          540.5,
          538.25,
          536.6500244140625,
          539.7000122070312,
          543.5,
          555,
          556.4500122070312,
          561.0999755859375,
          565.5
         ],
         "open": [
          462,
          472.5,
          481.8999938964844,
          487.70001220703125,
          493.45001220703125,
          493.3500061035156,
          503,
          509.8999938964844,
          510,
          509,
          508,
          514,
          505,
          516,
          505.29998779296875,
          502.3999938964844,
          490,
          503.54998779296875,
          534,
          529,
          543.9500122070312,
          536.6500244140625,
          537.1500244140625,
          542.1500244140625,
          531.9000244140625,
          535.5,
          534.9500122070312,
          537.0999755859375,
          536.25,
          515,
          502,
          526.5,
          520,
          510.1000061035156,
          511.54998779296875,
          500.8999938964844,
          503,
          480,
          480,
          476.8999938964844,
          478,
          480,
          460.29998779296875,
          447.5,
          438,
          442,
          469.8999938964844,
          466.3999938964844,
          471,
          489,
          493,
          499,
          502,
          490.6000061035156,
          498.5,
          485,
          491.75,
          490.95001220703125,
          500,
          499.29998779296875,
          494.29998779296875,
          491,
          509.29998779296875,
          514.4000244140625,
          507,
          510.04998779296875,
          519.5,
          513.5,
          512.75,
          514.2999877929688,
          512,
          513.25,
          512,
          513.4000244140625,
          512.9000244140625,
          495,
          499,
          500,
          499.1499938964844,
          508.1000061035156,
          492.6499938964844,
          492,
          485,
          471,
          477.1000061035156,
          477,
          475.25,
          473,
          469.45001220703125,
          445,
          458.29998779296875,
          467.8999938964844,
          449.04998779296875,
          454.8500061035156,
          463.1000061035156,
          462.3999938964844,
          461,
          456.8500061035156,
          471.3999938964844,
          473,
          474,
          468,
          466.8999938964844,
          473.25,
          464.20001220703125,
          461.8500061035156,
          466.6000061035156,
          468.95001220703125,
          462,
          454,
          445,
          448.95001220703125,
          455.1499938964844,
          440,
          441.5,
          439.5,
          448.75,
          449,
          455.79998779296875,
          459.95001220703125,
          458.8999938964844,
          460,
          459,
          463.3500061035156,
          466.8500061035156,
          475.1499938964844,
          475.1499938964844,
          484,
          489,
          485,
          485,
          487.75,
          486.6000061035156,
          482.54998779296875,
          484.54998779296875,
          488,
          501,
          509.79998779296875,
          513.4500122070312,
          513.4000244140625,
          517.7000122070312,
          515.2999877929688,
          533.2000122070312,
          535.0499877929688,
          529.0499877929688,
          531.9000244140625,
          541.9000244140625,
          543.6500244140625,
          535.5499877929688,
          524,
          521.5499877929688,
          520,
          525.7000122070312,
          533.2999877929688,
          528.8499755859375,
          526.8499755859375,
          532,
          519,
          508.25,
          519,
          521.9500122070312,
          523.7999877929688,
          511.29998779296875,
          518.2000122070312,
          522.25,
          537,
          537,
          538,
          534.4000244140625,
          536,
          549.6500244140625,
          554.9000244140625,
          560,
          550,
          572.5499877929688,
          569.0999755859375,
          560.7000122070312,
          577.9500122070312,
          575,
          566.75,
          564.7999877929688,
          545.7999877929688,
          544.5499877929688,
          532.9000244140625,
          529,
          524,
          527.5999755859375,
          533,
          534.5999755859375,
          535.5,
          525.7000122070312,
          530.75,
          530,
          533,
          530.2000122070312,
          526.4000244140625,
          547.0999755859375,
          563,
          552,
          557.25,
          567,
          572.5,
          583.9500122070312,
          579.9500122070312,
          574.9500122070312,
          576.3499755859375,
          575.9000244140625,
          569,
          586,
          613,
          621,
          613.0999755859375,
          617.25,
          603.9500122070312,
          594.2999877929688,
          599.9500122070312,
          599.0999755859375,
          601,
          602.0999755859375,
          598.1500244140625,
          601.5499877929688,
          609.75,
          610.5499877929688,
          605.5999755859375,
          607.0999755859375,
          608.5,
          607.8499755859375,
          607.5,
          608.5,
          614.75,
          610.8499755859375,
          609.75,
          614.4000244140625,
          614.7999877929688,
          613.5,
          618.5,
          625.5499877929688,
          612,
          604,
          603,
          605.9000244140625,
          597,
          590,
          574,
          600.4000244140625,
          600.9000244140625,
          600,
          615.25,
          614.9500122070312,
          614.5,
          611.8499755859375,
          607,
          607.4000244140625,
          605,
          608.4500122070312,
          596.4500122070312,
          597.9000244140625,
          597.9000244140625,
          603,
          603,
          595.9000244140625,
          591,
          593.7999877929688,
          598.5,
          603.5,
          595.8499755859375,
          568,
          536,
          545,
          561.4000244140625,
          520.2000122070312,
          536,
          558.7999877929688,
          548,
          550,
          552,
          546.5,
          554,
          539.9500122070312,
          540,
          546.8499755859375,
          538.5,
          532,
          527.0999755859375,
          520.75,
          516.9500122070312,
          524.2000122070312,
          521.0999755859375,
          527.25,
          523.25,
          535.9500122070312,
          542,
          564.9000244140625,
          560,
          564.75,
          553.0999755859375,
          547,
          527.6500244140625,
          529.7999877929688,
          518.4000244140625,
          528.6500244140625,
          526.5999755859375,
          522,
          522.2000122070312,
          519.4000244140625,
          514.5,
          507,
          511.45001220703125,
          509,
          520.6500244140625,
          524.75,
          527,
          524,
          529.25,
          530.8499755859375,
          533.2000122070312,
          529.2999877929688,
          528,
          545.3499755859375,
          544,
          541.2000122070312,
          545,
          543.7999877929688,
          555,
          562,
          565,
          567.7999877929688
         ],
         "type": "candlestick",
         "x": [
          "2022-01-03T00:00:00",
          "2022-01-04T00:00:00",
          "2022-01-05T00:00:00",
          "2022-01-06T00:00:00",
          "2022-01-07T00:00:00",
          "2022-01-10T00:00:00",
          "2022-01-11T00:00:00",
          "2022-01-12T00:00:00",
          "2022-01-13T00:00:00",
          "2022-01-14T00:00:00",
          "2022-01-17T00:00:00",
          "2022-01-18T00:00:00",
          "2022-01-19T00:00:00",
          "2022-01-20T00:00:00",
          "2022-01-21T00:00:00",
          "2022-01-24T00:00:00",
          "2022-01-25T00:00:00",
          "2022-01-27T00:00:00",
          "2022-01-28T00:00:00",
          "2022-01-31T00:00:00",
          "2022-02-01T00:00:00",
          "2022-02-02T00:00:00",
          "2022-02-03T00:00:00",
          "2022-02-04T00:00:00",
          "2022-02-07T00:00:00",
          "2022-02-08T00:00:00",
          "2022-02-09T00:00:00",
          "2022-02-10T00:00:00",
          "2022-02-11T00:00:00",
          "2022-02-14T00:00:00",
          "2022-02-15T00:00:00",
          "2022-02-16T00:00:00",
          "2022-02-17T00:00:00",
          "2022-02-18T00:00:00",
          "2022-02-21T00:00:00",
          "2022-02-22T00:00:00",
          "2022-02-23T00:00:00",
          "2022-02-24T00:00:00",
          "2022-02-25T00:00:00",
          "2022-02-28T00:00:00",
          "2022-03-02T00:00:00",
          "2022-03-03T00:00:00",
          "2022-03-04T00:00:00",
          "2022-03-07T00:00:00",
          "2022-03-08T00:00:00",
          "2022-03-09T00:00:00",
          "2022-03-10T00:00:00",
          "2022-03-11T00:00:00",
          "2022-03-14T00:00:00",
          "2022-03-15T00:00:00",
          "2022-03-16T00:00:00",
          "2022-03-17T00:00:00",
          "2022-03-21T00:00:00",
          "2022-03-22T00:00:00",
          "2022-03-23T00:00:00",
          "2022-03-24T00:00:00",
          "2022-03-25T00:00:00",
          "2022-03-28T00:00:00",
          "2022-03-29T00:00:00",
          "2022-03-30T00:00:00",
          "2022-03-31T00:00:00",
          "2022-04-01T00:00:00",
          "2022-04-04T00:00:00",
          "2022-04-05T00:00:00",
          "2022-04-06T00:00:00",
          "2022-04-07T00:00:00",
          "2022-04-08T00:00:00",
          "2022-04-11T00:00:00",
          "2022-04-12T00:00:00",
          "2022-04-13T00:00:00",
          "2022-04-18T00:00:00",
          "2022-04-19T00:00:00",
          "2022-04-20T00:00:00",
          "2022-04-21T00:00:00",
          "2022-04-22T00:00:00",
          "2022-04-25T00:00:00",
          "2022-04-26T00:00:00",
          "2022-04-27T00:00:00",
          "2022-04-28T00:00:00",
          "2022-04-29T00:00:00",
          "2022-05-02T00:00:00",
          "2022-05-04T00:00:00",
          "2022-05-05T00:00:00",
          "2022-05-06T00:00:00",
          "2022-05-09T00:00:00",
          "2022-05-10T00:00:00",
          "2022-05-11T00:00:00",
          "2022-05-12T00:00:00",
          "2022-05-13T00:00:00",
          "2022-05-16T00:00:00",
          "2022-05-17T00:00:00",
          "2022-05-18T00:00:00",
          "2022-05-19T00:00:00",
          "2022-05-20T00:00:00",
          "2022-05-23T00:00:00",
          "2022-05-24T00:00:00",
          "2022-05-25T00:00:00",
          "2022-05-26T00:00:00",
          "2022-05-27T00:00:00",
          "2022-05-30T00:00:00",
          "2022-05-31T00:00:00",
          "2022-06-01T00:00:00",
          "2022-06-02T00:00:00",
          "2022-06-03T00:00:00",
          "2022-06-06T00:00:00",
          "2022-06-07T00:00:00",
          "2022-06-08T00:00:00",
          "2022-06-09T00:00:00",
          "2022-06-10T00:00:00",
          "2022-06-13T00:00:00",
          "2022-06-14T00:00:00",
          "2022-06-15T00:00:00",
          "2022-06-16T00:00:00",
          "2022-06-17T00:00:00",
          "2022-06-20T00:00:00",
          "2022-06-21T00:00:00",
          "2022-06-22T00:00:00",
          "2022-06-23T00:00:00",
          "2022-06-24T00:00:00",
          "2022-06-27T00:00:00",
          "2022-06-28T00:00:00",
          "2022-06-29T00:00:00",
          "2022-06-30T00:00:00",
          "2022-07-01T00:00:00",
          "2022-07-04T00:00:00",
          "2022-07-05T00:00:00",
          "2022-07-06T00:00:00",
          "2022-07-07T00:00:00",
          "2022-07-08T00:00:00",
          "2022-07-11T00:00:00",
          "2022-07-12T00:00:00",
          "2022-07-13T00:00:00",
          "2022-07-14T00:00:00",
          "2022-07-15T00:00:00",
          "2022-07-18T00:00:00",
          "2022-07-19T00:00:00",
          "2022-07-20T00:00:00",
          "2022-07-21T00:00:00",
          "2022-07-22T00:00:00",
          "2022-07-25T00:00:00",
          "2022-07-26T00:00:00",
          "2022-07-27T00:00:00",
          "2022-07-28T00:00:00",
          "2022-07-29T00:00:00",
          "2022-08-01T00:00:00",
          "2022-08-02T00:00:00",
          "2022-08-03T00:00:00",
          "2022-08-04T00:00:00",
          "2022-08-05T00:00:00",
          "2022-08-08T00:00:00",
          "2022-08-10T00:00:00",
          "2022-08-11T00:00:00",
          "2022-08-12T00:00:00",
          "2022-08-16T00:00:00",
          "2022-08-17T00:00:00",
          "2022-08-18T00:00:00",
          "2022-08-19T00:00:00",
          "2022-08-22T00:00:00",
          "2022-08-23T00:00:00",
          "2022-08-24T00:00:00",
          "2022-08-25T00:00:00",
          "2022-08-26T00:00:00",
          "2022-08-29T00:00:00",
          "2022-08-30T00:00:00",
          "2022-09-01T00:00:00",
          "2022-09-02T00:00:00",
          "2022-09-05T00:00:00",
          "2022-09-06T00:00:00",
          "2022-09-07T00:00:00",
          "2022-09-08T00:00:00",
          "2022-09-09T00:00:00",
          "2022-09-12T00:00:00",
          "2022-09-13T00:00:00",
          "2022-09-14T00:00:00",
          "2022-09-15T00:00:00",
          "2022-09-16T00:00:00",
          "2022-09-19T00:00:00",
          "2022-09-20T00:00:00",
          "2022-09-21T00:00:00",
          "2022-09-22T00:00:00",
          "2022-09-23T00:00:00",
          "2022-09-26T00:00:00",
          "2022-09-27T00:00:00",
          "2022-09-28T00:00:00",
          "2022-09-29T00:00:00",
          "2022-09-30T00:00:00",
          "2022-10-03T00:00:00",
          "2022-10-04T00:00:00",
          "2022-10-06T00:00:00",
          "2022-10-07T00:00:00",
          "2022-10-10T00:00:00",
          "2022-10-11T00:00:00",
          "2022-10-12T00:00:00",
          "2022-10-13T00:00:00",
          "2022-10-14T00:00:00",
          "2022-10-17T00:00:00",
          "2022-10-18T00:00:00",
          "2022-10-19T00:00:00",
          "2022-10-20T00:00:00",
          "2022-10-21T00:00:00",
          "2022-10-24T00:00:00",
          "2022-10-25T00:00:00",
          "2022-10-27T00:00:00",
          "2022-10-28T00:00:00",
          "2022-10-31T00:00:00",
          "2022-11-01T00:00:00",
          "2022-11-02T00:00:00",
          "2022-11-03T00:00:00",
          "2022-11-04T00:00:00",
          "2022-11-07T00:00:00",
          "2022-11-09T00:00:00",
          "2022-11-10T00:00:00",
          "2022-11-11T00:00:00",
          "2022-11-14T00:00:00",
          "2022-11-15T00:00:00",
          "2022-11-16T00:00:00",
          "2022-11-17T00:00:00",
          "2022-11-18T00:00:00",
          "2022-11-21T00:00:00",
          "2022-11-22T00:00:00",
          "2022-11-23T00:00:00",
          "2022-11-24T00:00:00",
          "2022-11-25T00:00:00",
          "2022-11-28T00:00:00",
          "2022-11-29T00:00:00",
          "2022-11-30T00:00:00",
          "2022-12-01T00:00:00",
          "2022-12-02T00:00:00",
          "2022-12-05T00:00:00",
          "2022-12-06T00:00:00",
          "2022-12-07T00:00:00",
          "2022-12-08T00:00:00",
          "2022-12-09T00:00:00",
          "2022-12-12T00:00:00",
          "2022-12-13T00:00:00",
          "2022-12-14T00:00:00",
          "2022-12-15T00:00:00",
          "2022-12-16T00:00:00",
          "2022-12-19T00:00:00",
          "2022-12-20T00:00:00",
          "2022-12-21T00:00:00",
          "2022-12-22T00:00:00",
          "2022-12-23T00:00:00",
          "2022-12-26T00:00:00",
          "2022-12-27T00:00:00",
          "2022-12-28T00:00:00",
          "2022-12-29T00:00:00",
          "2022-12-30T00:00:00",
          "2023-01-02T00:00:00",
          "2023-01-03T00:00:00",
          "2023-01-04T00:00:00",
          "2023-01-05T00:00:00",
          "2023-01-06T00:00:00",
          "2023-01-09T00:00:00",
          "2023-01-10T00:00:00",
          "2023-01-11T00:00:00",
          "2023-01-12T00:00:00",
          "2023-01-13T00:00:00",
          "2023-01-16T00:00:00",
          "2023-01-17T00:00:00",
          "2023-01-18T00:00:00",
          "2023-01-19T00:00:00",
          "2023-01-20T00:00:00",
          "2023-01-23T00:00:00",
          "2023-01-24T00:00:00",
          "2023-01-25T00:00:00",
          "2023-01-27T00:00:00",
          "2023-01-30T00:00:00",
          "2023-01-31T00:00:00",
          "2023-02-01T00:00:00",
          "2023-02-02T00:00:00",
          "2023-02-03T00:00:00",
          "2023-02-06T00:00:00",
          "2023-02-07T00:00:00",
          "2023-02-08T00:00:00",
          "2023-02-09T00:00:00",
          "2023-02-10T00:00:00",
          "2023-02-13T00:00:00",
          "2023-02-14T00:00:00",
          "2023-02-15T00:00:00",
          "2023-02-16T00:00:00",
          "2023-02-17T00:00:00",
          "2023-02-20T00:00:00",
          "2023-02-21T00:00:00",
          "2023-02-22T00:00:00",
          "2023-02-23T00:00:00",
          "2023-02-24T00:00:00",
          "2023-02-27T00:00:00",
          "2023-02-28T00:00:00",
          "2023-03-01T00:00:00",
          "2023-03-02T00:00:00",
          "2023-03-03T00:00:00",
          "2023-03-06T00:00:00",
          "2023-03-08T00:00:00",
          "2023-03-09T00:00:00",
          "2023-03-10T00:00:00",
          "2023-03-13T00:00:00",
          "2023-03-14T00:00:00",
          "2023-03-15T00:00:00",
          "2023-03-16T00:00:00",
          "2023-03-17T00:00:00",
          "2023-03-20T00:00:00",
          "2023-03-21T00:00:00",
          "2023-03-22T00:00:00",
          "2023-03-23T00:00:00",
          "2023-03-24T00:00:00",
          "2023-03-27T00:00:00",
          "2023-03-28T00:00:00",
          "2023-03-29T00:00:00",
          "2023-03-31T00:00:00",
          "2023-04-03T00:00:00",
          "2023-04-05T00:00:00",
          "2023-04-06T00:00:00",
          "2023-04-10T00:00:00",
          "2023-04-11T00:00:00",
          "2023-04-12T00:00:00",
          "2023-04-13T00:00:00",
          "2023-04-17T00:00:00",
          "2023-04-18T00:00:00",
          "2023-04-19T00:00:00",
          "2023-04-20T00:00:00",
          "2023-04-21T00:00:00",
          "2023-04-24T00:00:00",
          "2023-04-25T00:00:00",
          "2023-04-26T00:00:00",
          "2023-04-27T00:00:00",
          "2023-04-28T00:00:00"
         ]
        }
       ],
       "layout": {
        "shapes": [
         {
          "fillcolor": "LightSalmon",
          "layer": "below",
          "line": {
           "width": 0
          },
          "opacity": 0.5,
          "type": "rect",
          "x0": "2022-05-06T00:00:00",
          "x1": "2022-05-09T00:00:00",
          "xref": "x",
          "y0": 0,
          "y1": 1,
          "yref": "y domain"
         },
         {
          "fillcolor": "LightSalmon",
          "layer": "below",
          "line": {
           "width": 0
          },
          "opacity": 0.5,
          "type": "rect",
          "x0": "2022-06-08T00:00:00",
          "x1": "2022-06-09T00:00:00",
          "xref": "x",
          "y0": 0,
          "y1": 1,
          "yref": "y domain"
         },
         {
          "fillcolor": "LightSalmon",
          "layer": "below",
          "line": {
           "width": 0
          },
          "opacity": 0.5,
          "type": "rect",
          "x0": "2022-06-21T00:00:00",
          "x1": "2022-06-22T00:00:00",
          "xref": "x",
          "y0": 0,
          "y1": 1,
          "yref": "y domain"
         },
         {
          "fillcolor": "LightSalmon",
          "layer": "below",
          "line": {
           "width": 0
          },
          "opacity": 0.5,
          "type": "rect",
          "x0": "2022-06-28T00:00:00",
          "x1": "2022-06-29T00:00:00",
          "xref": "x",
          "y0": 0,
          "y1": 1,
          "yref": "y domain"
         },
         {
          "fillcolor": "LightSalmon",
          "layer": "below",
          "line": {
           "width": 0
          },
          "opacity": 0.5,
          "type": "rect",
          "x0": "2022-07-25T00:00:00",
          "x1": "2022-07-26T00:00:00",
          "xref": "x",
          "y0": 0,
          "y1": 1,
          "yref": "y domain"
         },
         {
          "fillcolor": "LightSalmon",
          "layer": "below",
          "line": {
           "width": 0
          },
          "opacity": 0.5,
          "type": "rect",
          "x0": "2022-08-02T00:00:00",
          "x1": "2022-08-03T00:00:00",
          "xref": "x",
          "y0": 0,
          "y1": 1,
          "yref": "y domain"
         },
         {
          "fillcolor": "LightSalmon",
          "layer": "below",
          "line": {
           "width": 0
          },
          "opacity": 0.5,
          "type": "rect",
          "x0": "2022-09-05T00:00:00",
          "x1": "2022-09-06T00:00:00",
          "xref": "x",
          "y0": 0,
          "y1": 1,
          "yref": "y domain"
         },
         {
          "fillcolor": "LightSalmon",
          "layer": "below",
          "line": {
           "width": 0
          },
          "opacity": 0.5,
          "type": "rect",
          "x0": "2022-11-15T00:00:00",
          "x1": "2022-11-16T00:00:00",
          "xref": "x",
          "y0": 0,
          "y1": 1,
          "yref": "y domain"
         },
         {
          "fillcolor": "LightSalmon",
          "layer": "below",
          "line": {
           "width": 0
          },
          "opacity": 0.5,
          "type": "rect",
          "x0": "2022-12-05T00:00:00",
          "x1": "2022-12-06T00:00:00",
          "xref": "x",
          "y0": 0,
          "y1": 1,
          "yref": "y domain"
         },
         {
          "fillcolor": "LightSalmon",
          "layer": "below",
          "line": {
           "width": 0
          },
          "opacity": 0.5,
          "type": "rect",
          "x0": "2023-02-27T00:00:00",
          "x1": "2023-02-28T00:00:00",
          "xref": "x",
          "y0": 0,
          "y1": 1,
          "yref": "y domain"
         },
         {
          "fillcolor": "LightSalmon",
          "layer": "below",
          "line": {
           "width": 0
          },
          "opacity": 0.5,
          "type": "rect",
          "x0": "2023-03-01T00:00:00",
          "x1": "2023-03-02T00:00:00",
          "xref": "x",
          "y0": 0,
          "y1": 1,
          "yref": "y domain"
         },
         {
          "fillcolor": "LightSalmon",
          "layer": "below",
          "line": {
           "width": 0
          },
          "opacity": 0.5,
          "type": "rect",
          "x0": "2023-04-26T00:00:00",
          "x1": "2023-04-27T00:00:00",
          "xref": "x",
          "y0": 0,
          "y1": 1,
          "yref": "y domain"
         }
        ],
        "template": {
         "data": {
          "bar": [
           {
            "error_x": {
             "color": "#2a3f5f"
            },
            "error_y": {
             "color": "#2a3f5f"
            },
            "marker": {
             "line": {
              "color": "#E5ECF6",
              "width": 0.5
             },
             "pattern": {
              "fillmode": "overlay",
              "size": 10,
              "solidity": 0.2
             }
            },
            "type": "bar"
           }
          ],
          "barpolar": [
           {
            "marker": {
             "line": {
              "color": "#E5ECF6",
              "width": 0.5
             },
             "pattern": {
              "fillmode": "overlay",
              "size": 10,
              "solidity": 0.2
             }
            },
            "type": "barpolar"
           }
          ],
          "carpet": [
           {
            "aaxis": {
             "endlinecolor": "#2a3f5f",
             "gridcolor": "white",
             "linecolor": "white",
             "minorgridcolor": "white",
             "startlinecolor": "#2a3f5f"
            },
            "baxis": {
             "endlinecolor": "#2a3f5f",
             "gridcolor": "white",
             "linecolor": "white",
             "minorgridcolor": "white",
             "startlinecolor": "#2a3f5f"
            },
            "type": "carpet"
           }
          ],
          "choropleth": [
           {
            "colorbar": {
             "outlinewidth": 0,
             "ticks": ""
            },
            "type": "choropleth"
           }
          ],
          "contour": [
           {
            "colorbar": {
             "outlinewidth": 0,
             "ticks": ""
            },
            "colorscale": [
             [
              0,
              "#0d0887"
             ],
             [
              0.1111111111111111,
              "#46039f"
             ],
             [
              0.2222222222222222,
              "#7201a8"
             ],
             [
              0.3333333333333333,
              "#9c179e"
             ],
             [
              0.4444444444444444,
              "#bd3786"
             ],
             [
              0.5555555555555556,
              "#d8576b"
             ],
             [
              0.6666666666666666,
              "#ed7953"
             ],
             [
              0.7777777777777778,
              "#fb9f3a"
             ],
             [
              0.8888888888888888,
              "#fdca26"
             ],
             [
              1,
              "#f0f921"
             ]
            ],
            "type": "contour"
           }
          ],
          "contourcarpet": [
           {
            "colorbar": {
             "outlinewidth": 0,
             "ticks": ""
            },
            "type": "contourcarpet"
           }
          ],
          "heatmap": [
           {
            "colorbar": {
             "outlinewidth": 0,
             "ticks": ""
            },
            "colorscale": [
             [
              0,
              "#0d0887"
             ],
             [
              0.1111111111111111,
              "#46039f"
             ],
             [
              0.2222222222222222,
              "#7201a8"
             ],
             [
              0.3333333333333333,
              "#9c179e"
             ],
             [
              0.4444444444444444,
              "#bd3786"
             ],
             [
              0.5555555555555556,
              "#d8576b"
             ],
             [
              0.6666666666666666,
              "#ed7953"
             ],
             [
              0.7777777777777778,
              "#fb9f3a"
             ],
             [
              0.8888888888888888,
              "#fdca26"
             ],
             [
              1,
              "#f0f921"
             ]
            ],
            "type": "heatmap"
           }
          ],
          "heatmapgl": [
           {
            "colorbar": {
             "outlinewidth": 0,
             "ticks": ""
            },
            "colorscale": [
             [
              0,
              "#0d0887"
             ],
             [
              0.1111111111111111,
              "#46039f"
             ],
             [
              0.2222222222222222,
              "#7201a8"
             ],
             [
              0.3333333333333333,
              "#9c179e"
             ],
             [
              0.4444444444444444,
              "#bd3786"
             ],
             [
              0.5555555555555556,
              "#d8576b"
             ],
             [
              0.6666666666666666,
              "#ed7953"
             ],
             [
              0.7777777777777778,
              "#fb9f3a"
             ],
             [
              0.8888888888888888,
              "#fdca26"
             ],
             [
              1,
              "#f0f921"
             ]
            ],
            "type": "heatmapgl"
           }
          ],
          "histogram": [
           {
            "marker": {
             "pattern": {
              "fillmode": "overlay",
              "size": 10,
              "solidity": 0.2
             }
            },
            "type": "histogram"
           }
          ],
          "histogram2d": [
           {
            "colorbar": {
             "outlinewidth": 0,
             "ticks": ""
            },
            "colorscale": [
             [
              0,
              "#0d0887"
             ],
             [
              0.1111111111111111,
              "#46039f"
             ],
             [
              0.2222222222222222,
              "#7201a8"
             ],
             [
              0.3333333333333333,
              "#9c179e"
             ],
             [
              0.4444444444444444,
              "#bd3786"
             ],
             [
              0.5555555555555556,
              "#d8576b"
             ],
             [
              0.6666666666666666,
              "#ed7953"
             ],
             [
              0.7777777777777778,
              "#fb9f3a"
             ],
             [
              0.8888888888888888,
              "#fdca26"
             ],
             [
              1,
              "#f0f921"
             ]
            ],
            "type": "histogram2d"
           }
          ],
          "histogram2dcontour": [
           {
            "colorbar": {
             "outlinewidth": 0,
             "ticks": ""
            },
            "colorscale": [
             [
              0,
              "#0d0887"
             ],
             [
              0.1111111111111111,
              "#46039f"
             ],
             [
              0.2222222222222222,
              "#7201a8"
             ],
             [
              0.3333333333333333,
              "#9c179e"
             ],
             [
              0.4444444444444444,
              "#bd3786"
             ],
             [
              0.5555555555555556,
              "#d8576b"
             ],
             [
              0.6666666666666666,
              "#ed7953"
             ],
             [
              0.7777777777777778,
              "#fb9f3a"
             ],
             [
              0.8888888888888888,
              "#fdca26"
             ],
             [
              1,
              "#f0f921"
             ]
            ],
            "type": "histogram2dcontour"
           }
          ],
          "mesh3d": [
           {
            "colorbar": {
             "outlinewidth": 0,
             "ticks": ""
            },
            "type": "mesh3d"
           }
          ],
          "parcoords": [
           {
            "line": {
             "colorbar": {
              "outlinewidth": 0,
              "ticks": ""
             }
            },
            "type": "parcoords"
           }
          ],
          "pie": [
           {
            "automargin": true,
            "type": "pie"
           }
          ],
          "scatter": [
           {
            "fillpattern": {
             "fillmode": "overlay",
             "size": 10,
             "solidity": 0.2
            },
            "type": "scatter"
           }
          ],
          "scatter3d": [
           {
            "line": {
             "colorbar": {
              "outlinewidth": 0,
              "ticks": ""
             }
            },
            "marker": {
             "colorbar": {
              "outlinewidth": 0,
              "ticks": ""
             }
            },
            "type": "scatter3d"
           }
          ],
          "scattercarpet": [
           {
            "marker": {
             "colorbar": {
              "outlinewidth": 0,
              "ticks": ""
             }
            },
            "type": "scattercarpet"
           }
          ],
          "scattergeo": [
           {
            "marker": {
             "colorbar": {
              "outlinewidth": 0,
              "ticks": ""
             }
            },
            "type": "scattergeo"
           }
          ],
          "scattergl": [
           {
            "marker": {
             "colorbar": {
              "outlinewidth": 0,
              "ticks": ""
             }
            },
            "type": "scattergl"
           }
          ],
          "scattermapbox": [
           {
            "marker": {
             "colorbar": {
              "outlinewidth": 0,
              "ticks": ""
             }
            },
            "type": "scattermapbox"
           }
          ],
          "scatterpolar": [
           {
            "marker": {
             "colorbar": {
              "outlinewidth": 0,
              "ticks": ""
             }
            },
            "type": "scatterpolar"
           }
          ],
          "scatterpolargl": [
           {
            "marker": {
             "colorbar": {
              "outlinewidth": 0,
              "ticks": ""
             }
            },
            "type": "scatterpolargl"
           }
          ],
          "scatterternary": [
           {
            "marker": {
             "colorbar": {
              "outlinewidth": 0,
              "ticks": ""
             }
            },
            "type": "scatterternary"
           }
          ],
          "surface": [
           {
            "colorbar": {
             "outlinewidth": 0,
             "ticks": ""
            },
            "colorscale": [
             [
              0,
              "#0d0887"
             ],
             [
              0.1111111111111111,
              "#46039f"
             ],
             [
              0.2222222222222222,
              "#7201a8"
             ],
             [
              0.3333333333333333,
              "#9c179e"
             ],
             [
              0.4444444444444444,
              "#bd3786"
             ],
             [
              0.5555555555555556,
              "#d8576b"
             ],
             [
              0.6666666666666666,
              "#ed7953"
             ],
             [
              0.7777777777777778,
              "#fb9f3a"
             ],
             [
              0.8888888888888888,
              "#fdca26"
             ],
             [
              1,
              "#f0f921"
             ]
            ],
            "type": "surface"
           }
          ],
          "table": [
           {
            "cells": {
             "fill": {
              "color": "#EBF0F8"
             },
             "line": {
              "color": "white"
             }
            },
            "header": {
             "fill": {
              "color": "#C8D4E3"
             },
             "line": {
              "color": "white"
             }
            },
            "type": "table"
           }
          ]
         },
         "layout": {
          "annotationdefaults": {
           "arrowcolor": "#2a3f5f",
           "arrowhead": 0,
           "arrowwidth": 1
          },
          "autotypenumbers": "strict",
          "coloraxis": {
           "colorbar": {
            "outlinewidth": 0,
            "ticks": ""
           }
          },
          "colorscale": {
           "diverging": [
            [
             0,
             "#8e0152"
            ],
            [
             0.1,
             "#c51b7d"
            ],
            [
             0.2,
             "#de77ae"
            ],
            [
             0.3,
             "#f1b6da"
            ],
            [
             0.4,
             "#fde0ef"
            ],
            [
             0.5,
             "#f7f7f7"
            ],
            [
             0.6,
             "#e6f5d0"
            ],
            [
             0.7,
             "#b8e186"
            ],
            [
             0.8,
             "#7fbc41"
            ],
            [
             0.9,
             "#4d9221"
            ],
            [
             1,
             "#276419"
            ]
           ],
           "sequential": [
            [
             0,
             "#0d0887"
            ],
            [
             0.1111111111111111,
             "#46039f"
            ],
            [
             0.2222222222222222,
             "#7201a8"
            ],
            [
             0.3333333333333333,
             "#9c179e"
            ],
            [
             0.4444444444444444,
             "#bd3786"
            ],
            [
             0.5555555555555556,
             "#d8576b"
            ],
            [
             0.6666666666666666,
             "#ed7953"
            ],
            [
             0.7777777777777778,
             "#fb9f3a"
            ],
            [
             0.8888888888888888,
             "#fdca26"
            ],
            [
             1,
             "#f0f921"
            ]
           ],
           "sequentialminus": [
            [
             0,
             "#0d0887"
            ],
            [
             0.1111111111111111,
             "#46039f"
            ],
            [
             0.2222222222222222,
             "#7201a8"
            ],
            [
             0.3333333333333333,
             "#9c179e"
            ],
            [
             0.4444444444444444,
             "#bd3786"
            ],
            [
             0.5555555555555556,
             "#d8576b"
            ],
            [
             0.6666666666666666,
             "#ed7953"
            ],
            [
             0.7777777777777778,
             "#fb9f3a"
            ],
            [
             0.8888888888888888,
             "#fdca26"
            ],
            [
             1,
             "#f0f921"
            ]
           ]
          },
          "colorway": [
           "#636efa",
           "#EF553B",
           "#00cc96",
           "#ab63fa",
           "#FFA15A",
           "#19d3f3",
           "#FF6692",
           "#B6E880",
           "#FF97FF",
           "#FECB52"
          ],
          "font": {
           "color": "#2a3f5f"
          },
          "geo": {
           "bgcolor": "white",
           "lakecolor": "white",
           "landcolor": "#E5ECF6",
           "showlakes": true,
           "showland": true,
           "subunitcolor": "white"
          },
          "hoverlabel": {
           "align": "left"
          },
          "hovermode": "closest",
          "mapbox": {
           "style": "light"
          },
          "paper_bgcolor": "white",
          "plot_bgcolor": "#E5ECF6",
          "polar": {
           "angularaxis": {
            "gridcolor": "white",
            "linecolor": "white",
            "ticks": ""
           },
           "bgcolor": "#E5ECF6",
           "radialaxis": {
            "gridcolor": "white",
            "linecolor": "white",
            "ticks": ""
           }
          },
          "scene": {
           "xaxis": {
            "backgroundcolor": "#E5ECF6",
            "gridcolor": "white",
            "gridwidth": 2,
            "linecolor": "white",
            "showbackground": true,
            "ticks": "",
            "zerolinecolor": "white"
           },
           "yaxis": {
            "backgroundcolor": "#E5ECF6",
            "gridcolor": "white",
            "gridwidth": 2,
            "linecolor": "white",
            "showbackground": true,
            "ticks": "",
            "zerolinecolor": "white"
           },
           "zaxis": {
            "backgroundcolor": "#E5ECF6",
            "gridcolor": "white",
            "gridwidth": 2,
            "linecolor": "white",
            "showbackground": true,
            "ticks": "",
            "zerolinecolor": "white"
           }
          },
          "shapedefaults": {
           "line": {
            "color": "#2a3f5f"
           }
          },
          "ternary": {
           "aaxis": {
            "gridcolor": "white",
            "linecolor": "white",
            "ticks": ""
           },
           "baxis": {
            "gridcolor": "white",
            "linecolor": "white",
            "ticks": ""
           },
           "bgcolor": "#E5ECF6",
           "caxis": {
            "gridcolor": "white",
            "linecolor": "white",
            "ticks": ""
           }
          },
          "title": {
           "x": 0.05
          },
          "xaxis": {
           "automargin": true,
           "gridcolor": "white",
           "linecolor": "white",
           "ticks": "",
           "title": {
            "standoff": 15
           },
           "zerolinecolor": "white",
           "zerolinewidth": 2
          },
          "yaxis": {
           "automargin": true,
           "gridcolor": "white",
           "linecolor": "white",
           "ticks": "",
           "title": {
            "standoff": 15
           },
           "zerolinecolor": "white",
           "zerolinewidth": 2
          }
         }
        },
        "title": {
         "text": "Bearish harami pattern"
        },
        "xaxis": {
         "title": {
          "text": "Date"
         }
        },
        "yaxis": {
         "title": {
          "text": "Price"
         }
        }
       }
      }
     },
     "metadata": {},
     "output_type": "display_data"
    }
   ],
   "source": [
    "display_pattern(df, bearish_harami, \"Bearish harami\")"
   ]
  },
  {
   "cell_type": "code",
   "execution_count": 18,
   "metadata": {},
   "outputs": [
    {
     "name": "stdout",
     "output_type": "stream",
     "text": [
      "Bullish harami day:  2022-02-02 00:00:00\n",
      "Bullish harami day:  2022-02-07 00:00:00\n",
      "Bullish harami day:  2022-02-09 00:00:00\n",
      "Bullish harami day:  2022-05-11 00:00:00\n",
      "Bullish harami day:  2022-05-16 00:00:00\n",
      "Bullish harami day:  2022-08-01 00:00:00\n",
      "Bullish harami day:  2022-11-15 00:00:00\n",
      "Bullish harami day:  2022-11-22 00:00:00\n",
      "Bullish harami day:  2022-12-01 00:00:00\n",
      "Bullish harami day:  2022-12-19 00:00:00\n",
      "Bullish harami day:  2023-01-11 00:00:00\n",
      "Bullish harami day:  2023-02-14 00:00:00\n",
      "Bullish harami day:  2023-03-16 00:00:00\n",
      "Bullish harami day:  2023-03-27 00:00:00\n",
      "Bullish harami day:  2023-04-13 00:00:00\n"
     ]
    },
    {
     "data": {
      "application/vnd.plotly.v1+json": {
       "config": {
        "plotlyServerURL": "https://plot.ly"
       },
       "data": [
        {
         "close": [
          470.79998779296875,
          483.5,
          492.3999938964844,
          491.70001220703125,
          491.25,
          503.6499938964844,
          505.95001220703125,
          510.25,
          511.3500061035156,
          508.3500061035156,
          514,
          506.79998779296875,
          515.7999877929688,
          511.3999938964844,
          502.70001220703125,
          494.1499938964844,
          514.6500244140625,
          528.9500122070312,
          523.4500122070312,
          538.2999877929688,
          532.2999877929688,
          539.7999877929688,
          540.0999755859375,
          530.2999877929688,
          533.25,
          531.3499755859375,
          535.25,
          540.5499877929688,
          529.5999755859375,
          501.3999938964844,
          524.7999877929688,
          516.7000122070312,
          512.9500122070312,
          515.2999877929688,
          511.8500061035156,
          498.3999938964844,
          498.70001220703125,
          472.6499938964844,
          482.95001220703125,
          483.20001220703125,
          474.25,
          467.3999938964844,
          461.95001220703125,
          440.29998779296875,
          440.29998779296875,
          451.70001220703125,
          468.70001220703125,
          470.3500061035156,
          485.1499938964844,
          485.8500061035156,
          492.75,
          501.8999938964844,
          490.6000061035156,
          493.70001220703125,
          490.6499938964844,
          487.1000061035156,
          490.70001220703125,
          497.5,
          495,
          494.29998779296875,
          493.54998779296875,
          508.20001220703125,
          512.4000244140625,
          509.3999938964844,
          513.9500122070312,
          514.9500122070312,
          516.0999755859375,
          514.9000244140625,
          512.8499755859375,
          517.7000122070312,
          509.5,
          511.79998779296875,
          509.29998779296875,
          516.2999877929688,
          500.6000061035156,
          494.75,
          505.5,
          497.25,
          507.5,
          496.29998779296875,
          491,
          479.6499938964844,
          480,
          483.95001220703125,
          475.8999938964844,
          475.20001220703125,
          476.54998779296875,
          462.6499938964844,
          444.6499938964844,
          455,
          467.29998779296875,
          458,
          447.5,
          462.3999938964844,
          460.8999938964844,
          462.04998779296875,
          454.1000061035156,
          468.8999938964844,
          468.95001220703125,
          474.6000061035156,
          468.1000061035156,
          468.29998779296875,
          469.8500061035156,
          464.5,
          463.70001220703125,
          463.3999938964844,
          471.29998779296875,
          466.95001220703125,
          461.8500061035156,
          445.8500061035156,
          448.1000061035156,
          451.3500061035156,
          441.6000061035156,
          441,
          434.70001220703125,
          450.75,
          447.6499938964844,
          451.3999938964844,
          454.25,
          461.20001220703125,
          464.25,
          459.1000061035156,
          465.8999938964844,
          466.8500061035156,
          473.45001220703125,
          472.1499938964844,
          479.95001220703125,
          486.75,
          488.54998779296875,
          488.20001220703125,
          484.95001220703125,
          486.5,
          479.3500061035156,
          479.1000061035156,
          490.29998779296875,
          497.95001220703125,
          508.6000061035156,
          512.0499877929688,
          513.7000122070312,
          517.7999877929688,
          514.2000122070312,
          528.2000122070312,
          532.4500122070312,
          528.3499755859375,
          533.75,
          542.0999755859375,
          540.8499755859375,
          533.25,
          531.0499877929688,
          520.4000244140625,
          514.7000122070312,
          524.75,
          530.7000122070312,
          525.9500122070312,
          528.1500244140625,
          532.3499755859375,
          520.3499755859375,
          511.29998779296875,
          521.9000244140625,
          519.2999877929688,
          520.4000244140625,
          523.7999877929688,
          514.8499755859375,
          531.25,
          533.2999877929688,
          536.7000122070312,
          538.9000244140625,
          537.7999877929688,
          532.8499755859375,
          544.6500244140625,
          553.3499755859375,
          554.9000244140625,
          558,
          571.75,
          572.1500244140625,
          561.7999877929688,
          572.25,
          574.0499877929688,
          569.7000122070312,
          567.2999877929688,
          550.5999755859375,
          543.2999877929688,
          536.5,
          524.8499755859375,
          521.75,
          530.5999755859375,
          519.75,
          532.7000122070312,
          537.2999877929688,
          530.2000122070312,
          530.75,
          527.4000244140625,
          533.7999877929688,
          521.4500122070312,
          527.2000122070312,
          543.6500244140625,
          562.4500122070312,
          553.4000244140625,
          555.4000244140625,
          560.8499755859375,
          570.5,
          578.5499877929688,
          579.6500244140625,
          570.75,
          573.7999877929688,
          576.9000244140625,
          573.8499755859375,
          584.9000244140625,
          593.9500122070312,
          614.1500244140625,
          615.5499877929688,
          605.75,
          601.2999877929688,
          592.5499877929688,
          600.8499755859375,
          599.75,
          599.0499877929688,
          602.7000122070312,
          598.0999755859375,
          599.0999755859375,
          607.6500244140625,
          609.3499755859375,
          607.4000244140625,
          608.5999755859375,
          608.5499877929688,
          602.4500122070312,
          608.0999755859375,
          607.5499877929688,
          617.2999877929688,
          608.9500122070312,
          607.0499877929688,
          611.6500244140625,
          616.5,
          613.0499877929688,
          616.75,
          625.5,
          615.9500122070312,
          603.3499755859375,
          604.4500122070312,
          604.4500122070312,
          593.4000244140625,
          593.4000244140625,
          574,
          597.0999755859375,
          601.9000244140625,
          601.0499877929688,
          611.7999877929688,
          613.7000122070312,
          612.2000122070312,
          612.4000244140625,
          605.2000122070312,
          605.0999755859375,
          600.6500244140625,
          607.7000122070312,
          595.1500244140625,
          596.7000122070312,
          594.9000244140625,
          600.0999755859375,
          603,
          592.9500122070312,
          591.4500122070312,
          589.8499755859375,
          592.2000122070312,
          600.4500122070312,
          594.3499755859375,
          568.7000122070312,
          539.9500122070312,
          538.2000122070312,
          553.5,
          527.3499755859375,
          528.0999755859375,
          544.2000122070312,
          545.4000244140625,
          547.0999755859375,
          549.75,
          550.7999877929688,
          553.0499877929688,
          537.5,
          540.8499755859375,
          542.25,
          540.0999755859375,
          531,
          525.1500244140625,
          523.4500122070312,
          516.3499755859375,
          521,
          521.0499877929688,
          527.7000122070312,
          522.7999877929688,
          536.7000122070312,
          533.75,
          561.2000122070312,
          561.7000122070312,
          564.7999877929688,
          558.9000244140625,
          547.3499755859375,
          530,
          525.4000244140625,
          517.5499877929688,
          524.5,
          529.7999877929688,
          519.2000122070312,
          521.8499755859375,
          521.5499877929688,
          512.75,
          505.3500061035156,
          510.1499938964844,
          508.1000061035156,
          516.5,
          523.75,
          526.75,
          523,
          527.6500244140625,
          526.2999877929688,
          532.0999755859375,
          528.2000122070312,
          532.9500122070312,
          544,
          545.8499755859375,
          540.2999877929688,
          544.7999877929688,
          543.1500244140625,
          554.5999755859375,
          561.7999877929688,
          566.3499755859375,
          564.75,
          578.2999877929688
         ],
         "high": [
          472,
          484.70001220703125,
          495,
          494.3999938964844,
          501.95001220703125,
          504.95001220703125,
          507.79998779296875,
          513.5,
          512.8499755859375,
          510.3500061035156,
          518.9000244140625,
          517.4500122070312,
          517.6500244140625,
          519.1500244140625,
          507.5,
          506.79998779296875,
          517.5,
          530.8499755859375,
          536.4000244140625,
          540.9000244140625,
          543.9500122070312,
          544.25,
          544.7000122070312,
          546.4000244140625,
          549,
          537.6500244140625,
          536.5,
          543.9500122070312,
          537.7000122070312,
          515.5999755859375,
          526.8499755859375,
          528,
          520,
          520.9000244140625,
          517.5,
          505.29998779296875,
          505.3500061035156,
          487.95001220703125,
          491.8999938964844,
          485.29998779296875,
          479.79998779296875,
          483.3999938964844,
          470.8999938964844,
          453.95001220703125,
          442.1000061035156,
          454.29998779296875,
          476.6499938964844,
          474.79998779296875,
          486,
          490.5,
          494.29998779296875,
          503.5,
          502,
          495.79998779296875,
          502.3999938964844,
          494.79998779296875,
          493.29998779296875,
          498.6000061035156,
          501.3999938964844,
          500.3999938964844,
          497.54998779296875,
          509.75,
          514.9000244140625,
          516.4000244140625,
          515.2000122070312,
          519.9000244140625,
          519.5,
          522,
          516.7000122070312,
          520.9000244140625,
          515,
          520.9500122070312,
          513.7000122070312,
          518,
          513.5,
          499.20001220703125,
          507.8999938964844,
          502.79998779296875,
          510,
          512.5,
          495,
          496.45001220703125,
          494,
          486.1000061035156,
          483.70001220703125,
          482.54998779296875,
          479,
          473,
          477,
          461.5,
          469.6499938964844,
          468.6000061035156,
          450,
          464,
          471.3999938964844,
          466.79998779296875,
          464.45001220703125,
          470.1000061035156,
          475,
          476.8999938964844,
          476.3999938964844,
          472,
          472.3500061035156,
          475.5,
          465.6000061035156,
          465.95001220703125,
          475.54998779296875,
          470.8999938964844,
          464.1499938964844,
          454.04998779296875,
          449.25,
          455.45001220703125,
          457.75,
          447.54998779296875,
          443.45001220703125,
          454.95001220703125,
          451.20001220703125,
          456.45001220703125,
          460.3500061035156,
          464.8500061035156,
          465.75,
          462.70001220703125,
          469.29998779296875,
          468.79998779296875,
          474.1499938964844,
          480,
          481,
          488.25,
          489.8999938964844,
          491.29998779296875,
          491.3500061035156,
          492.45001220703125,
          488.8999938964844,
          484.3999938964844,
          491.5,
          498.54998779296875,
          510.6000061035156,
          513.4000244140625,
          520.2000122070312,
          519,
          520.7999877929688,
          529.9500122070312,
          537.5,
          537,
          535,
          544.9000244140625,
          546.4000244140625,
          544,
          542.9000244140625,
          524,
          523.5,
          526,
          531.7999877929688,
          533.8499755859375,
          530.5499877929688,
          534.7999877929688,
          533.6500244140625,
          519.9000244140625,
          524,
          523,
          528.2999877929688,
          529.5,
          517,
          532.5,
          540.9000244140625,
          537.8499755859375,
          540.7999877929688,
          542.7000122070312,
          537.4500122070312,
          546.2999877929688,
          557,
          558.5999755859375,
          560,
          574.8499755859375,
          578.5,
          574,
          574.4000244140625,
          577.9500122070312,
          577.2999877929688,
          574,
          568,
          549,
          550.9000244140625,
          539.7999877929688,
          535.7000122070312,
          536.9000244140625,
          531.6500244140625,
          535.7999877929688,
          541.7999877929688,
          535.5999755859375,
          533.9000244140625,
          533.7000122070312,
          535,
          533.7999877929688,
          534.8499755859375,
          544.7000122070312,
          563.5,
          563.4500122070312,
          556.7999877929688,
          565.7999877929688,
          572.5,
          586.2000122070312,
          585,
          582.6500244140625,
          577.4500122070312,
          585.75,
          578.9500122070312,
          587.9500122070312,
          596.9500122070312,
          622.7000122070312,
          621,
          615.0999755859375,
          619.5499877929688,
          603.9500122070312,
          602.0999755859375,
          603.5,
          602.75,
          605.75,
          602.0999755859375,
          600.7000122070312,
          609.5999755859375,
          611.2999877929688,
          613.7000122070312,
          610.9000244140625,
          611.7999877929688,
          611.4000244140625,
          609.7999877929688,
          609.5999755859375,
          618,
          619.7999877929688,
          612.9000244140625,
          613.7999877929688,
          618,
          618.7000122070312,
          617.4000244140625,
          626.75,
          629.5499877929688,
          615.5999755859375,
          609.5,
          606.5,
          609.1500244140625,
          599,
          590.7000122070312,
          601.7000122070312,
          603.0999755859375,
          607,
          618,
          620.5499877929688,
          619.2000122070312,
          616.5999755859375,
          614.9500122070312,
          611.5999755859375,
          607.4500122070312,
          609,
          609,
          599.5,
          597.9000244140625,
          602.9000244140625,
          606.0999755859375,
          606,
          597.1500244140625,
          591.75,
          596.5999755859375,
          601.75,
          604.5999755859375,
          595.8499755859375,
          568.5499877929688,
          554.3499755859375,
          557,
          565,
          532.6500244140625,
          545.9500122070312,
          558.7999877929688,
          551.4000244140625,
          554.5,
          552,
          557.25,
          556.9000244140625,
          544.5999755859375,
          544.6500244140625,
          546.8499755859375,
          539.6500244140625,
          533.9500122070312,
          528.9500122070312,
          521.9000244140625,
          524,
          527.5,
          529.7999877929688,
          528.4500122070312,
          537.4000244140625,
          539.9000244140625,
          564.2999877929688,
          567.9000244140625,
          565.5,
          565.75,
          554.9500122070312,
          553.1500244140625,
          532.7999877929688,
          532,
          529.3499755859375,
          531.5999755859375,
          526.5999755859375,
          523.4500122070312,
          527,
          521,
          514.9500122070312,
          514.1500244140625,
          511.75,
          518,
          524.9000244140625,
          528.5,
          527.5999755859375,
          533.7000122070312,
          530.4000244140625,
          535.7000122070312,
          534,
          534.25,
          545,
          548.5,
          547.5,
          545.4500122070312,
          546.4000244140625,
          555.5499877929688,
          567.9000244140625,
          567,
          567.4000244140625,
          580.4500122070312
         ],
         "low": [
          460.1000061035156,
          471.04998779296875,
          479.1499938964844,
          485.3999938964844,
          489.45001220703125,
          492.5,
          499.25,
          508.5,
          507,
          505.1499938964844,
          507.54998779296875,
          505,
          500.29998779296875,
          508,
          498,
          488,
          489,
          503.20001220703125,
          521.4000244140625,
          527.0499877929688,
          520,
          531.3499755859375,
          537.1500244140625,
          527.2999877929688,
          525.25,
          519,
          527.75,
          534.4000244140625,
          527.0999755859375,
          499.70001220703125,
          497.1000061035156,
          514,
          511.1499938964844,
          510.1000061035156,
          504.6499938964844,
          495.5,
          497.25,
          468,
          479.29998779296875,
          473.1000061035156,
          467,
          464.6000061035156,
          457.6499938964844,
          433.45001220703125,
          425,
          438.54998779296875,
          461.6499938964844,
          462,
          470.54998779296875,
          480.6499938964844,
          489.3999938964844,
          498.29998779296875,
          489,
          477.25,
          489.20001220703125,
          483.5,
          486.6000061035156,
          481.95001220703125,
          491.70001220703125,
          492.29998779296875,
          492.20001220703125,
          491,
          506,
          507.70001220703125,
          506,
          510.04998779296875,
          512.3499755859375,
          513.2000122070312,
          504.3500061035156,
          513.75,
          504,
          505.1000061035156,
          507,
          512.2000122070312,
          499,
          490.04998779296875,
          498.45001220703125,
          491.8500061035156,
          496.5,
          494,
          481.29998779296875,
          477.5,
          478.6499938964844,
          471,
          473.79998779296875,
          473.5,
          463.6499938964844,
          456.3500061035156,
          439.75,
          438.8500061035156,
          456.1499938964844,
          457.1000061035156,
          444.45001220703125,
          454.1499938964844,
          459.5,
          460.20001220703125,
          452.04998779296875,
          452.5,
          467.5,
          471.1000061035156,
          465,
          464.70001220703125,
          466.1499938964844,
          463.5,
          456.5,
          460.5,
          463.20001220703125,
          462.45001220703125,
          458.6000061035156,
          442.1000061035156,
          443.3500061035156,
          448.6000061035156,
          440.1499938964844,
          437.25,
          430.70001220703125,
          437.6000061035156,
          444.6499938964844,
          446,
          453.20001220703125,
          458.04998779296875,
          458,
          458,
          458.6000061035156,
          460.54998779296875,
          466.8500061035156,
          471,
          473.8999938964844,
          481.6000061035156,
          485.1499938964844,
          485,
          483.1000061035156,
          484.54998779296875,
          476.79998779296875,
          474.70001220703125,
          482.1000061035156,
          488,
          500.3999938964844,
          506.75,
          511.20001220703125,
          509.1499938964844,
          513.0999755859375,
          512.25,
          529.5499877929688,
          526.75,
          526.4000244140625,
          531.0999755859375,
          534.6500244140625,
          524.2000122070312,
          529,
          513.8499755859375,
          513.4000244140625,
          517.2000122070312,
          525.1500244140625,
          525,
          524.3499755859375,
          526.2000122070312,
          518.5,
          510,
          508.25,
          512.2999877929688,
          518.5,
          522.2000122070312,
          508.75,
          517.9500122070312,
          522.25,
          531.25,
          536.2999877929688,
          534.0999755859375,
          531.5499877929688,
          535.5,
          548,
          551.25,
          553.75,
          549.25,
          567.9000244140625,
          560.2999877929688,
          559.5499877929688,
          572.8499755859375,
          565.4000244140625,
          562,
          549.5,
          533,
          533.2000122070312,
          520.3499755859375,
          519.5499877929688,
          516.1500244140625,
          518.5,
          527.7999877929688,
          534.5999755859375,
          526.5499877929688,
          522.2000122070312,
          525.5,
          526,
          520.2000122070312,
          526,
          524.2000122070312,
          546.75,
          551.5499877929688,
          545.2999877929688,
          557.25,
          565.9000244140625,
          568,
          577.5999755859375,
          567,
          568.4000244140625,
          574.5999755859375,
          569.9000244140625,
          568,
          580.4000244140625,
          607.7000122070312,
          610.5499877929688,
          602.2000122070312,
          598.5,
          591.6500244140625,
          592.6500244140625,
          596,
          596.1500244140625,
          597.1500244140625,
          595.3499755859375,
          596.1500244140625,
          601,
          605.7999877929688,
          606.25,
          602.3499755859375,
          607.0999755859375,
          598.4000244140625,
          601.5499877929688,
          604.25,
          607.5499877929688,
          607.7999877929688,
          604.5,
          607.1500244140625,
          609.0999755859375,
          611,
          612.5,
          617.5,
          614.2999877929688,
          602.0999755859375,
          603,
          599.5499877929688,
          589.5999755859375,
          587.5499877929688,
          571.5,
          570.7000122070312,
          593.2999877929688,
          598.5499877929688,
          597.1500244140625,
          611.3499755859375,
          611.2000122070312,
          610,
          604,
          601.9500122070312,
          597,
          600.0999755859375,
          590.5999755859375,
          592.25,
          590.0999755859375,
          593.6500244140625,
          600.5999755859375,
          586.0499877929688,
          587.5999755859375,
          587.5499877929688,
          590.7999877929688,
          592.9500122070312,
          593.0499877929688,
          567.4000244140625,
          532.25,
          525.2000122070312,
          537.8499755859375,
          499.3500061035156,
          502.5,
          519.1500244140625,
          536.5499877929688,
          541.0499877929688,
          545.5,
          542.7999877929688,
          546.5,
          533.2999877929688,
          530.75,
          536.7999877929688,
          538.5,
          527.75,
          522.1500244140625,
          522.4000244140625,
          512.5,
          511.3500061035156,
          517.5999755859375,
          519,
          521.0499877929688,
          523.0999755859375,
          532.5,
          541.75,
          559,
          556.4500122070312,
          558,
          545,
          528.4500122070312,
          520,
          515.5499877929688,
          514.2999877929688,
          520.0999755859375,
          515,
          516.4500122070312,
          520.0999755859375,
          511.5,
          503.45001220703125,
          501.54998779296875,
          503.8500061035156,
          506.29998779296875,
          519.3499755859375,
          522.0999755859375,
          519.0499877929688,
          521.6500244140625,
          524.4000244140625,
          527.1500244140625,
          526,
          527.1500244140625,
          528,
          540.5,
          538.25,
          536.6500244140625,
          539.7000122070312,
          543.5,
          555,
          556.4500122070312,
          561.0999755859375,
          565.5
         ],
         "open": [
          462,
          472.5,
          481.8999938964844,
          487.70001220703125,
          493.45001220703125,
          493.3500061035156,
          503,
          509.8999938964844,
          510,
          509,
          508,
          514,
          505,
          516,
          505.29998779296875,
          502.3999938964844,
          490,
          503.54998779296875,
          534,
          529,
          543.9500122070312,
          536.6500244140625,
          537.1500244140625,
          542.1500244140625,
          531.9000244140625,
          535.5,
          534.9500122070312,
          537.0999755859375,
          536.25,
          515,
          502,
          526.5,
          520,
          510.1000061035156,
          511.54998779296875,
          500.8999938964844,
          503,
          480,
          480,
          476.8999938964844,
          478,
          480,
          460.29998779296875,
          447.5,
          438,
          442,
          469.8999938964844,
          466.3999938964844,
          471,
          489,
          493,
          499,
          502,
          490.6000061035156,
          498.5,
          485,
          491.75,
          490.95001220703125,
          500,
          499.29998779296875,
          494.29998779296875,
          491,
          509.29998779296875,
          514.4000244140625,
          507,
          510.04998779296875,
          519.5,
          513.5,
          512.75,
          514.2999877929688,
          512,
          513.25,
          512,
          513.4000244140625,
          512.9000244140625,
          495,
          499,
          500,
          499.1499938964844,
          508.1000061035156,
          492.6499938964844,
          492,
          485,
          471,
          477.1000061035156,
          477,
          475.25,
          473,
          469.45001220703125,
          445,
          458.29998779296875,
          467.8999938964844,
          449.04998779296875,
          454.8500061035156,
          463.1000061035156,
          462.3999938964844,
          461,
          456.8500061035156,
          471.3999938964844,
          473,
          474,
          468,
          466.8999938964844,
          473.25,
          464.20001220703125,
          461.8500061035156,
          466.6000061035156,
          468.95001220703125,
          462,
          454,
          445,
          448.95001220703125,
          455.1499938964844,
          440,
          441.5,
          439.5,
          448.75,
          449,
          455.79998779296875,
          459.95001220703125,
          458.8999938964844,
          460,
          459,
          463.3500061035156,
          466.8500061035156,
          475.1499938964844,
          475.1499938964844,
          484,
          489,
          485,
          485,
          487.75,
          486.6000061035156,
          482.54998779296875,
          484.54998779296875,
          488,
          501,
          509.79998779296875,
          513.4500122070312,
          513.4000244140625,
          517.7000122070312,
          515.2999877929688,
          533.2000122070312,
          535.0499877929688,
          529.0499877929688,
          531.9000244140625,
          541.9000244140625,
          543.6500244140625,
          535.5499877929688,
          524,
          521.5499877929688,
          520,
          525.7000122070312,
          533.2999877929688,
          528.8499755859375,
          526.8499755859375,
          532,
          519,
          508.25,
          519,
          521.9500122070312,
          523.7999877929688,
          511.29998779296875,
          518.2000122070312,
          522.25,
          537,
          537,
          538,
          534.4000244140625,
          536,
          549.6500244140625,
          554.9000244140625,
          560,
          550,
          572.5499877929688,
          569.0999755859375,
          560.7000122070312,
          577.9500122070312,
          575,
          566.75,
          564.7999877929688,
          545.7999877929688,
          544.5499877929688,
          532.9000244140625,
          529,
          524,
          527.5999755859375,
          533,
          534.5999755859375,
          535.5,
          525.7000122070312,
          530.75,
          530,
          533,
          530.2000122070312,
          526.4000244140625,
          547.0999755859375,
          563,
          552,
          557.25,
          567,
          572.5,
          583.9500122070312,
          579.9500122070312,
          574.9500122070312,
          576.3499755859375,
          575.9000244140625,
          569,
          586,
          613,
          621,
          613.0999755859375,
          617.25,
          603.9500122070312,
          594.2999877929688,
          599.9500122070312,
          599.0999755859375,
          601,
          602.0999755859375,
          598.1500244140625,
          601.5499877929688,
          609.75,
          610.5499877929688,
          605.5999755859375,
          607.0999755859375,
          608.5,
          607.8499755859375,
          607.5,
          608.5,
          614.75,
          610.8499755859375,
          609.75,
          614.4000244140625,
          614.7999877929688,
          613.5,
          618.5,
          625.5499877929688,
          612,
          604,
          603,
          605.9000244140625,
          597,
          590,
          574,
          600.4000244140625,
          600.9000244140625,
          600,
          615.25,
          614.9500122070312,
          614.5,
          611.8499755859375,
          607,
          607.4000244140625,
          605,
          608.4500122070312,
          596.4500122070312,
          597.9000244140625,
          597.9000244140625,
          603,
          603,
          595.9000244140625,
          591,
          593.7999877929688,
          598.5,
          603.5,
          595.8499755859375,
          568,
          536,
          545,
          561.4000244140625,
          520.2000122070312,
          536,
          558.7999877929688,
          548,
          550,
          552,
          546.5,
          554,
          539.9500122070312,
          540,
          546.8499755859375,
          538.5,
          532,
          527.0999755859375,
          520.75,
          516.9500122070312,
          524.2000122070312,
          521.0999755859375,
          527.25,
          523.25,
          535.9500122070312,
          542,
          564.9000244140625,
          560,
          564.75,
          553.0999755859375,
          547,
          527.6500244140625,
          529.7999877929688,
          518.4000244140625,
          528.6500244140625,
          526.5999755859375,
          522,
          522.2000122070312,
          519.4000244140625,
          514.5,
          507,
          511.45001220703125,
          509,
          520.6500244140625,
          524.75,
          527,
          524,
          529.25,
          530.8499755859375,
          533.2000122070312,
          529.2999877929688,
          528,
          545.3499755859375,
          544,
          541.2000122070312,
          545,
          543.7999877929688,
          555,
          562,
          565,
          567.7999877929688
         ],
         "type": "candlestick",
         "x": [
          "2022-01-03T00:00:00",
          "2022-01-04T00:00:00",
          "2022-01-05T00:00:00",
          "2022-01-06T00:00:00",
          "2022-01-07T00:00:00",
          "2022-01-10T00:00:00",
          "2022-01-11T00:00:00",
          "2022-01-12T00:00:00",
          "2022-01-13T00:00:00",
          "2022-01-14T00:00:00",
          "2022-01-17T00:00:00",
          "2022-01-18T00:00:00",
          "2022-01-19T00:00:00",
          "2022-01-20T00:00:00",
          "2022-01-21T00:00:00",
          "2022-01-24T00:00:00",
          "2022-01-25T00:00:00",
          "2022-01-27T00:00:00",
          "2022-01-28T00:00:00",
          "2022-01-31T00:00:00",
          "2022-02-01T00:00:00",
          "2022-02-02T00:00:00",
          "2022-02-03T00:00:00",
          "2022-02-04T00:00:00",
          "2022-02-07T00:00:00",
          "2022-02-08T00:00:00",
          "2022-02-09T00:00:00",
          "2022-02-10T00:00:00",
          "2022-02-11T00:00:00",
          "2022-02-14T00:00:00",
          "2022-02-15T00:00:00",
          "2022-02-16T00:00:00",
          "2022-02-17T00:00:00",
          "2022-02-18T00:00:00",
          "2022-02-21T00:00:00",
          "2022-02-22T00:00:00",
          "2022-02-23T00:00:00",
          "2022-02-24T00:00:00",
          "2022-02-25T00:00:00",
          "2022-02-28T00:00:00",
          "2022-03-02T00:00:00",
          "2022-03-03T00:00:00",
          "2022-03-04T00:00:00",
          "2022-03-07T00:00:00",
          "2022-03-08T00:00:00",
          "2022-03-09T00:00:00",
          "2022-03-10T00:00:00",
          "2022-03-11T00:00:00",
          "2022-03-14T00:00:00",
          "2022-03-15T00:00:00",
          "2022-03-16T00:00:00",
          "2022-03-17T00:00:00",
          "2022-03-21T00:00:00",
          "2022-03-22T00:00:00",
          "2022-03-23T00:00:00",
          "2022-03-24T00:00:00",
          "2022-03-25T00:00:00",
          "2022-03-28T00:00:00",
          "2022-03-29T00:00:00",
          "2022-03-30T00:00:00",
          "2022-03-31T00:00:00",
          "2022-04-01T00:00:00",
          "2022-04-04T00:00:00",
          "2022-04-05T00:00:00",
          "2022-04-06T00:00:00",
          "2022-04-07T00:00:00",
          "2022-04-08T00:00:00",
          "2022-04-11T00:00:00",
          "2022-04-12T00:00:00",
          "2022-04-13T00:00:00",
          "2022-04-18T00:00:00",
          "2022-04-19T00:00:00",
          "2022-04-20T00:00:00",
          "2022-04-21T00:00:00",
          "2022-04-22T00:00:00",
          "2022-04-25T00:00:00",
          "2022-04-26T00:00:00",
          "2022-04-27T00:00:00",
          "2022-04-28T00:00:00",
          "2022-04-29T00:00:00",
          "2022-05-02T00:00:00",
          "2022-05-04T00:00:00",
          "2022-05-05T00:00:00",
          "2022-05-06T00:00:00",
          "2022-05-09T00:00:00",
          "2022-05-10T00:00:00",
          "2022-05-11T00:00:00",
          "2022-05-12T00:00:00",
          "2022-05-13T00:00:00",
          "2022-05-16T00:00:00",
          "2022-05-17T00:00:00",
          "2022-05-18T00:00:00",
          "2022-05-19T00:00:00",
          "2022-05-20T00:00:00",
          "2022-05-23T00:00:00",
          "2022-05-24T00:00:00",
          "2022-05-25T00:00:00",
          "2022-05-26T00:00:00",
          "2022-05-27T00:00:00",
          "2022-05-30T00:00:00",
          "2022-05-31T00:00:00",
          "2022-06-01T00:00:00",
          "2022-06-02T00:00:00",
          "2022-06-03T00:00:00",
          "2022-06-06T00:00:00",
          "2022-06-07T00:00:00",
          "2022-06-08T00:00:00",
          "2022-06-09T00:00:00",
          "2022-06-10T00:00:00",
          "2022-06-13T00:00:00",
          "2022-06-14T00:00:00",
          "2022-06-15T00:00:00",
          "2022-06-16T00:00:00",
          "2022-06-17T00:00:00",
          "2022-06-20T00:00:00",
          "2022-06-21T00:00:00",
          "2022-06-22T00:00:00",
          "2022-06-23T00:00:00",
          "2022-06-24T00:00:00",
          "2022-06-27T00:00:00",
          "2022-06-28T00:00:00",
          "2022-06-29T00:00:00",
          "2022-06-30T00:00:00",
          "2022-07-01T00:00:00",
          "2022-07-04T00:00:00",
          "2022-07-05T00:00:00",
          "2022-07-06T00:00:00",
          "2022-07-07T00:00:00",
          "2022-07-08T00:00:00",
          "2022-07-11T00:00:00",
          "2022-07-12T00:00:00",
          "2022-07-13T00:00:00",
          "2022-07-14T00:00:00",
          "2022-07-15T00:00:00",
          "2022-07-18T00:00:00",
          "2022-07-19T00:00:00",
          "2022-07-20T00:00:00",
          "2022-07-21T00:00:00",
          "2022-07-22T00:00:00",
          "2022-07-25T00:00:00",
          "2022-07-26T00:00:00",
          "2022-07-27T00:00:00",
          "2022-07-28T00:00:00",
          "2022-07-29T00:00:00",
          "2022-08-01T00:00:00",
          "2022-08-02T00:00:00",
          "2022-08-03T00:00:00",
          "2022-08-04T00:00:00",
          "2022-08-05T00:00:00",
          "2022-08-08T00:00:00",
          "2022-08-10T00:00:00",
          "2022-08-11T00:00:00",
          "2022-08-12T00:00:00",
          "2022-08-16T00:00:00",
          "2022-08-17T00:00:00",
          "2022-08-18T00:00:00",
          "2022-08-19T00:00:00",
          "2022-08-22T00:00:00",
          "2022-08-23T00:00:00",
          "2022-08-24T00:00:00",
          "2022-08-25T00:00:00",
          "2022-08-26T00:00:00",
          "2022-08-29T00:00:00",
          "2022-08-30T00:00:00",
          "2022-09-01T00:00:00",
          "2022-09-02T00:00:00",
          "2022-09-05T00:00:00",
          "2022-09-06T00:00:00",
          "2022-09-07T00:00:00",
          "2022-09-08T00:00:00",
          "2022-09-09T00:00:00",
          "2022-09-12T00:00:00",
          "2022-09-13T00:00:00",
          "2022-09-14T00:00:00",
          "2022-09-15T00:00:00",
          "2022-09-16T00:00:00",
          "2022-09-19T00:00:00",
          "2022-09-20T00:00:00",
          "2022-09-21T00:00:00",
          "2022-09-22T00:00:00",
          "2022-09-23T00:00:00",
          "2022-09-26T00:00:00",
          "2022-09-27T00:00:00",
          "2022-09-28T00:00:00",
          "2022-09-29T00:00:00",
          "2022-09-30T00:00:00",
          "2022-10-03T00:00:00",
          "2022-10-04T00:00:00",
          "2022-10-06T00:00:00",
          "2022-10-07T00:00:00",
          "2022-10-10T00:00:00",
          "2022-10-11T00:00:00",
          "2022-10-12T00:00:00",
          "2022-10-13T00:00:00",
          "2022-10-14T00:00:00",
          "2022-10-17T00:00:00",
          "2022-10-18T00:00:00",
          "2022-10-19T00:00:00",
          "2022-10-20T00:00:00",
          "2022-10-21T00:00:00",
          "2022-10-24T00:00:00",
          "2022-10-25T00:00:00",
          "2022-10-27T00:00:00",
          "2022-10-28T00:00:00",
          "2022-10-31T00:00:00",
          "2022-11-01T00:00:00",
          "2022-11-02T00:00:00",
          "2022-11-03T00:00:00",
          "2022-11-04T00:00:00",
          "2022-11-07T00:00:00",
          "2022-11-09T00:00:00",
          "2022-11-10T00:00:00",
          "2022-11-11T00:00:00",
          "2022-11-14T00:00:00",
          "2022-11-15T00:00:00",
          "2022-11-16T00:00:00",
          "2022-11-17T00:00:00",
          "2022-11-18T00:00:00",
          "2022-11-21T00:00:00",
          "2022-11-22T00:00:00",
          "2022-11-23T00:00:00",
          "2022-11-24T00:00:00",
          "2022-11-25T00:00:00",
          "2022-11-28T00:00:00",
          "2022-11-29T00:00:00",
          "2022-11-30T00:00:00",
          "2022-12-01T00:00:00",
          "2022-12-02T00:00:00",
          "2022-12-05T00:00:00",
          "2022-12-06T00:00:00",
          "2022-12-07T00:00:00",
          "2022-12-08T00:00:00",
          "2022-12-09T00:00:00",
          "2022-12-12T00:00:00",
          "2022-12-13T00:00:00",
          "2022-12-14T00:00:00",
          "2022-12-15T00:00:00",
          "2022-12-16T00:00:00",
          "2022-12-19T00:00:00",
          "2022-12-20T00:00:00",
          "2022-12-21T00:00:00",
          "2022-12-22T00:00:00",
          "2022-12-23T00:00:00",
          "2022-12-26T00:00:00",
          "2022-12-27T00:00:00",
          "2022-12-28T00:00:00",
          "2022-12-29T00:00:00",
          "2022-12-30T00:00:00",
          "2023-01-02T00:00:00",
          "2023-01-03T00:00:00",
          "2023-01-04T00:00:00",
          "2023-01-05T00:00:00",
          "2023-01-06T00:00:00",
          "2023-01-09T00:00:00",
          "2023-01-10T00:00:00",
          "2023-01-11T00:00:00",
          "2023-01-12T00:00:00",
          "2023-01-13T00:00:00",
          "2023-01-16T00:00:00",
          "2023-01-17T00:00:00",
          "2023-01-18T00:00:00",
          "2023-01-19T00:00:00",
          "2023-01-20T00:00:00",
          "2023-01-23T00:00:00",
          "2023-01-24T00:00:00",
          "2023-01-25T00:00:00",
          "2023-01-27T00:00:00",
          "2023-01-30T00:00:00",
          "2023-01-31T00:00:00",
          "2023-02-01T00:00:00",
          "2023-02-02T00:00:00",
          "2023-02-03T00:00:00",
          "2023-02-06T00:00:00",
          "2023-02-07T00:00:00",
          "2023-02-08T00:00:00",
          "2023-02-09T00:00:00",
          "2023-02-10T00:00:00",
          "2023-02-13T00:00:00",
          "2023-02-14T00:00:00",
          "2023-02-15T00:00:00",
          "2023-02-16T00:00:00",
          "2023-02-17T00:00:00",
          "2023-02-20T00:00:00",
          "2023-02-21T00:00:00",
          "2023-02-22T00:00:00",
          "2023-02-23T00:00:00",
          "2023-02-24T00:00:00",
          "2023-02-27T00:00:00",
          "2023-02-28T00:00:00",
          "2023-03-01T00:00:00",
          "2023-03-02T00:00:00",
          "2023-03-03T00:00:00",
          "2023-03-06T00:00:00",
          "2023-03-08T00:00:00",
          "2023-03-09T00:00:00",
          "2023-03-10T00:00:00",
          "2023-03-13T00:00:00",
          "2023-03-14T00:00:00",
          "2023-03-15T00:00:00",
          "2023-03-16T00:00:00",
          "2023-03-17T00:00:00",
          "2023-03-20T00:00:00",
          "2023-03-21T00:00:00",
          "2023-03-22T00:00:00",
          "2023-03-23T00:00:00",
          "2023-03-24T00:00:00",
          "2023-03-27T00:00:00",
          "2023-03-28T00:00:00",
          "2023-03-29T00:00:00",
          "2023-03-31T00:00:00",
          "2023-04-03T00:00:00",
          "2023-04-05T00:00:00",
          "2023-04-06T00:00:00",
          "2023-04-10T00:00:00",
          "2023-04-11T00:00:00",
          "2023-04-12T00:00:00",
          "2023-04-13T00:00:00",
          "2023-04-17T00:00:00",
          "2023-04-18T00:00:00",
          "2023-04-19T00:00:00",
          "2023-04-20T00:00:00",
          "2023-04-21T00:00:00",
          "2023-04-24T00:00:00",
          "2023-04-25T00:00:00",
          "2023-04-26T00:00:00",
          "2023-04-27T00:00:00",
          "2023-04-28T00:00:00"
         ]
        }
       ],
       "layout": {
        "shapes": [
         {
          "fillcolor": "LightSalmon",
          "layer": "below",
          "line": {
           "width": 0
          },
          "opacity": 0.5,
          "type": "rect",
          "x0": "2022-02-01T00:00:00",
          "x1": "2022-02-02T00:00:00",
          "xref": "x",
          "y0": 0,
          "y1": 1,
          "yref": "y domain"
         },
         {
          "fillcolor": "LightSalmon",
          "layer": "below",
          "line": {
           "width": 0
          },
          "opacity": 0.5,
          "type": "rect",
          "x0": "2022-02-04T00:00:00",
          "x1": "2022-02-07T00:00:00",
          "xref": "x",
          "y0": 0,
          "y1": 1,
          "yref": "y domain"
         },
         {
          "fillcolor": "LightSalmon",
          "layer": "below",
          "line": {
           "width": 0
          },
          "opacity": 0.5,
          "type": "rect",
          "x0": "2022-02-08T00:00:00",
          "x1": "2022-02-09T00:00:00",
          "xref": "x",
          "y0": 0,
          "y1": 1,
          "yref": "y domain"
         },
         {
          "fillcolor": "LightSalmon",
          "layer": "below",
          "line": {
           "width": 0
          },
          "opacity": 0.5,
          "type": "rect",
          "x0": "2022-05-10T00:00:00",
          "x1": "2022-05-11T00:00:00",
          "xref": "x",
          "y0": 0,
          "y1": 1,
          "yref": "y domain"
         },
         {
          "fillcolor": "LightSalmon",
          "layer": "below",
          "line": {
           "width": 0
          },
          "opacity": 0.5,
          "type": "rect",
          "x0": "2022-05-13T00:00:00",
          "x1": "2022-05-16T00:00:00",
          "xref": "x",
          "y0": 0,
          "y1": 1,
          "yref": "y domain"
         },
         {
          "fillcolor": "LightSalmon",
          "layer": "below",
          "line": {
           "width": 0
          },
          "opacity": 0.5,
          "type": "rect",
          "x0": "2022-07-29T00:00:00",
          "x1": "2022-08-01T00:00:00",
          "xref": "x",
          "y0": 0,
          "y1": 1,
          "yref": "y domain"
         },
         {
          "fillcolor": "LightSalmon",
          "layer": "below",
          "line": {
           "width": 0
          },
          "opacity": 0.5,
          "type": "rect",
          "x0": "2022-11-14T00:00:00",
          "x1": "2022-11-15T00:00:00",
          "xref": "x",
          "y0": 0,
          "y1": 1,
          "yref": "y domain"
         },
         {
          "fillcolor": "LightSalmon",
          "layer": "below",
          "line": {
           "width": 0
          },
          "opacity": 0.5,
          "type": "rect",
          "x0": "2022-11-21T00:00:00",
          "x1": "2022-11-22T00:00:00",
          "xref": "x",
          "y0": 0,
          "y1": 1,
          "yref": "y domain"
         },
         {
          "fillcolor": "LightSalmon",
          "layer": "below",
          "line": {
           "width": 0
          },
          "opacity": 0.5,
          "type": "rect",
          "x0": "2022-11-30T00:00:00",
          "x1": "2022-12-01T00:00:00",
          "xref": "x",
          "y0": 0,
          "y1": 1,
          "yref": "y domain"
         },
         {
          "fillcolor": "LightSalmon",
          "layer": "below",
          "line": {
           "width": 0
          },
          "opacity": 0.5,
          "type": "rect",
          "x0": "2022-12-16T00:00:00",
          "x1": "2022-12-19T00:00:00",
          "xref": "x",
          "y0": 0,
          "y1": 1,
          "yref": "y domain"
         },
         {
          "fillcolor": "LightSalmon",
          "layer": "below",
          "line": {
           "width": 0
          },
          "opacity": 0.5,
          "type": "rect",
          "x0": "2023-01-10T00:00:00",
          "x1": "2023-01-11T00:00:00",
          "xref": "x",
          "y0": 0,
          "y1": 1,
          "yref": "y domain"
         },
         {
          "fillcolor": "LightSalmon",
          "layer": "below",
          "line": {
           "width": 0
          },
          "opacity": 0.5,
          "type": "rect",
          "x0": "2023-02-13T00:00:00",
          "x1": "2023-02-14T00:00:00",
          "xref": "x",
          "y0": 0,
          "y1": 1,
          "yref": "y domain"
         },
         {
          "fillcolor": "LightSalmon",
          "layer": "below",
          "line": {
           "width": 0
          },
          "opacity": 0.5,
          "type": "rect",
          "x0": "2023-03-15T00:00:00",
          "x1": "2023-03-16T00:00:00",
          "xref": "x",
          "y0": 0,
          "y1": 1,
          "yref": "y domain"
         },
         {
          "fillcolor": "LightSalmon",
          "layer": "below",
          "line": {
           "width": 0
          },
          "opacity": 0.5,
          "type": "rect",
          "x0": "2023-03-24T00:00:00",
          "x1": "2023-03-27T00:00:00",
          "xref": "x",
          "y0": 0,
          "y1": 1,
          "yref": "y domain"
         },
         {
          "fillcolor": "LightSalmon",
          "layer": "below",
          "line": {
           "width": 0
          },
          "opacity": 0.5,
          "type": "rect",
          "x0": "2023-04-12T00:00:00",
          "x1": "2023-04-13T00:00:00",
          "xref": "x",
          "y0": 0,
          "y1": 1,
          "yref": "y domain"
         }
        ],
        "template": {
         "data": {
          "bar": [
           {
            "error_x": {
             "color": "#2a3f5f"
            },
            "error_y": {
             "color": "#2a3f5f"
            },
            "marker": {
             "line": {
              "color": "#E5ECF6",
              "width": 0.5
             },
             "pattern": {
              "fillmode": "overlay",
              "size": 10,
              "solidity": 0.2
             }
            },
            "type": "bar"
           }
          ],
          "barpolar": [
           {
            "marker": {
             "line": {
              "color": "#E5ECF6",
              "width": 0.5
             },
             "pattern": {
              "fillmode": "overlay",
              "size": 10,
              "solidity": 0.2
             }
            },
            "type": "barpolar"
           }
          ],
          "carpet": [
           {
            "aaxis": {
             "endlinecolor": "#2a3f5f",
             "gridcolor": "white",
             "linecolor": "white",
             "minorgridcolor": "white",
             "startlinecolor": "#2a3f5f"
            },
            "baxis": {
             "endlinecolor": "#2a3f5f",
             "gridcolor": "white",
             "linecolor": "white",
             "minorgridcolor": "white",
             "startlinecolor": "#2a3f5f"
            },
            "type": "carpet"
           }
          ],
          "choropleth": [
           {
            "colorbar": {
             "outlinewidth": 0,
             "ticks": ""
            },
            "type": "choropleth"
           }
          ],
          "contour": [
           {
            "colorbar": {
             "outlinewidth": 0,
             "ticks": ""
            },
            "colorscale": [
             [
              0,
              "#0d0887"
             ],
             [
              0.1111111111111111,
              "#46039f"
             ],
             [
              0.2222222222222222,
              "#7201a8"
             ],
             [
              0.3333333333333333,
              "#9c179e"
             ],
             [
              0.4444444444444444,
              "#bd3786"
             ],
             [
              0.5555555555555556,
              "#d8576b"
             ],
             [
              0.6666666666666666,
              "#ed7953"
             ],
             [
              0.7777777777777778,
              "#fb9f3a"
             ],
             [
              0.8888888888888888,
              "#fdca26"
             ],
             [
              1,
              "#f0f921"
             ]
            ],
            "type": "contour"
           }
          ],
          "contourcarpet": [
           {
            "colorbar": {
             "outlinewidth": 0,
             "ticks": ""
            },
            "type": "contourcarpet"
           }
          ],
          "heatmap": [
           {
            "colorbar": {
             "outlinewidth": 0,
             "ticks": ""
            },
            "colorscale": [
             [
              0,
              "#0d0887"
             ],
             [
              0.1111111111111111,
              "#46039f"
             ],
             [
              0.2222222222222222,
              "#7201a8"
             ],
             [
              0.3333333333333333,
              "#9c179e"
             ],
             [
              0.4444444444444444,
              "#bd3786"
             ],
             [
              0.5555555555555556,
              "#d8576b"
             ],
             [
              0.6666666666666666,
              "#ed7953"
             ],
             [
              0.7777777777777778,
              "#fb9f3a"
             ],
             [
              0.8888888888888888,
              "#fdca26"
             ],
             [
              1,
              "#f0f921"
             ]
            ],
            "type": "heatmap"
           }
          ],
          "heatmapgl": [
           {
            "colorbar": {
             "outlinewidth": 0,
             "ticks": ""
            },
            "colorscale": [
             [
              0,
              "#0d0887"
             ],
             [
              0.1111111111111111,
              "#46039f"
             ],
             [
              0.2222222222222222,
              "#7201a8"
             ],
             [
              0.3333333333333333,
              "#9c179e"
             ],
             [
              0.4444444444444444,
              "#bd3786"
             ],
             [
              0.5555555555555556,
              "#d8576b"
             ],
             [
              0.6666666666666666,
              "#ed7953"
             ],
             [
              0.7777777777777778,
              "#fb9f3a"
             ],
             [
              0.8888888888888888,
              "#fdca26"
             ],
             [
              1,
              "#f0f921"
             ]
            ],
            "type": "heatmapgl"
           }
          ],
          "histogram": [
           {
            "marker": {
             "pattern": {
              "fillmode": "overlay",
              "size": 10,
              "solidity": 0.2
             }
            },
            "type": "histogram"
           }
          ],
          "histogram2d": [
           {
            "colorbar": {
             "outlinewidth": 0,
             "ticks": ""
            },
            "colorscale": [
             [
              0,
              "#0d0887"
             ],
             [
              0.1111111111111111,
              "#46039f"
             ],
             [
              0.2222222222222222,
              "#7201a8"
             ],
             [
              0.3333333333333333,
              "#9c179e"
             ],
             [
              0.4444444444444444,
              "#bd3786"
             ],
             [
              0.5555555555555556,
              "#d8576b"
             ],
             [
              0.6666666666666666,
              "#ed7953"
             ],
             [
              0.7777777777777778,
              "#fb9f3a"
             ],
             [
              0.8888888888888888,
              "#fdca26"
             ],
             [
              1,
              "#f0f921"
             ]
            ],
            "type": "histogram2d"
           }
          ],
          "histogram2dcontour": [
           {
            "colorbar": {
             "outlinewidth": 0,
             "ticks": ""
            },
            "colorscale": [
             [
              0,
              "#0d0887"
             ],
             [
              0.1111111111111111,
              "#46039f"
             ],
             [
              0.2222222222222222,
              "#7201a8"
             ],
             [
              0.3333333333333333,
              "#9c179e"
             ],
             [
              0.4444444444444444,
              "#bd3786"
             ],
             [
              0.5555555555555556,
              "#d8576b"
             ],
             [
              0.6666666666666666,
              "#ed7953"
             ],
             [
              0.7777777777777778,
              "#fb9f3a"
             ],
             [
              0.8888888888888888,
              "#fdca26"
             ],
             [
              1,
              "#f0f921"
             ]
            ],
            "type": "histogram2dcontour"
           }
          ],
          "mesh3d": [
           {
            "colorbar": {
             "outlinewidth": 0,
             "ticks": ""
            },
            "type": "mesh3d"
           }
          ],
          "parcoords": [
           {
            "line": {
             "colorbar": {
              "outlinewidth": 0,
              "ticks": ""
             }
            },
            "type": "parcoords"
           }
          ],
          "pie": [
           {
            "automargin": true,
            "type": "pie"
           }
          ],
          "scatter": [
           {
            "fillpattern": {
             "fillmode": "overlay",
             "size": 10,
             "solidity": 0.2
            },
            "type": "scatter"
           }
          ],
          "scatter3d": [
           {
            "line": {
             "colorbar": {
              "outlinewidth": 0,
              "ticks": ""
             }
            },
            "marker": {
             "colorbar": {
              "outlinewidth": 0,
              "ticks": ""
             }
            },
            "type": "scatter3d"
           }
          ],
          "scattercarpet": [
           {
            "marker": {
             "colorbar": {
              "outlinewidth": 0,
              "ticks": ""
             }
            },
            "type": "scattercarpet"
           }
          ],
          "scattergeo": [
           {
            "marker": {
             "colorbar": {
              "outlinewidth": 0,
              "ticks": ""
             }
            },
            "type": "scattergeo"
           }
          ],
          "scattergl": [
           {
            "marker": {
             "colorbar": {
              "outlinewidth": 0,
              "ticks": ""
             }
            },
            "type": "scattergl"
           }
          ],
          "scattermapbox": [
           {
            "marker": {
             "colorbar": {
              "outlinewidth": 0,
              "ticks": ""
             }
            },
            "type": "scattermapbox"
           }
          ],
          "scatterpolar": [
           {
            "marker": {
             "colorbar": {
              "outlinewidth": 0,
              "ticks": ""
             }
            },
            "type": "scatterpolar"
           }
          ],
          "scatterpolargl": [
           {
            "marker": {
             "colorbar": {
              "outlinewidth": 0,
              "ticks": ""
             }
            },
            "type": "scatterpolargl"
           }
          ],
          "scatterternary": [
           {
            "marker": {
             "colorbar": {
              "outlinewidth": 0,
              "ticks": ""
             }
            },
            "type": "scatterternary"
           }
          ],
          "surface": [
           {
            "colorbar": {
             "outlinewidth": 0,
             "ticks": ""
            },
            "colorscale": [
             [
              0,
              "#0d0887"
             ],
             [
              0.1111111111111111,
              "#46039f"
             ],
             [
              0.2222222222222222,
              "#7201a8"
             ],
             [
              0.3333333333333333,
              "#9c179e"
             ],
             [
              0.4444444444444444,
              "#bd3786"
             ],
             [
              0.5555555555555556,
              "#d8576b"
             ],
             [
              0.6666666666666666,
              "#ed7953"
             ],
             [
              0.7777777777777778,
              "#fb9f3a"
             ],
             [
              0.8888888888888888,
              "#fdca26"
             ],
             [
              1,
              "#f0f921"
             ]
            ],
            "type": "surface"
           }
          ],
          "table": [
           {
            "cells": {
             "fill": {
              "color": "#EBF0F8"
             },
             "line": {
              "color": "white"
             }
            },
            "header": {
             "fill": {
              "color": "#C8D4E3"
             },
             "line": {
              "color": "white"
             }
            },
            "type": "table"
           }
          ]
         },
         "layout": {
          "annotationdefaults": {
           "arrowcolor": "#2a3f5f",
           "arrowhead": 0,
           "arrowwidth": 1
          },
          "autotypenumbers": "strict",
          "coloraxis": {
           "colorbar": {
            "outlinewidth": 0,
            "ticks": ""
           }
          },
          "colorscale": {
           "diverging": [
            [
             0,
             "#8e0152"
            ],
            [
             0.1,
             "#c51b7d"
            ],
            [
             0.2,
             "#de77ae"
            ],
            [
             0.3,
             "#f1b6da"
            ],
            [
             0.4,
             "#fde0ef"
            ],
            [
             0.5,
             "#f7f7f7"
            ],
            [
             0.6,
             "#e6f5d0"
            ],
            [
             0.7,
             "#b8e186"
            ],
            [
             0.8,
             "#7fbc41"
            ],
            [
             0.9,
             "#4d9221"
            ],
            [
             1,
             "#276419"
            ]
           ],
           "sequential": [
            [
             0,
             "#0d0887"
            ],
            [
             0.1111111111111111,
             "#46039f"
            ],
            [
             0.2222222222222222,
             "#7201a8"
            ],
            [
             0.3333333333333333,
             "#9c179e"
            ],
            [
             0.4444444444444444,
             "#bd3786"
            ],
            [
             0.5555555555555556,
             "#d8576b"
            ],
            [
             0.6666666666666666,
             "#ed7953"
            ],
            [
             0.7777777777777778,
             "#fb9f3a"
            ],
            [
             0.8888888888888888,
             "#fdca26"
            ],
            [
             1,
             "#f0f921"
            ]
           ],
           "sequentialminus": [
            [
             0,
             "#0d0887"
            ],
            [
             0.1111111111111111,
             "#46039f"
            ],
            [
             0.2222222222222222,
             "#7201a8"
            ],
            [
             0.3333333333333333,
             "#9c179e"
            ],
            [
             0.4444444444444444,
             "#bd3786"
            ],
            [
             0.5555555555555556,
             "#d8576b"
            ],
            [
             0.6666666666666666,
             "#ed7953"
            ],
            [
             0.7777777777777778,
             "#fb9f3a"
            ],
            [
             0.8888888888888888,
             "#fdca26"
            ],
            [
             1,
             "#f0f921"
            ]
           ]
          },
          "colorway": [
           "#636efa",
           "#EF553B",
           "#00cc96",
           "#ab63fa",
           "#FFA15A",
           "#19d3f3",
           "#FF6692",
           "#B6E880",
           "#FF97FF",
           "#FECB52"
          ],
          "font": {
           "color": "#2a3f5f"
          },
          "geo": {
           "bgcolor": "white",
           "lakecolor": "white",
           "landcolor": "#E5ECF6",
           "showlakes": true,
           "showland": true,
           "subunitcolor": "white"
          },
          "hoverlabel": {
           "align": "left"
          },
          "hovermode": "closest",
          "mapbox": {
           "style": "light"
          },
          "paper_bgcolor": "white",
          "plot_bgcolor": "#E5ECF6",
          "polar": {
           "angularaxis": {
            "gridcolor": "white",
            "linecolor": "white",
            "ticks": ""
           },
           "bgcolor": "#E5ECF6",
           "radialaxis": {
            "gridcolor": "white",
            "linecolor": "white",
            "ticks": ""
           }
          },
          "scene": {
           "xaxis": {
            "backgroundcolor": "#E5ECF6",
            "gridcolor": "white",
            "gridwidth": 2,
            "linecolor": "white",
            "showbackground": true,
            "ticks": "",
            "zerolinecolor": "white"
           },
           "yaxis": {
            "backgroundcolor": "#E5ECF6",
            "gridcolor": "white",
            "gridwidth": 2,
            "linecolor": "white",
            "showbackground": true,
            "ticks": "",
            "zerolinecolor": "white"
           },
           "zaxis": {
            "backgroundcolor": "#E5ECF6",
            "gridcolor": "white",
            "gridwidth": 2,
            "linecolor": "white",
            "showbackground": true,
            "ticks": "",
            "zerolinecolor": "white"
           }
          },
          "shapedefaults": {
           "line": {
            "color": "#2a3f5f"
           }
          },
          "ternary": {
           "aaxis": {
            "gridcolor": "white",
            "linecolor": "white",
            "ticks": ""
           },
           "baxis": {
            "gridcolor": "white",
            "linecolor": "white",
            "ticks": ""
           },
           "bgcolor": "#E5ECF6",
           "caxis": {
            "gridcolor": "white",
            "linecolor": "white",
            "ticks": ""
           }
          },
          "title": {
           "x": 0.05
          },
          "xaxis": {
           "automargin": true,
           "gridcolor": "white",
           "linecolor": "white",
           "ticks": "",
           "title": {
            "standoff": 15
           },
           "zerolinecolor": "white",
           "zerolinewidth": 2
          },
          "yaxis": {
           "automargin": true,
           "gridcolor": "white",
           "linecolor": "white",
           "ticks": "",
           "title": {
            "standoff": 15
           },
           "zerolinecolor": "white",
           "zerolinewidth": 2
          }
         }
        },
        "title": {
         "text": "Bullish harami pattern"
        },
        "xaxis": {
         "title": {
          "text": "Date"
         }
        },
        "yaxis": {
         "title": {
          "text": "Price"
         }
        }
       }
      }
     },
     "metadata": {},
     "output_type": "display_data"
    }
   ],
   "source": [
    "display_pattern(df, bullish_harami, \"Bullish harami\")"
   ]
  }
 ],
 "metadata": {
  "kernelspec": {
   "display_name": "Python 3",
   "language": "python",
   "name": "python3"
  },
  "language_info": {
   "codemirror_mode": {
    "name": "ipython",
    "version": 3
   },
   "file_extension": ".py",
   "mimetype": "text/x-python",
   "name": "python",
   "nbconvert_exporter": "python",
   "pygments_lexer": "ipython3",
   "version": "3.11.3"
  },
  "orig_nbformat": 4
 },
 "nbformat": 4,
 "nbformat_minor": 2
}
